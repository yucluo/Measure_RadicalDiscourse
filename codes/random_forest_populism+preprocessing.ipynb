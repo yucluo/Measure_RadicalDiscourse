{
 "cells": [
  {
   "cell_type": "code",
   "execution_count": 17,
   "metadata": {},
   "outputs": [],
   "source": [
    "from gensim.models.doc2vec import Doc2Vec, TaggedDocument\n",
    "from gensim.models.deprecated.doc2vec import LabeledSentence\n",
    "from gensim.models.word2vec import Word2Vec\n",
    "from gensim.models.phrases import Phraser, Phrases\n",
    "from gensim.parsing.porter import PorterStemmer\n",
    "from gensim.parsing.preprocessing import STOPWORDS\n",
    "\n",
    "import pandas as pd\n",
    "import numpy as np\n",
    "import string\n",
    "import re\n",
    "import random \n",
    "import os\n",
    "import csv\n",
    "\n",
    "from sklearn.ensemble import GradientBoostingClassifier, RandomForestClassifier\n",
    "from sklearn.model_selection import train_test_split, KFold, cross_val_score, GridSearchCV\n",
    "from sklearn import metrics\n",
    "#from sklearn.grid_search import GridSearchCV\n",
    "from sklearn.calibration import CalibratedClassifierCV\n",
    "from sklearn.metrics import confusion_matrix, precision_recall_curve\n",
    "from sklearn.metrics import plot_precision_recall_curve\n",
    "from sklearn.feature_extraction.text import CountVectorizer\n",
    "from sklearn.utils.multiclass import unique_labels\n",
    "from sklearn.metrics import auc\n",
    "from sklearn.model_selection import cross_val_score\n",
    "from sklearn.model_selection import cross_validate\n",
    "from sklearn.model_selection import RepeatedStratifiedKFold\n",
    "from sklearn.metrics import average_precision_score\n",
    "from sklearn.feature_extraction.text import CountVectorizer\n",
    "from sklearn.feature_extraction.text import TfidfTransformer\n",
    "from sklearn.pipeline import Pipeline\n",
    "\n",
    "from imblearn.ensemble import BalancedRandomForestClassifier\n",
    "from imblearn.ensemble import EasyEnsembleClassifier\n",
    "from imblearn.over_sampling import SMOTE\n",
    "from imblearn.under_sampling import RandomUnderSampler\n",
    "from imblearn.pipeline import Pipeline\n",
    "\n",
    "from modAL.models import ActiveLearner\n",
    "from modAL.uncertainty import uncertainty_sampling\n",
    "from modAL.uncertainty import entropy_sampling\n",
    "from modAL.density import information_density\n",
    "\n",
    "from scipy.stats import entropy\n",
    "\n",
    "import gensim\n",
    "import gensim.downloader as gensim_api\n",
    "from numpy import asarray\n",
    "from numpy import savetxt\n",
    "from numpy import loadtxt"
   ]
  },
  {
   "cell_type": "markdown",
   "metadata": {},
   "source": [
    "# Clean Data"
   ]
  },
  {
   "cell_type": "code",
   "execution_count": 25,
   "metadata": {},
   "outputs": [],
   "source": [
    "porter = PorterStemmer()\n",
    "punctuation_dictionary = {s:None for s in list(string.punctuation)}\n",
    "#punctuation_dictionary[\"-\"] = \"_\"\n",
    "\n",
    "punctuation_translator = str.maketrans(punctuation_dictionary)\n",
    "\n",
    "def text_cleaner(text, punctuation_translator, stemmer):\n",
    "    text = str(text).translate(punctuation_translator)\n",
    "    text = text.lower()\n",
    "    text = re.split(' ',text)\n",
    "    text = [porter.stem(word) for word in text]\n",
    "    text = \" \".join(text)\n",
    "    return(text)\n",
    "\n",
    "dat = pd.read_csv(\"20201115_all_paragraphs.csv\")\n",
    "dat[\"clean_text\"] = dat[\"text\"].apply(lambda x: text_cleaner(x, punctuation_translator, porter))\n"
   ]
  },
  {
   "cell_type": "code",
   "execution_count": 26,
   "metadata": {},
   "outputs": [],
   "source": [
    "dat['speech_par_id'] = dat['Speech_id'].astype(str) + \"_\" + dat['par_id'].astype(str)"
   ]
  },
  {
   "cell_type": "code",
   "execution_count": 268,
   "metadata": {},
   "outputs": [
    {
     "data": {
      "text/html": [
       "<div>\n",
       "<style scoped>\n",
       "    .dataframe tbody tr th:only-of-type {\n",
       "        vertical-align: middle;\n",
       "    }\n",
       "\n",
       "    .dataframe tbody tr th {\n",
       "        vertical-align: top;\n",
       "    }\n",
       "\n",
       "    .dataframe thead th {\n",
       "        text-align: right;\n",
       "    }\n",
       "</style>\n",
       "<table border=\"1\" class=\"dataframe\">\n",
       "  <thead>\n",
       "    <tr style=\"text-align: right;\">\n",
       "      <th></th>\n",
       "      <th>Unnamed: 0</th>\n",
       "      <th>Unnamed: 0.1</th>\n",
       "      <th>Unnamed: 0.1.1</th>\n",
       "      <th>Speech_id</th>\n",
       "      <th>text</th>\n",
       "      <th>party</th>\n",
       "      <th>term</th>\n",
       "      <th>comp</th>\n",
       "      <th>populist_old_keywords</th>\n",
       "      <th>par_id</th>\n",
       "      <th>label</th>\n",
       "      <th>test</th>\n",
       "      <th>clean_text</th>\n",
       "      <th>phrased_text</th>\n",
       "      <th>doc_id</th>\n",
       "      <th>uniq_id</th>\n",
       "      <th>total_id</th>\n",
       "    </tr>\n",
       "  </thead>\n",
       "  <tbody>\n",
       "    <tr>\n",
       "      <th>2383</th>\n",
       "      <td>2383</td>\n",
       "      <td>2383</td>\n",
       "      <td>2383</td>\n",
       "      <td>1822</td>\n",
       "      <td>And I say to you: you know what we can do.  You know how we will react to Mr. Khrushchev or to anyone else because we have been through the test. Now let us look at our opponent for a moment.  What do we know about him?  First of all, we know something about him as far as this campaign is concerned.  On three occasions during our debates the American people have had an opportunity to see how he would have made a decision differently from the way the President of the United States has made that decision, decisions affecting the security of his country.  And, so, you must test him, as you test us, by that record.</td>\n",
       "      <td>rep</td>\n",
       "      <td>1960</td>\n",
       "      <td>True</td>\n",
       "      <td>True</td>\n",
       "      <td>6</td>\n",
       "      <td>0.0</td>\n",
       "      <td>0.0</td>\n",
       "      <td>and i sai to you you know what we can do  you know how we will react to mr khrushchev or to anyon els becaus we have been through the test now let us look at our oppon for a moment  what do we know about him  first of all we know someth about him as far as thi campaign is concern  on three occas dure our debat the american peopl have had an opportun to see how he would have made a decis differ from the wai the presid of the unit state ha made that decis decis affect the secur of hi countri  and so you must test him as you test us by that record</td>\n",
       "      <td>and i sai to you you know what we can do you know how we will react to mr_khrushchev or to anyon_els becaus we have been through the test now let us look_at our oppon for a moment what do we know about him first of all we know someth about him as far as thi campaign is concern on three occas dure our debat the american peopl have had an opportun to see how he would have made a decis differ from the wai the presid of the unit_state ha made that decis decis affect the secur of hi countri and so you must test him as you test us by that record</td>\n",
       "      <td>2383</td>\n",
       "      <td>2383_6</td>\n",
       "      <td>2383_6</td>\n",
       "    </tr>\n",
       "    <tr>\n",
       "      <th>2384</th>\n",
       "      <td>2384</td>\n",
       "      <td>2384</td>\n",
       "      <td>2383</td>\n",
       "      <td>1822</td>\n",
       "      <td>And I say to you: you know what we can do.  You know how we will react to Mr. Khrushchev or to anyone else because we have been through the test. Now let us look at our opponent for a moment.  What do we know about him?  First of all, we know something about him as far as this campaign is concerned.  On three occasions during our debates the American people have had an opportunity to see how he would have made a decision differently from the way the President of the United States has made that decision, decisions affecting the security of his country.  And, so, you must test him, as you test us, by that record.</td>\n",
       "      <td>rep</td>\n",
       "      <td>1960</td>\n",
       "      <td>True</td>\n",
       "      <td>True</td>\n",
       "      <td>6</td>\n",
       "      <td>0.0</td>\n",
       "      <td>1.0</td>\n",
       "      <td>and i sai to you you know what we can do  you know how we will react to mr khrushchev or to anyon els becaus we have been through the test now let us look at our oppon for a moment  what do we know about him  first of all we know someth about him as far as thi campaign is concern  on three occas dure our debat the american peopl have had an opportun to see how he would have made a decis differ from the wai the presid of the unit state ha made that decis decis affect the secur of hi countri  and so you must test him as you test us by that record</td>\n",
       "      <td>and i sai to you you know what we can do you know how we will react to mr_khrushchev or to anyon_els becaus we have been through the test now let us look_at our oppon for a moment what do we know about him first of all we know someth about him as far as thi campaign is concern on three occas dure our debat the american peopl have had an opportun to see how he would have made a decis differ from the wai the presid of the unit_state ha made that decis decis affect the secur of hi countri and so you must test him as you test us by that record</td>\n",
       "      <td>2384</td>\n",
       "      <td>2384_6</td>\n",
       "      <td>2384_6</td>\n",
       "    </tr>\n",
       "    <tr>\n",
       "      <th>9649</th>\n",
       "      <td>9649</td>\n",
       "      <td>9649</td>\n",
       "      <td>9648</td>\n",
       "      <td>2877</td>\n",
       "      <td>But my opponent, as a senator, personally led the fight against having a shuttle program at all. He called it a horrible waste. Well, we support the space shuttle, and we've committed America to meet a great challenge--to build a manned space center out in space and to do it within a decade. What this country needs is high tech, not high taxes.</td>\n",
       "      <td>rep</td>\n",
       "      <td>1984</td>\n",
       "      <td>True</td>\n",
       "      <td>False</td>\n",
       "      <td>21</td>\n",
       "      <td>0.0</td>\n",
       "      <td>0.0</td>\n",
       "      <td>but my oppon as a senat person led the fight against have a shuttl program at all he call it a horribl wast well we support the space shuttl and weve commit america to meet a great challengeto build a man space center out in space and to do it within a decad what thi countri need is high tech not high tax</td>\n",
       "      <td>but my_oppon as a senat person led the fight_against have a shuttl_program at all he call it a horribl_wast_well we support the space_shuttl and weve commit america to meet a great_challengeto_build a man space center out in space and to do it within a decad what thi countri need is high_tech not high tax</td>\n",
       "      <td>9649</td>\n",
       "      <td>9649_21</td>\n",
       "      <td>9649_21</td>\n",
       "    </tr>\n",
       "    <tr>\n",
       "      <th>9650</th>\n",
       "      <td>9650</td>\n",
       "      <td>9650</td>\n",
       "      <td>9648</td>\n",
       "      <td>2877</td>\n",
       "      <td>But my opponent, as a senator, personally led the fight against having a shuttle program at all. He called it a horrible waste. Well, we support the space shuttle, and we've committed America to meet a great challenge--to build a manned space center out in space and to do it within a decade. What this country needs is high tech, not high taxes.</td>\n",
       "      <td>rep</td>\n",
       "      <td>1984</td>\n",
       "      <td>True</td>\n",
       "      <td>False</td>\n",
       "      <td>21</td>\n",
       "      <td>0.0</td>\n",
       "      <td>0.0</td>\n",
       "      <td>but my oppon as a senat person led the fight against have a shuttl program at all he call it a horribl wast well we support the space shuttl and weve commit america to meet a great challengeto build a man space center out in space and to do it within a decad what thi countri need is high tech not high tax</td>\n",
       "      <td>but my_oppon as a senat person led the fight_against have a shuttl_program at all he call it a horribl_wast_well we support the space_shuttl and weve commit america to meet a great_challengeto_build a man space center out in space and to do it within a decad what thi countri need is high_tech not high tax</td>\n",
       "      <td>9650</td>\n",
       "      <td>9650_21</td>\n",
       "      <td>9650_21</td>\n",
       "    </tr>\n",
       "    <tr>\n",
       "      <th>11841</th>\n",
       "      <td>11841</td>\n",
       "      <td>11841</td>\n",
       "      <td>11839</td>\n",
       "      <td>2282</td>\n",
       "      <td>I believe that America does care. I believe that we would rather build hospitals that can cure the sick than a plane that cannot fly. I believe that we would rather end poverty in America than continue the killing in Asia.</td>\n",
       "      <td>dem</td>\n",
       "      <td>1972</td>\n",
       "      <td>True</td>\n",
       "      <td>False</td>\n",
       "      <td>13</td>\n",
       "      <td>0.0</td>\n",
       "      <td>0.0</td>\n",
       "      <td>i believ that america doe care i believ that we would rather build hospit that can cure the sick than a plane that cannot fly i believ that we would rather end poverti in america than continu the kill in asia</td>\n",
       "      <td>i believ that america doe care i believ that we would_rather build hospit that can cure the sick than a plane that cannot fly i believ that we would_rather end poverti in america than continu the kill in asia</td>\n",
       "      <td>11841</td>\n",
       "      <td>11841_13</td>\n",
       "      <td>11841_13</td>\n",
       "    </tr>\n",
       "    <tr>\n",
       "      <th>...</th>\n",
       "      <td>...</td>\n",
       "      <td>...</td>\n",
       "      <td>...</td>\n",
       "      <td>...</td>\n",
       "      <td>...</td>\n",
       "      <td>...</td>\n",
       "      <td>...</td>\n",
       "      <td>...</td>\n",
       "      <td>...</td>\n",
       "      <td>...</td>\n",
       "      <td>...</td>\n",
       "      <td>...</td>\n",
       "      <td>...</td>\n",
       "      <td>...</td>\n",
       "      <td>...</td>\n",
       "      <td>...</td>\n",
       "      <td>...</td>\n",
       "    </tr>\n",
       "    <tr>\n",
       "      <th>67583</th>\n",
       "      <td>67583</td>\n",
       "      <td>67583</td>\n",
       "      <td>68068</td>\n",
       "      <td>2016-10-24-manchester-new-hampshire</td>\n",
       "      <td>What happened is trickle-down economics came back. So here is what I am going to do. We are going to ask the wealthy to finally pay their fair share. We are going to – we are going to close the loopholes, we are going to end the fact that millionaires can pay a lower tax rate than a nurse or a teacher or a police officer. We are going to make big banks pay for the risks they pose to our economy because Elizabeth is absolutely right. No – no bank is too big to fail, and no one should be above the law, and we are going to enforce that and contrast that with Donald Trump. He believes that if you give trillions and that is trillions with a 't' in tax cuts to the wealthy millionaires and billionaires and corporations, and everything will work out.</td>\n",
       "      <td>dem</td>\n",
       "      <td>2016</td>\n",
       "      <td>False</td>\n",
       "      <td>True</td>\n",
       "      <td>29</td>\n",
       "      <td>0.0</td>\n",
       "      <td>0.0</td>\n",
       "      <td>what happen is trickledown econom came back so here is what i am go to do we ar go to ask the wealthi to final pai their fair share we ar go to – we ar go to close the loophol we ar go to end the fact that millionair can pai a lower tax rate than a nurs or a teacher or a polic offic we ar go to make big bank pai for the risk thei pose to our economi becaus elizabeth is absolut right no – no bank is too big to fail and no on should be abov the law and we ar go to enforc that and contrast that with donald trump he believ that if you give trillion and that is trillion with a t in tax cut to the wealthi millionair and billionair and corpor and everyth will work out</td>\n",
       "      <td>what happen is trickledown_econom came back so here is what i am go to do we ar go to ask the wealthi to final pai their_fair_share we ar go to – we ar go to close the loophol we ar go to end the fact that millionair can pai a lower_tax_rate than a nurs or a teacher or a polic_offic we ar go to make big bank pai for the risk thei pose to our economi becaus elizabeth is absolut right no – no bank is too_big to fail and no on should be abov the law and we ar go to enforc that and contrast that with donald_trump he believ that if you give trillion and that is trillion with a t in tax_cut to the wealthi millionair and billionair and corpor and everyth will work out</td>\n",
       "      <td>67583</td>\n",
       "      <td>67583_29</td>\n",
       "      <td>67583_29</td>\n",
       "    </tr>\n",
       "    <tr>\n",
       "      <th>70593</th>\n",
       "      <td>70593</td>\n",
       "      <td>70593</td>\n",
       "      <td>71080</td>\n",
       "      <td>2004-08-12-remarks-carson-california</td>\n",
       "      <td>Over the last few weeks, John Edwards and I have made our way across this country we love, from sea to shining sea, because we believe in America and we believe we can do better. And at every stop we've made, from great cities to the great Southwest, from the flag-draped front porches of Main Street America to the small family farms that dot the Midwest, we've met Americans who believe that too. While millions are struggling to find work, and millions more are struggling to pay the bills, these folks hold on to an optimism that is both courageous and classically American. They know we can do better. They know our best days lie ahead. And they still believe in an America where a willingness to work hard is rewarded with the opportunity to earn a decent living and the chance to get ahead.</td>\n",
       "      <td>dem</td>\n",
       "      <td>2004</td>\n",
       "      <td>True</td>\n",
       "      <td>True</td>\n",
       "      <td>0</td>\n",
       "      <td>0.0</td>\n",
       "      <td>0.0</td>\n",
       "      <td>over the last few week john edward and i have made our wai across thi countri we love from sea to shine sea becaus we believ in america and we believ we can do better and at everi stop weve made from great citi to the great southwest from the flagdrap front porch of main street america to the small famili farm that dot the midwest weve met american who believ that too while million ar struggl to find work and million more ar struggl to pai the bill these folk hold on to an optim that is both courag and classic american thei know we can do better thei know our best dai lie ahead and thei still believ in an america where a willing to work hard is reward with the opportun to earn a decent live and the chanc to get ahead</td>\n",
       "      <td>over the last_few_week john_edward and i have made our wai across thi countri we love from sea to shine_sea becaus we believ in america and we believ we can do better and at everi stop weve made from great citi to the great southwest from the flagdrap front_porch of main_street america to the small famili farm that dot the midwest weve met american who believ that too while million ar struggl to find work and million more ar struggl to pai the bill these folk hold on to an optim that is both courag and classic american thei know we can do better thei know our best dai lie_ahead and thei still believ in an america where a willing to work_hard is reward with the opportun to earn a decent live and the chanc to get ahead</td>\n",
       "      <td>70593</td>\n",
       "      <td>70593_0</td>\n",
       "      <td>70593_0</td>\n",
       "    </tr>\n",
       "    <tr>\n",
       "      <th>70594</th>\n",
       "      <td>70594</td>\n",
       "      <td>70594</td>\n",
       "      <td>71080</td>\n",
       "      <td>2004-08-12-remarks-carson-california</td>\n",
       "      <td>Over the last few weeks, John Edwards and I have made our way across this country we love, from sea to shining sea, because we believe in America and we believe we can do better. And at every stop we've made, from great cities to the great Southwest, from the flag-draped front porches of Main Street America to the small family farms that dot the Midwest, we've met Americans who believe that too. While millions are struggling to find work, and millions more are struggling to pay the bills, these folks hold on to an optimism that is both courageous and classically American. They know we can do better. They know our best days lie ahead. And they still believe in an America where a willingness to work hard is rewarded with the opportunity to earn a decent living and the chance to get ahead.</td>\n",
       "      <td>dem</td>\n",
       "      <td>2004</td>\n",
       "      <td>True</td>\n",
       "      <td>True</td>\n",
       "      <td>0</td>\n",
       "      <td>0.0</td>\n",
       "      <td>1.0</td>\n",
       "      <td>over the last few week john edward and i have made our wai across thi countri we love from sea to shine sea becaus we believ in america and we believ we can do better and at everi stop weve made from great citi to the great southwest from the flagdrap front porch of main street america to the small famili farm that dot the midwest weve met american who believ that too while million ar struggl to find work and million more ar struggl to pai the bill these folk hold on to an optim that is both courag and classic american thei know we can do better thei know our best dai lie ahead and thei still believ in an america where a willing to work hard is reward with the opportun to earn a decent live and the chanc to get ahead</td>\n",
       "      <td>over the last_few_week john_edward and i have made our wai across thi countri we love from sea to shine_sea becaus we believ in america and we believ we can do better and at everi stop weve made from great citi to the great southwest from the flagdrap front_porch of main_street america to the small famili farm that dot the midwest weve met american who believ that too while million ar struggl to find work and million more ar struggl to pai the bill these folk hold on to an optim that is both courag and classic american thei know we can do better thei know our best dai lie_ahead and thei still believ in an america where a willing to work_hard is reward with the opportun to earn a decent live and the chanc to get ahead</td>\n",
       "      <td>70594</td>\n",
       "      <td>70594_0</td>\n",
       "      <td>70594_0</td>\n",
       "    </tr>\n",
       "    <tr>\n",
       "      <th>71768</th>\n",
       "      <td>71768</td>\n",
       "      <td>71768</td>\n",
       "      <td>72254</td>\n",
       "      <td>2000-11-01-remarks-kissimmee-florida</td>\n",
       "      <td>Sometimes, a President has to stand up and say no — so that our families can have a better life. I'm not running for President to go along and get along at any price. The Presidency is really not just a popularity contest. If you want someone who smiles and looks the other way while special interests have their way, then I'm not your guy.</td>\n",
       "      <td>dem</td>\n",
       "      <td>2000</td>\n",
       "      <td>True</td>\n",
       "      <td>True</td>\n",
       "      <td>32</td>\n",
       "      <td>0.0</td>\n",
       "      <td>0.0</td>\n",
       "      <td>sometim a presid ha to stand up and sai no — so that our famili can have a better life im not run for presid to go along and get along at ani price the presid is realli not just a popular contest if you want someon who smile and look the other wai while special interest have their wai then im not your gui</td>\n",
       "      <td>sometim a presid ha to stand_up and sai no — so that our famili can have a better_life im not run for presid to go along and get along at ani price the presid is realli not just a popular_contest if you want someon_who smile and look the other wai while special_interest have their wai then im not your gui</td>\n",
       "      <td>71768</td>\n",
       "      <td>71768_32</td>\n",
       "      <td>71768_32</td>\n",
       "    </tr>\n",
       "    <tr>\n",
       "      <th>71769</th>\n",
       "      <td>71769</td>\n",
       "      <td>71769</td>\n",
       "      <td>72254</td>\n",
       "      <td>2000-11-01-remarks-kissimmee-florida</td>\n",
       "      <td>Sometimes, a President has to stand up and say no — so that our families can have a better life. I'm not running for President to go along and get along at any price. The Presidency is really not just a popularity contest. If you want someone who smiles and looks the other way while special interests have their way, then I'm not your guy.</td>\n",
       "      <td>dem</td>\n",
       "      <td>2000</td>\n",
       "      <td>True</td>\n",
       "      <td>True</td>\n",
       "      <td>32</td>\n",
       "      <td>0.0</td>\n",
       "      <td>0.0</td>\n",
       "      <td>sometim a presid ha to stand up and sai no — so that our famili can have a better life im not run for presid to go along and get along at ani price the presid is realli not just a popular contest if you want someon who smile and look the other wai while special interest have their wai then im not your gui</td>\n",
       "      <td>sometim a presid ha to stand_up and sai no — so that our famili can have a better_life im not run for presid to go along and get along at ani price the presid is realli not just a popular_contest if you want someon_who smile and look the other wai while special_interest have their wai then im not your gui</td>\n",
       "      <td>71769</td>\n",
       "      <td>71769_32</td>\n",
       "      <td>71769_32</td>\n",
       "    </tr>\n",
       "  </tbody>\n",
       "</table>\n",
       "<p>65 rows × 17 columns</p>\n",
       "</div>"
      ],
      "text/plain": [
       "       Unnamed: 0  Unnamed: 0.1  Unnamed: 0.1.1  \\\n",
       "2383         2383          2383            2383   \n",
       "2384         2384          2384            2383   \n",
       "9649         9649          9649            9648   \n",
       "9650         9650          9650            9648   \n",
       "11841       11841         11841           11839   \n",
       "...           ...           ...             ...   \n",
       "67583       67583         67583           68068   \n",
       "70593       70593         70593           71080   \n",
       "70594       70594         70594           71080   \n",
       "71768       71768         71768           72254   \n",
       "71769       71769         71769           72254   \n",
       "\n",
       "                                  Speech_id  \\\n",
       "2383                                   1822   \n",
       "2384                                   1822   \n",
       "9649                                   2877   \n",
       "9650                                   2877   \n",
       "11841                                  2282   \n",
       "...                                     ...   \n",
       "67583   2016-10-24-manchester-new-hampshire   \n",
       "70593  2004-08-12-remarks-carson-california   \n",
       "70594  2004-08-12-remarks-carson-california   \n",
       "71768  2000-11-01-remarks-kissimmee-florida   \n",
       "71769  2000-11-01-remarks-kissimmee-florida   \n",
       "\n",
       "                                                                                                                                                                                                                                                                                                                                                                                                                                                                                                                                                                                                                                                                                                                                                                                                                                text  \\\n",
       "2383                                                                                                                                                                                      And I say to you: you know what we can do.  You know how we will react to Mr. Khrushchev or to anyone else because we have been through the test. Now let us look at our opponent for a moment.  What do we know about him?  First of all, we know something about him as far as this campaign is concerned.  On three occasions during our debates the American people have had an opportunity to see how he would have made a decision differently from the way the President of the United States has made that decision, decisions affecting the security of his country.  And, so, you must test him, as you test us, by that record.   \n",
       "2384                                                                                                                                                                                      And I say to you: you know what we can do.  You know how we will react to Mr. Khrushchev or to anyone else because we have been through the test. Now let us look at our opponent for a moment.  What do we know about him?  First of all, we know something about him as far as this campaign is concerned.  On three occasions during our debates the American people have had an opportunity to see how he would have made a decision differently from the way the President of the United States has made that decision, decisions affecting the security of his country.  And, so, you must test him, as you test us, by that record.   \n",
       "9649                                                                                                                                                                                                                                                                                                                                                                                                                                                                      But my opponent, as a senator, personally led the fight against having a shuttle program at all. He called it a horrible waste. Well, we support the space shuttle, and we've committed America to meet a great challenge--to build a manned space center out in space and to do it within a decade. What this country needs is high tech, not high taxes.   \n",
       "9650                                                                                                                                                                                                                                                                                                                                                                                                                                                                      But my opponent, as a senator, personally led the fight against having a shuttle program at all. He called it a horrible waste. Well, we support the space shuttle, and we've committed America to meet a great challenge--to build a manned space center out in space and to do it within a decade. What this country needs is high tech, not high taxes.   \n",
       "11841                                                                                                                                                                                                                                                                                                                                                                                                                                                                                                                                                                                                 I believe that America does care. I believe that we would rather build hospitals that can cure the sick than a plane that cannot fly. I believe that we would rather end poverty in America than continue the killing in Asia.   \n",
       "...                                                                                                                                                                                                                                                                                                                                                                                                                                                                                                                                                                                                                                                                                                                                                                                                                              ...   \n",
       "67583                                               What happened is trickle-down economics came back. So here is what I am going to do. We are going to ask the wealthy to finally pay their fair share. We are going to – we are going to close the loopholes, we are going to end the fact that millionaires can pay a lower tax rate than a nurse or a teacher or a police officer. We are going to make big banks pay for the risks they pose to our economy because Elizabeth is absolutely right. No – no bank is too big to fail, and no one should be above the law, and we are going to enforce that and contrast that with Donald Trump. He believes that if you give trillions and that is trillions with a 't' in tax cuts to the wealthy millionaires and billionaires and corporations, and everything will work out.   \n",
       "70593  Over the last few weeks, John Edwards and I have made our way across this country we love, from sea to shining sea, because we believe in America and we believe we can do better. And at every stop we've made, from great cities to the great Southwest, from the flag-draped front porches of Main Street America to the small family farms that dot the Midwest, we've met Americans who believe that too. While millions are struggling to find work, and millions more are struggling to pay the bills, these folks hold on to an optimism that is both courageous and classically American. They know we can do better. They know our best days lie ahead. And they still believe in an America where a willingness to work hard is rewarded with the opportunity to earn a decent living and the chance to get ahead.   \n",
       "70594  Over the last few weeks, John Edwards and I have made our way across this country we love, from sea to shining sea, because we believe in America and we believe we can do better. And at every stop we've made, from great cities to the great Southwest, from the flag-draped front porches of Main Street America to the small family farms that dot the Midwest, we've met Americans who believe that too. While millions are struggling to find work, and millions more are struggling to pay the bills, these folks hold on to an optimism that is both courageous and classically American. They know we can do better. They know our best days lie ahead. And they still believe in an America where a willingness to work hard is rewarded with the opportunity to earn a decent living and the chance to get ahead.   \n",
       "71768                                                                                                                                                                                                                                                                                                                                                                                                                                                                           Sometimes, a President has to stand up and say no — so that our families can have a better life. I'm not running for President to go along and get along at any price. The Presidency is really not just a popularity contest. If you want someone who smiles and looks the other way while special interests have their way, then I'm not your guy.   \n",
       "71769                                                                                                                                                                                                                                                                                                                                                                                                                                                                           Sometimes, a President has to stand up and say no — so that our families can have a better life. I'm not running for President to go along and get along at any price. The Presidency is really not just a popularity contest. If you want someone who smiles and looks the other way while special interests have their way, then I'm not your guy.   \n",
       "\n",
       "      party  term   comp  populist_old_keywords  par_id  label  test  \\\n",
       "2383    rep  1960   True                   True       6    0.0   0.0   \n",
       "2384    rep  1960   True                   True       6    0.0   1.0   \n",
       "9649    rep  1984   True                  False      21    0.0   0.0   \n",
       "9650    rep  1984   True                  False      21    0.0   0.0   \n",
       "11841   dem  1972   True                  False      13    0.0   0.0   \n",
       "...     ...   ...    ...                    ...     ...    ...   ...   \n",
       "67583   dem  2016  False                   True      29    0.0   0.0   \n",
       "70593   dem  2004   True                   True       0    0.0   0.0   \n",
       "70594   dem  2004   True                   True       0    0.0   1.0   \n",
       "71768   dem  2000   True                   True      32    0.0   0.0   \n",
       "71769   dem  2000   True                   True      32    0.0   0.0   \n",
       "\n",
       "                                                                                                                                                                                                                                                                                                                                                                                                                                                                                                                                                                                                                                                                                                                                                   clean_text  \\\n",
       "2383                                                                                                                                                                                   and i sai to you you know what we can do  you know how we will react to mr khrushchev or to anyon els becaus we have been through the test now let us look at our oppon for a moment  what do we know about him  first of all we know someth about him as far as thi campaign is concern  on three occas dure our debat the american peopl have had an opportun to see how he would have made a decis differ from the wai the presid of the unit state ha made that decis decis affect the secur of hi countri  and so you must test him as you test us by that record   \n",
       "2384                                                                                                                                                                                   and i sai to you you know what we can do  you know how we will react to mr khrushchev or to anyon els becaus we have been through the test now let us look at our oppon for a moment  what do we know about him  first of all we know someth about him as far as thi campaign is concern  on three occas dure our debat the american peopl have had an opportun to see how he would have made a decis differ from the wai the presid of the unit state ha made that decis decis affect the secur of hi countri  and so you must test him as you test us by that record   \n",
       "9649                                                                                                                                                                                                                                                                                                                                                                                                                                       but my oppon as a senat person led the fight against have a shuttl program at all he call it a horribl wast well we support the space shuttl and weve commit america to meet a great challengeto build a man space center out in space and to do it within a decad what thi countri need is high tech not high tax   \n",
       "9650                                                                                                                                                                                                                                                                                                                                                                                                                                       but my oppon as a senat person led the fight against have a shuttl program at all he call it a horribl wast well we support the space shuttl and weve commit america to meet a great challengeto build a man space center out in space and to do it within a decad what thi countri need is high tech not high tax   \n",
       "11841                                                                                                                                                                                                                                                                                                                                                                                                                                                                                                                                        i believ that america doe care i believ that we would rather build hospit that can cure the sick than a plane that cannot fly i believ that we would rather end poverti in america than continu the kill in asia   \n",
       "...                                                                                                                                                                                                                                                                                                                                                                                                                                                                                                                                                                                                                                                                                                                                                       ...   \n",
       "67583                                                           what happen is trickledown econom came back so here is what i am go to do we ar go to ask the wealthi to final pai their fair share we ar go to – we ar go to close the loophol we ar go to end the fact that millionair can pai a lower tax rate than a nurs or a teacher or a polic offic we ar go to make big bank pai for the risk thei pose to our economi becaus elizabeth is absolut right no – no bank is too big to fail and no on should be abov the law and we ar go to enforc that and contrast that with donald trump he believ that if you give trillion and that is trillion with a t in tax cut to the wealthi millionair and billionair and corpor and everyth will work out   \n",
       "70593  over the last few week john edward and i have made our wai across thi countri we love from sea to shine sea becaus we believ in america and we believ we can do better and at everi stop weve made from great citi to the great southwest from the flagdrap front porch of main street america to the small famili farm that dot the midwest weve met american who believ that too while million ar struggl to find work and million more ar struggl to pai the bill these folk hold on to an optim that is both courag and classic american thei know we can do better thei know our best dai lie ahead and thei still believ in an america where a willing to work hard is reward with the opportun to earn a decent live and the chanc to get ahead   \n",
       "70594  over the last few week john edward and i have made our wai across thi countri we love from sea to shine sea becaus we believ in america and we believ we can do better and at everi stop weve made from great citi to the great southwest from the flagdrap front porch of main street america to the small famili farm that dot the midwest weve met american who believ that too while million ar struggl to find work and million more ar struggl to pai the bill these folk hold on to an optim that is both courag and classic american thei know we can do better thei know our best dai lie ahead and thei still believ in an america where a willing to work hard is reward with the opportun to earn a decent live and the chanc to get ahead   \n",
       "71768                                                                                                                                                                                                                                                                                                                                                                                                                                      sometim a presid ha to stand up and sai no — so that our famili can have a better life im not run for presid to go along and get along at ani price the presid is realli not just a popular contest if you want someon who smile and look the other wai while special interest have their wai then im not your gui   \n",
       "71769                                                                                                                                                                                                                                                                                                                                                                                                                                      sometim a presid ha to stand up and sai no — so that our famili can have a better life im not run for presid to go along and get along at ani price the presid is realli not just a popular contest if you want someon who smile and look the other wai while special interest have their wai then im not your gui   \n",
       "\n",
       "                                                                                                                                                                                                                                                                                                                                                                                                                                                                                                                                                                                                                                                                                                                                                 phrased_text  \\\n",
       "2383                                                                                                                                                                                        and i sai to you you know what we can do you know how we will react to mr_khrushchev or to anyon_els becaus we have been through the test now let us look_at our oppon for a moment what do we know about him first of all we know someth about him as far as thi campaign is concern on three occas dure our debat the american peopl have had an opportun to see how he would have made a decis differ from the wai the presid of the unit_state ha made that decis decis affect the secur of hi countri and so you must test him as you test us by that record   \n",
       "2384                                                                                                                                                                                        and i sai to you you know what we can do you know how we will react to mr_khrushchev or to anyon_els becaus we have been through the test now let us look_at our oppon for a moment what do we know about him first of all we know someth about him as far as thi campaign is concern on three occas dure our debat the american peopl have had an opportun to see how he would have made a decis differ from the wai the presid of the unit_state ha made that decis decis affect the secur of hi countri and so you must test him as you test us by that record   \n",
       "9649                                                                                                                                                                                                                                                                                                                                                                                                                                       but my_oppon as a senat person led the fight_against have a shuttl_program at all he call it a horribl_wast_well we support the space_shuttl and weve commit america to meet a great_challengeto_build a man space center out in space and to do it within a decad what thi countri need is high_tech not high tax   \n",
       "9650                                                                                                                                                                                                                                                                                                                                                                                                                                       but my_oppon as a senat person led the fight_against have a shuttl_program at all he call it a horribl_wast_well we support the space_shuttl and weve commit america to meet a great_challengeto_build a man space center out in space and to do it within a decad what thi countri need is high_tech not high tax   \n",
       "11841                                                                                                                                                                                                                                                                                                                                                                                                                                                                                                                                        i believ that america doe care i believ that we would_rather build hospit that can cure the sick than a plane that cannot fly i believ that we would_rather end poverti in america than continu the kill in asia   \n",
       "...                                                                                                                                                                                                                                                                                                                                                                                                                                                                                                                                                                                                                                                                                                                                                       ...   \n",
       "67583                                                           what happen is trickledown_econom came back so here is what i am go to do we ar go to ask the wealthi to final pai their_fair_share we ar go to – we ar go to close the loophol we ar go to end the fact that millionair can pai a lower_tax_rate than a nurs or a teacher or a polic_offic we ar go to make big bank pai for the risk thei pose to our economi becaus elizabeth is absolut right no – no bank is too_big to fail and no on should be abov the law and we ar go to enforc that and contrast that with donald_trump he believ that if you give trillion and that is trillion with a t in tax_cut to the wealthi millionair and billionair and corpor and everyth will work out   \n",
       "70593  over the last_few_week john_edward and i have made our wai across thi countri we love from sea to shine_sea becaus we believ in america and we believ we can do better and at everi stop weve made from great citi to the great southwest from the flagdrap front_porch of main_street america to the small famili farm that dot the midwest weve met american who believ that too while million ar struggl to find work and million more ar struggl to pai the bill these folk hold on to an optim that is both courag and classic american thei know we can do better thei know our best dai lie_ahead and thei still believ in an america where a willing to work_hard is reward with the opportun to earn a decent live and the chanc to get ahead   \n",
       "70594  over the last_few_week john_edward and i have made our wai across thi countri we love from sea to shine_sea becaus we believ in america and we believ we can do better and at everi stop weve made from great citi to the great southwest from the flagdrap front_porch of main_street america to the small famili farm that dot the midwest weve met american who believ that too while million ar struggl to find work and million more ar struggl to pai the bill these folk hold on to an optim that is both courag and classic american thei know we can do better thei know our best dai lie_ahead and thei still believ in an america where a willing to work_hard is reward with the opportun to earn a decent live and the chanc to get ahead   \n",
       "71768                                                                                                                                                                                                                                                                                                                                                                                                                                      sometim a presid ha to stand_up and sai no — so that our famili can have a better_life im not run for presid to go along and get along at ani price the presid is realli not just a popular_contest if you want someon_who smile and look the other wai while special_interest have their wai then im not your gui   \n",
       "71769                                                                                                                                                                                                                                                                                                                                                                                                                                      sometim a presid ha to stand_up and sai no — so that our famili can have a better_life im not run for presid to go along and get along at ani price the presid is realli not just a popular_contest if you want someon_who smile and look the other wai while special_interest have their wai then im not your gui   \n",
       "\n",
       "       doc_id   uniq_id  total_id  \n",
       "2383     2383    2383_6    2383_6  \n",
       "2384     2384    2384_6    2384_6  \n",
       "9649     9649   9649_21   9649_21  \n",
       "9650     9650   9650_21   9650_21  \n",
       "11841   11841  11841_13  11841_13  \n",
       "...       ...       ...       ...  \n",
       "67583   67583  67583_29  67583_29  \n",
       "70593   70593   70593_0   70593_0  \n",
       "70594   70594   70594_0   70594_0  \n",
       "71768   71768  71768_32  71768_32  \n",
       "71769   71769  71769_32  71769_32  \n",
       "\n",
       "[65 rows x 17 columns]"
      ]
     },
     "execution_count": 268,
     "metadata": {},
     "output_type": "execute_result"
    }
   ],
   "source": [
    "# dat[dat.duplicated(subset=['Speech_id', \"par_id\"], keep = False)]\n"
   ]
  },
  {
   "cell_type": "code",
   "execution_count": 27,
   "metadata": {},
   "outputs": [],
   "source": [
    "phrases1 = Phrases(map(lambda x: x.split(), dat[\"clean_text\"].tolist())) #bigram\n",
    "phrases2 = Phrases(phrases1[map(lambda x: x.split(), dat[\"clean_text\"].tolist())]) #trigram\n",
    "dat[\"phrased_text\"] = dat[\"clean_text\"].apply(lambda x: \" \".join(phrases2[phrases1[x.split()]]))"
   ]
  },
  {
   "cell_type": "code",
   "execution_count": 28,
   "metadata": {},
   "outputs": [
    {
     "data": {
      "text/plain": [
       "'when we start talk_about the economi it best that we get right to the point jimmi_carter promis the american peopl he would give them an inflat_rate of four percent and an unemploy_rate of four percent there no nice wai to sai it he just plain broke hi promis and by do so ha shatter the hope of million and million of american who ar strap to the wall by thi unstabl economi'"
      ]
     },
     "execution_count": 28,
     "metadata": {},
     "output_type": "execute_result"
    }
   ],
   "source": [
    "dat['phrased_text'][0] #check result"
   ]
  },
  {
   "cell_type": "markdown",
   "metadata": {},
   "source": [
    "# Doc2Vec"
   ]
  },
  {
   "cell_type": "code",
   "execution_count": 30,
   "metadata": {},
   "outputs": [],
   "source": [
    "docs = list(zip(dat[\"phrased_text\"].tolist(), dat[\"speech_par_id\"].tolist()))\n",
    "\n",
    "\n",
    "## Define an iterator to feed documents and tags to Doc2Vec\n",
    "class Sentences(object):\n",
    "    def __init__(self, docs):\n",
    "        self.docs = docs\n",
    "    def __iter__(self):\n",
    "        for doc in self.docs:\n",
    "            yield TaggedDocument(words=str(doc[0]).split(), tags=[doc[1]])\n",
    "\n",
    "## Train and save models\n",
    "model = Doc2Vec(Sentences(docs), vector_size=150, window=10, min_count=10, negative=10, epochs=20, dm=0, dbow_words=1)"
   ]
  },
  {
   "cell_type": "code",
   "execution_count": 93,
   "metadata": {},
   "outputs": [
    {
     "name": "stdout",
     "output_type": "stream",
     "text": [
      "71827\n",
      "71827\n",
      "71827\n"
     ]
    }
   ],
   "source": [
    "print(len(model.docvecs))\n",
    "# model.save(\"doc2vec_wordvecs.model\")\n",
    "print(len(docs))\n",
    "print(len(dat))"
   ]
  },
  {
   "cell_type": "code",
   "execution_count": 160,
   "metadata": {},
   "outputs": [
    {
     "data": {
      "text/plain": [
       "False"
      ]
     },
     "execution_count": 160,
     "metadata": {},
     "output_type": "execute_result"
    }
   ],
   "source": [
    "#model.wv.most_similar('trump') #check the model\n",
    "dat.text.isnull().values.any()"
   ]
  },
  {
   "cell_type": "code",
   "execution_count": 52,
   "metadata": {},
   "outputs": [],
   "source": [
    "model = Word2Vec.load(\"doc2vec_wordvecs.model\") "
   ]
  },
  {
   "cell_type": "markdown",
   "metadata": {},
   "source": [
    "# hyper parameter tuning (on populism dimension)"
   ]
  },
  {
   "cell_type": "code",
   "execution_count": 54,
   "metadata": {},
   "outputs": [
    {
     "name": "stderr",
     "output_type": "stream",
     "text": [
      "/opt/anaconda3/lib/python3.7/site-packages/IPython/core/interactiveshell.py:3063: DtypeWarning: Columns (5,6) have mixed types.Specify dtype option on import or set low_memory=False.\n",
      "  interactivity=interactivity, compiler=compiler, result=result)\n"
     ]
    }
   ],
   "source": [
    "dat = pd.read_csv(\"20220131_all_paragraphs_2020_added_missings_added.csv\")\n",
    "\n",
    "annotated = pd.read_csv(\"All_annotated_data_populism.csv\")\n",
    "file = \"/Users/yuchenluo/Desktop/Measure_RadicalDiscourse/codes/Prediction_of_test_populism/\" + \"20220209_Grid_10239_1e-05_5_4_1.csv\"\n",
    "test = pd.read_csv(file)\n",
    "train = annotated[~annotated['speech_par_id'].isin(test[\"speech_par_id\"])]\n",
    "test = test[test['speech_par_id'].isin(dat['speech_par_id'])]\n",
    "train = train[train['speech_par_id'].isin(dat['speech_par_id'])] # make sure annotated data and the original df match\n",
    "\n",
    "# merge test and train sets back onto the total df\n",
    "dat['test'] = np.where(dat['speech_par_id'].isin(test[\"speech_par_id\"]), 1, 0)\n",
    "dat['train'] = np.where(dat['speech_par_id'].isin(train[\"speech_par_id\"]), 1, 0)\n",
    "dat = dat.merge(annotated[[\"speech_par_id\", \"pred_class\"]], how = \"left\", on = \"speech_par_id\")\n",
    "# so that the order of rows are the same with the embeddings\n",
    "\n",
    "test_set = np.asarray([model.docvecs[i] for i in dat[dat['test'] == 1].index.tolist()])\n",
    "train_set = np.asarray([model.docvecs[i] for i in dat[dat['train']== 1].index.tolist()])\n",
    "\n",
    "\n"
   ]
  },
  {
   "cell_type": "code",
   "execution_count": 55,
   "metadata": {},
   "outputs": [
    {
     "name": "stdout",
     "output_type": "stream",
     "text": [
      "{'max_depth': 10, 'max_features': 'sqrt', 'n_estimators': 500}\n"
     ]
    }
   ],
   "source": [
    "# tuning for RFC\n",
    "parameters = {'n_estimators':[500, 1000, 5000], 'max_depth':[3, 5, 10], \"max_features\": [\"sqrt\", 0.2, 0.5]}\n",
    "rfc = RandomForestClassifier()\n",
    "clf = GridSearchCV(rfc, parameters,scoring = \"average_precision\")\n",
    "clf.fit(train_set, dat[dat['train']==1].pred_class)\n",
    "print(clf.best_params_) "
   ]
  },
  {
   "cell_type": "code",
   "execution_count": 56,
   "metadata": {},
   "outputs": [
    {
     "name": "stdout",
     "output_type": "stream",
     "text": [
      "{'max_depth': 3, 'max_features': 'sqrt', 'n_estimators': 5000}\n"
     ]
    }
   ],
   "source": [
    "#for BalancedRandomForest\n",
    "balanced_rfc = BalancedRandomForestClassifier()\n",
    "balanced_clf = GridSearchCV(balanced_rfc, parameters,scoring = \"average_precision\")\n",
    "balanced_clf.fit(train_set, dat[dat['train']==1].pred_class)\n",
    "print(balanced_clf.best_params_) "
   ]
  },
  {
   "cell_type": "code",
   "execution_count": 48,
   "metadata": {},
   "outputs": [
    {
     "name": "stdout",
     "output_type": "stream",
     "text": [
      "{'clf__max_depth': 3, 'clf__max_features': 'sqrt', 'clf__n_estimators': 5000}\n"
     ]
    }
   ],
   "source": [
    "# for tf-idf\n",
    "annotated = pd.read_csv(\"All_annotated_data_populism.csv\")\n",
    "file = \"/Users/yuchenluo/Desktop/Measure_RadicalDiscourse/codes/Prediction_of_test_populism/\" + \"Grid_18983_1e-05_5_4_1.csv\"\n",
    "test = pd.read_csv(file)\n",
    "train = annotated[~annotated['speech_par_id'].isin(test[\"speech_par_id\"])]\n",
    "test = test[test['speech_par_id'].isin(dat['speech_par_id'])]\n",
    "train = train[train['speech_par_id'].isin(dat['speech_par_id'])] \n",
    "\n",
    "parameters = {'clf__n_estimators':[500, 1000, 5000], 'clf__max_depth':[3, 5, 10], \"clf__max_features\": [\"sqrt\", 0.2, 0.5]}\n",
    "\n",
    "# pipeline BOW, tfidf and RF\n",
    "text_clf = Pipeline([('vect', CountVectorizer()),\n",
    "                     ('tfidf', TfidfTransformer()),\n",
    "                     ('clf', RandomForestClassifier()),\n",
    "#                      ('grid',GridSearchCV )\n",
    "                    ])\n",
    "## Fit the model to the training set\n",
    "text_clf = GridSearchCV(text_clf, parameters, scoring = \"average_precision\")\n",
    "text_clf.fit(train['text'], train['pred_class'])\n",
    "\n",
    "print(text_clf.best_params_) \n"
   ]
  },
  {
   "cell_type": "code",
   "execution_count": 58,
   "metadata": {},
   "outputs": [
    {
     "name": "stderr",
     "output_type": "stream",
     "text": [
      "/opt/anaconda3/lib/python3.7/site-packages/IPython/core/interactiveshell.py:3063: DtypeWarning: Columns (5,6) have mixed types.Specify dtype option on import or set low_memory=False.\n",
      "  interactivity=interactivity, compiler=compiler, result=result)\n"
     ]
    },
    {
     "name": "stdout",
     "output_type": "stream",
     "text": [
      "{'max_depth': 10, 'max_features': 0.2, 'n_estimators': 5000}\n"
     ]
    }
   ],
   "source": [
    "# for Word2Vec\n",
    "annotated = pd.read_csv(\"All_annotated_data_populism.csv\")\n",
    "file = \"/Users/yuchenluo/Desktop/Measure_RadicalDiscourse/codes/Prediction_of_test_populism/\" + \"20220209_Grid_10239_1e-05_5_4_1.csv\"\n",
    "test = pd.read_csv(file)\n",
    "train = annotated[~annotated['speech_par_id'].isin(test[\"speech_par_id\"])]\n",
    "test = test[test['speech_par_id'].isin(dat['speech_par_id'])]\n",
    "train = train[train['speech_par_id'].isin(dat['speech_par_id'])] \n",
    "\n",
    "avg_embeddings = loadtxt('avg_embeddings.csv', delimiter=',')\n",
    "\n",
    "dat = pd.read_csv(\"20220131_all_paragraphs_2020_added_missings_added.csv\")\n",
    "dat = dat.merge(annotated[[\"speech_par_id\", \"pred_class\"]], how = \"left\", on = \"speech_par_id\")\n",
    "# attach train/test set to original df\n",
    "train_id = train['speech_par_id']\n",
    "test_id = test['speech_par_id']    \n",
    "dat['test'] = np.where(dat['speech_par_id'].isin(test_id), 1, 0)\n",
    "dat['train'] = np.where(dat['speech_par_id'].isin(train_id), 1, 0)\n",
    "# get the embeddings to train/test set\n",
    "train_vec = np.asarray([avg_embeddings[i] for i in dat[dat['speech_par_id'].isin(train_id)].index.tolist()])\n",
    "test_vec = np.asarray([avg_embeddings[i] for i in dat[dat['speech_par_id'].isin(test_id)].index.tolist()])\n",
    "\n",
    "parameters = {'n_estimators':[500, 1000, 5000], 'max_depth':[3, 5, 10], \"max_features\": [\"sqrt\", 0.2, 0.5]}\n",
    "\n",
    "text_clf = RandomForestClassifier()\n",
    "text_clf = GridSearchCV(text_clf, parameters, scoring = \"average_precision\")\n",
    "text_clf.fit(train_vec,  dat[dat['train']==1].pred_class)\n",
    "## Fit the model to the training set\n",
    "text_clf.fit(train_vec, train['pred_class'])\n",
    "\n",
    "print(text_clf.best_params_) \n"
   ]
  },
  {
   "cell_type": "code",
   "execution_count": 60,
   "metadata": {},
   "outputs": [
    {
     "name": "stderr",
     "output_type": "stream",
     "text": [
      "/opt/anaconda3/lib/python3.7/site-packages/IPython/core/interactiveshell.py:3063: DtypeWarning: Columns (5,6) have mixed types.Specify dtype option on import or set low_memory=False.\n",
      "  interactivity=interactivity, compiler=compiler, result=result)\n"
     ]
    },
    {
     "name": "stdout",
     "output_type": "stream",
     "text": [
      "{'max_depth': 10, 'max_features': 'sqrt', 'n_estimators': 5000}\n"
     ]
    }
   ],
   "source": [
    "# for pretrained\n",
    "\n",
    "annotated = pd.read_csv(\"All_annotated_data_populism.csv\")\n",
    "file = \"/Users/yuchenluo/Desktop/Measure_RadicalDiscourse/codes/Prediction_of_test_populism/\" + \"20220209_Grid_10239_1e-05_5_4_1.csv\"\n",
    "test = pd.read_csv(file)\n",
    "train = annotated[~annotated['speech_par_id'].isin(test[\"speech_par_id\"])]\n",
    "test = test[test['speech_par_id'].isin(dat['speech_par_id'])]\n",
    "train = train[train['speech_par_id'].isin(dat['speech_par_id'])] \n",
    "\n",
    "avg_embeddings = loadtxt('avg_embeddings_pretrained.csv', delimiter=',')\n",
    "\n",
    "dat = pd.read_csv(\"20220131_all_paragraphs_2020_added_missings_added.csv\")\n",
    "dat = dat.merge(annotated[[\"speech_par_id\", \"pred_class\"]], how = \"left\", on = \"speech_par_id\")\n",
    "# attach train/test set to original df\n",
    "train_id = train['speech_par_id']\n",
    "test_id = test['speech_par_id']    \n",
    "dat['test'] = np.where(dat['speech_par_id'].isin(test_id), 1, 0)\n",
    "dat['train'] = np.where(dat['speech_par_id'].isin(train_id), 1, 0)\n",
    "# get the embeddings to train/test set\n",
    "train_vec = np.asarray([avg_embeddings[i] for i in dat[dat['speech_par_id'].isin(train_id)].index.tolist()])\n",
    "test_vec = np.asarray([avg_embeddings[i] for i in dat[dat['speech_par_id'].isin(test_id)].index.tolist()])\n",
    "\n",
    "parameters = {'n_estimators':[500, 1000, 5000], 'max_depth':[3, 5, 10], \"max_features\": [\"sqrt\", 0.2, 0.5]}\n",
    "\n",
    "text_clf = RandomForestClassifier()\n",
    "text_clf = GridSearchCV(text_clf, parameters,scoring = \"average_precision\")\n",
    "text_clf.fit(train_vec,  dat[dat['train']==1].pred_class)\n",
    "## Fit the model to the training set\n",
    "text_clf.fit(train_vec, train['pred_class'])\n",
    "\n",
    "print(text_clf.best_params_) "
   ]
  },
  {
   "cell_type": "code",
   "execution_count": 112,
   "metadata": {},
   "outputs": [
    {
     "name": "stdout",
     "output_type": "stream",
     "text": [
      "0.25315970839427054\n",
      "[[372  60]\n",
      " [  5   8]]\n"
     ]
    }
   ],
   "source": [
    "# # test balanced RFC\n",
    "# brfc = BalancedRandomForestClassifier(n_estimators=500, sampling_strategy = \"all\")\n",
    "# ## Fit the model to the training set\n",
    "# brfc.fit(train_set, dat[dat['train']==1].pred_class)\n",
    "# #PR AUC\n",
    "# preds = brfc.predict_proba(test_set)\n",
    "# lr_precision, lr_recall, _ = precision_recall_curve(dat[dat['test']==1].pred_class,  preds[:,1].tolist())\n",
    "# lr_auc = auc(lr_recall, lr_precision)\n",
    "# print(lr_auc)\n",
    "\n",
    "# confusion = confusion_matrix(dat[dat['test']==1].pred_class, brfc.predict(test_set))\n",
    "# print(confusion)\n"
   ]
  },
  {
   "cell_type": "markdown",
   "metadata": {},
   "source": [
    "# Tf-idf RF"
   ]
  },
  {
   "cell_type": "code",
   "execution_count": 49,
   "metadata": {},
   "outputs": [
    {
     "name": "stderr",
     "output_type": "stream",
     "text": [
      "/opt/anaconda3/lib/python3.7/site-packages/IPython/core/interactiveshell.py:3063: DtypeWarning: Columns (7) have mixed types.Specify dtype option on import or set low_memory=False.\n",
      "  interactivity=interactivity, compiler=compiler, result=result)\n"
     ]
    },
    {
     "name": "stdout",
     "output_type": "stream",
     "text": [
      "AUC: 0.8183760683760684\n",
      "PR AUC: 0.4099387076061983\n",
      "AUC: 0.789351851851852\n",
      "PR AUC: 0.28408610669642087\n",
      "AUC: 0.8258547008547008\n",
      "PR AUC: 0.29658462741510083\n",
      "AUC: 0.8790954415954416\n",
      "PR AUC: 0.24166553788645612\n",
      "AUC: 0.8121438746438747\n",
      "PR AUC: 0.2371099270586384\n",
      "AUC: 0.8634660003569518\n",
      "PR AUC: 0.20223642652850507\n",
      "AUC: 0.8636039886039887\n",
      "PR AUC: 0.2988073565082227\n",
      "AUC: 0.875534188034188\n",
      "PR AUC: 0.20573956596797255\n",
      "AUC: 0.8214031339031339\n",
      "PR AUC: 0.33433771788325756\n",
      "AUC: 0.7993233618233618\n",
      "PR AUC: 0.23500406321122436\n",
      "AUC: 0.8735754985754987\n",
      "PR AUC: 0.36340568553304586\n",
      "AUC: 0.7895770123148314\n",
      "PR AUC: 0.307076441160218\n",
      "AUC: 0.7836538461538461\n",
      "PR AUC: 0.3233606453619609\n",
      "AUC: 0.916488603988604\n",
      "PR AUC: 0.39123024464246303\n",
      "AUC: 0.8306623931623932\n",
      "PR AUC: 0.35567951197796366\n",
      "AUC: 0.8126780626780626\n",
      "PR AUC: 0.18919262024473796\n",
      "AUC: 0.7508903133903133\n",
      "PR AUC: 0.32068438681575795\n",
      "AUC: 0.7857905982905984\n",
      "PR AUC: 0.31005780611027267\n",
      "AUC: 0.8538105413105413\n",
      "PR AUC: 0.16526768957962348\n",
      "AUC: 0.8822059610922719\n",
      "PR AUC: 0.3291610059988619\n",
      "AUC: 0.8802427271104766\n",
      "PR AUC: 0.3035972213313241\n",
      "AUC: 0.7406746385864715\n",
      "PR AUC: 0.29743104869451464\n",
      "AUC: 0.7369266464394075\n",
      "PR AUC: 0.21762625820659104\n",
      "AUC: 0.8033196501873996\n",
      "PR AUC: 0.2850992150689076\n",
      "AUC: 0.8034981260039264\n",
      "PR AUC: 0.24253593819599298\n",
      "Mean AUC: 0.823685889173128\n",
      "Mean PR AUC: 0.2858766302273693\n",
      "[[431   0]\n",
      " [ 13   0]]\n"
     ]
    }
   ],
   "source": [
    "auc_scores = []\n",
    "pr_auc = []\n",
    "\n",
    "dat = pd.read_csv(\"20220115_all_paragraphs_2020_added.csv\")\n",
    "annotated = pd.read_csv(\"All_annotated_data_populism.csv\")\n",
    "dat = dat.merge(annotated[[\"speech_par_id\", \"pred_class\"]], how = \"left\", on = \"speech_par_id\")\n",
    "\n",
    "for filename in os.listdir(\"/Users/yuchenluo/Desktop/Measure_RadicalDiscourse/codes/Prediction_of_test_populism/\"):\n",
    "    ## load the test set \n",
    "    file = \"/Users/yuchenluo/Desktop/Measure_RadicalDiscourse/codes/Prediction_of_test_populism/\" + \"/\" + filename\n",
    "    test = pd.read_csv(file)\n",
    "    train = annotated[~annotated['speech_par_id'].isin(test[\"speech_par_id\"])]\n",
    "    test = test[test['speech_par_id'].isin(dat['speech_par_id'])]\n",
    "    train = train[train['speech_par_id'].isin(dat['speech_par_id'])] # make sure annotated data and the original df match\n",
    "    # pipeline BOW, tfidf and RF\n",
    "    text_clf = Pipeline([('vect', CountVectorizer()),\n",
    "                         ('tfidf', TfidfTransformer()),\n",
    "                         ('clf', RandomForestClassifier(n_estimators=5000, max_depth=3,max_features='sqrt', random_state=0, class_weight=\"balanced\")),\n",
    "                        ])\n",
    "    ## Fit the model to the training set\n",
    "    text_clf = text_clf.fit(train['text'], train['pred_class'])\n",
    "    ## Predict out-of-sample on the test set and compute AUC\n",
    "    preds = text_clf.predict_proba(test['text'])\n",
    "    fpr_d2v, tpr_d2v, thresholds_d2v = metrics.roc_curve(test['true_class'], preds[:,1], pos_label=1)\n",
    "    auc_scores = auc_scores + [metrics.auc(fpr_d2v, tpr_d2v)]\n",
    "    #PR AUC\n",
    "    lr_precision, lr_recall, _ = precision_recall_curve(test['true_class'],  preds[:,1].tolist())\n",
    "    lr_auc = auc(lr_recall, lr_precision)\n",
    "    pr_auc = pr_auc + [lr_auc]\n",
    "    print(\"AUC: \"+str(metrics.auc(fpr_d2v, tpr_d2v)))\n",
    "    print(\"PR AUC: \" + str(lr_auc))\n",
    "    \n",
    "print(\"Mean AUC: \" + str(np.mean(auc_scores)))\n",
    "print(\"Mean PR AUC: \" + str(np.mean(pr_auc)))\n",
    "\n",
    "confusion = confusion_matrix(test['true_class'],text_clf.predict(test['text']) )\n",
    "print(confusion)"
   ]
  },
  {
   "cell_type": "code",
   "execution_count": 51,
   "metadata": {},
   "outputs": [],
   "source": [
    "with open(\"populism_pr_auc_tfidf.csv\", \"w\") as csvfile:\n",
    "    csvwriter = csv.writer(csvfile)\n",
    "    for row in pr_auc:\n",
    "        csvwriter.writerow([row])    \n",
    "    \n",
    "with open(\"populism_tfidf.csv\", \"w\") as csvfile:\n",
    "    csvwriter = csv.writer(csvfile)\n",
    "    for row in auc_scores:\n",
    "        csvwriter.writerow([row])"
   ]
  },
  {
   "cell_type": "markdown",
   "metadata": {},
   "source": [
    "# Local Word2Vec RF"
   ]
  },
  {
   "cell_type": "code",
   "execution_count": 64,
   "metadata": {},
   "outputs": [
    {
     "name": "stderr",
     "output_type": "stream",
     "text": [
      "/opt/anaconda3/lib/python3.7/site-packages/IPython/core/interactiveshell.py:3063: DtypeWarning: Columns (7) have mixed types.Specify dtype option on import or set low_memory=False.\n",
      "  interactivity=interactivity, compiler=compiler, result=result)\n"
     ]
    },
    {
     "name": "stdout",
     "output_type": "stream",
     "text": [
      "AUC: 0.9063001963233982\n",
      "PR AUC: 0.19409213682681498\n",
      "AUC: 0.8616452991452992\n",
      "PR AUC: 0.3347844618575158\n",
      "AUC: 0.8308404558404558\n",
      "PR AUC: 0.19176735805502287\n",
      "AUC: 0.8194444444444444\n",
      "PR AUC: 0.15960836196070954\n",
      "AUC: 0.8365384615384616\n",
      "PR AUC: 0.285567635214586\n",
      "AUC: 0.8862179487179488\n",
      "PR AUC: 0.24573000721238103\n",
      "AUC: 0.9031339031339032\n",
      "PR AUC: 0.2977111648426485\n",
      "AUC: 0.9148860398860399\n",
      "PR AUC: 0.5108814284213604\n",
      "AUC: 0.9100481884704623\n",
      "PR AUC: 0.372626307551024\n",
      "AUC: 0.9262820512820512\n",
      "PR AUC: 0.4578361157168603\n",
      "AUC: 0.8940527065527066\n",
      "PR AUC: 0.2510078963930677\n",
      "AUC: 0.8365384615384616\n",
      "PR AUC: 0.22289429669195532\n",
      "AUC: 0.8568376068376069\n",
      "PR AUC: 0.09863432060078005\n",
      "AUC: 0.8527421652421652\n",
      "PR AUC: 0.23288212267608027\n",
      "AUC: 0.8249643874643875\n",
      "PR AUC: 0.2382532910805894\n",
      "AUC: 0.8929843304843305\n",
      "PR AUC: 0.4567946246967879\n",
      "AUC: 0.9241452991452992\n",
      "PR AUC: 0.4022113923132845\n",
      "AUC: 0.869480056980057\n",
      "PR AUC: 0.3566825420457933\n",
      "AUC: 0.8869301994301995\n",
      "PR AUC: 0.23152790520374028\n",
      "AUC: 0.8932714617169375\n",
      "PR AUC: 0.2151501844597152\n",
      "AUC: 0.8809566303765839\n",
      "PR AUC: 0.28510366051599817\n",
      "AUC: 0.9093342852043549\n",
      "PR AUC: 0.2485247568043131\n",
      "AUC: 0.8333035873639122\n",
      "PR AUC: 0.23215605168166778\n",
      "AUC: 0.9287881492057826\n",
      "PR AUC: 0.43861913528711116\n",
      "AUC: 0.8518650722827057\n",
      "PR AUC: 0.21665056539688995\n",
      "Mean AUC: 0.8772612555443182\n",
      "Mean PR AUC: 0.28710790894026794\n",
      "[[418  13]\n",
      " [  8   5]]\n"
     ]
    }
   ],
   "source": [
    "auc_scores = []\n",
    "pr_auc = []\n",
    "\n",
    "dat = pd.read_csv(\"20220115_all_paragraphs_2020_added.csv\")\n",
    "annotated = pd.read_csv(\"All_annotated_data_round_1_populism_20220209.csv\")\n",
    "dat = dat.merge(annotated[[\"speech_par_id\", \"pred_class\"]], how = \"left\", on = \"speech_par_id\")\n",
    "avg_embeddings = loadtxt('avg_embeddings.csv', delimiter=',')\n",
    "\n",
    "for filename in os.listdir(\"/Users/yuchenluo/Desktop/Measure_RadicalDiscourse/codes/Prediction_of_test_populism/\"):\n",
    "    ## load the test set \n",
    "    file = \"/Users/yuchenluo/Desktop/Measure_RadicalDiscourse/codes/Prediction_of_test_populism/\" + \"/\" + filename\n",
    "    test = pd.read_csv(file)\n",
    "    train = annotated[~annotated['speech_par_id'].isin(test[\"speech_par_id\"])]\n",
    "    test = test[test['speech_par_id'].isin(dat['speech_par_id'])]\n",
    "    train = train[train['speech_par_id'].isin(dat['speech_par_id'])] # make sure annotated data and the original df match\n",
    "    # attach train/test set to original df\n",
    "    train_id = train['speech_par_id']\n",
    "    test_id = test['speech_par_id']    \n",
    "    dat['test'] = np.where(dat['speech_par_id'].isin(test_id), 1, 0)\n",
    "    dat['train'] = np.where(dat['speech_par_id'].isin(train_id), 1, 0)\n",
    "    # get the embeddings to train/test set\n",
    "    train_vec = np.asarray([avg_embeddings[i] for i in dat[dat['speech_par_id'].isin(train_id)].index.tolist()])\n",
    "    test_vec = np.asarray([avg_embeddings[i] for i in dat[dat['speech_par_id'].isin(test_id)].index.tolist()])\n",
    "    ## Fit the model to the training set\n",
    "    text_clf = RandomForestClassifier(n_estimators=500, max_depth=3, random_state=0, max_features = \"sqrt\", class_weight=\"balanced\")\n",
    "    text_clf.fit(train_vec,  dat[dat['train']==1].pred_class) # use the original df to match the order\n",
    "    ## Predict out-of-sample on the test set and compute AUC\n",
    "    preds = text_clf.predict_proba(test_vec)\n",
    "    fpr_d2v, tpr_d2v, thresholds_d2v = metrics.roc_curve(dat[dat['test']==1].pred_class, preds[:,1], pos_label=1)\n",
    "    auc_scores = auc_scores + [metrics.auc(fpr_d2v, tpr_d2v)]\n",
    "    #PR AUC\n",
    "    lr_precision, lr_recall, _ = precision_recall_curve(dat[dat['test']==1].pred_class,  preds[:,1].tolist())\n",
    "    lr_auc = auc(lr_recall, lr_precision)\n",
    "    pr_auc = pr_auc + [lr_auc]\n",
    "    print(\"AUC: \"+str(metrics.auc(fpr_d2v, tpr_d2v)))\n",
    "    print(\"PR AUC: \" + str(lr_auc))\n",
    "    \n",
    "print(\"Mean AUC: \" + str(np.mean(auc_scores)))\n",
    "print(\"Mean PR AUC: \" + str(np.mean(pr_auc)))\n",
    "\n",
    "confusion = confusion_matrix(dat[dat['test']==1].pred_class,text_clf.predict(test_vec) )\n",
    "print(confusion)"
   ]
  },
  {
   "cell_type": "code",
   "execution_count": 62,
   "metadata": {},
   "outputs": [],
   "source": [
    "with open(\"populism_pr_auc_w2v.csv\", \"w\") as csvfile:\n",
    "    csvwriter = csv.writer(csvfile)\n",
    "    for row in pr_auc:\n",
    "        csvwriter.writerow([row])    \n",
    "    \n",
    "with open(\"populism_auc_w2v.csv\", \"w\") as csvfile:\n",
    "    csvwriter = csv.writer(csvfile)\n",
    "    for row in auc_scores:\n",
    "        csvwriter.writerow([row])"
   ]
  },
  {
   "cell_type": "markdown",
   "metadata": {},
   "source": [
    "# Pretrained Word2Vec\n"
   ]
  },
  {
   "cell_type": "code",
   "execution_count": 63,
   "metadata": {},
   "outputs": [
    {
     "name": "stderr",
     "output_type": "stream",
     "text": [
      "/opt/anaconda3/lib/python3.7/site-packages/IPython/core/interactiveshell.py:3063: DtypeWarning: Columns (7) have mixed types.Specify dtype option on import or set low_memory=False.\n",
      "  interactivity=interactivity, compiler=compiler, result=result)\n"
     ]
    },
    {
     "ename": "KeyboardInterrupt",
     "evalue": "",
     "output_type": "error",
     "traceback": [
      "\u001b[0;31m---------------------------------------------------------------------------\u001b[0m",
      "\u001b[0;31mKeyboardInterrupt\u001b[0m                         Traceback (most recent call last)",
      "\u001b[0;32m<ipython-input-63-a1955c11090c>\u001b[0m in \u001b[0;36m<module>\u001b[0;34m\u001b[0m\n\u001b[1;32m      5\u001b[0m \u001b[0mannotated\u001b[0m \u001b[0;34m=\u001b[0m \u001b[0mpd\u001b[0m\u001b[0;34m.\u001b[0m\u001b[0mread_csv\u001b[0m\u001b[0;34m(\u001b[0m\u001b[0;34m\"All_annotated_data_populism.csv\"\u001b[0m\u001b[0;34m)\u001b[0m\u001b[0;34m\u001b[0m\u001b[0;34m\u001b[0m\u001b[0m\n\u001b[1;32m      6\u001b[0m \u001b[0mdat\u001b[0m \u001b[0;34m=\u001b[0m \u001b[0mdat\u001b[0m\u001b[0;34m.\u001b[0m\u001b[0mmerge\u001b[0m\u001b[0;34m(\u001b[0m\u001b[0mannotated\u001b[0m\u001b[0;34m[\u001b[0m\u001b[0;34m[\u001b[0m\u001b[0;34m\"speech_par_id\"\u001b[0m\u001b[0;34m,\u001b[0m \u001b[0;34m\"pred_class\"\u001b[0m\u001b[0;34m]\u001b[0m\u001b[0;34m]\u001b[0m\u001b[0;34m,\u001b[0m \u001b[0mhow\u001b[0m \u001b[0;34m=\u001b[0m \u001b[0;34m\"left\"\u001b[0m\u001b[0;34m,\u001b[0m \u001b[0mon\u001b[0m \u001b[0;34m=\u001b[0m \u001b[0;34m\"speech_par_id\"\u001b[0m\u001b[0;34m)\u001b[0m\u001b[0;34m\u001b[0m\u001b[0;34m\u001b[0m\u001b[0m\n\u001b[0;32m----> 7\u001b[0;31m \u001b[0mavg_embeddings\u001b[0m \u001b[0;34m=\u001b[0m \u001b[0mloadtxt\u001b[0m\u001b[0;34m(\u001b[0m\u001b[0;34m'avg_embeddings_pretrained.csv'\u001b[0m\u001b[0;34m,\u001b[0m \u001b[0mdelimiter\u001b[0m\u001b[0;34m=\u001b[0m\u001b[0;34m','\u001b[0m\u001b[0;34m)\u001b[0m\u001b[0;34m\u001b[0m\u001b[0;34m\u001b[0m\u001b[0m\n\u001b[0m\u001b[1;32m      8\u001b[0m \u001b[0;34m\u001b[0m\u001b[0m\n\u001b[1;32m      9\u001b[0m \u001b[0;32mfor\u001b[0m \u001b[0mfilename\u001b[0m \u001b[0;32min\u001b[0m \u001b[0mos\u001b[0m\u001b[0;34m.\u001b[0m\u001b[0mlistdir\u001b[0m\u001b[0;34m(\u001b[0m\u001b[0;34m\"/Users/yuchenluo/Desktop/Measure_RadicalDiscourse/codes/Prediction_of_test_populism/\"\u001b[0m\u001b[0;34m)\u001b[0m\u001b[0;34m:\u001b[0m\u001b[0;34m\u001b[0m\u001b[0;34m\u001b[0m\u001b[0m\n",
      "\u001b[0;32m/opt/anaconda3/lib/python3.7/site-packages/numpy/lib/npyio.py\u001b[0m in \u001b[0;36mloadtxt\u001b[0;34m(fname, dtype, comments, delimiter, converters, skiprows, usecols, unpack, ndmin, encoding, max_rows, like)\u001b[0m\n\u001b[1;32m   1144\u001b[0m         \u001b[0;31m# converting the data\u001b[0m\u001b[0;34m\u001b[0m\u001b[0;34m\u001b[0m\u001b[0;34m\u001b[0m\u001b[0m\n\u001b[1;32m   1145\u001b[0m         \u001b[0mX\u001b[0m \u001b[0;34m=\u001b[0m \u001b[0;32mNone\u001b[0m\u001b[0;34m\u001b[0m\u001b[0;34m\u001b[0m\u001b[0m\n\u001b[0;32m-> 1146\u001b[0;31m         \u001b[0;32mfor\u001b[0m \u001b[0mx\u001b[0m \u001b[0;32min\u001b[0m \u001b[0mread_data\u001b[0m\u001b[0;34m(\u001b[0m\u001b[0m_loadtxt_chunksize\u001b[0m\u001b[0;34m)\u001b[0m\u001b[0;34m:\u001b[0m\u001b[0;34m\u001b[0m\u001b[0;34m\u001b[0m\u001b[0m\n\u001b[0m\u001b[1;32m   1147\u001b[0m             \u001b[0;32mif\u001b[0m \u001b[0mX\u001b[0m \u001b[0;32mis\u001b[0m \u001b[0;32mNone\u001b[0m\u001b[0;34m:\u001b[0m\u001b[0;34m\u001b[0m\u001b[0;34m\u001b[0m\u001b[0m\n\u001b[1;32m   1148\u001b[0m                 \u001b[0mX\u001b[0m \u001b[0;34m=\u001b[0m \u001b[0mnp\u001b[0m\u001b[0;34m.\u001b[0m\u001b[0marray\u001b[0m\u001b[0;34m(\u001b[0m\u001b[0mx\u001b[0m\u001b[0;34m,\u001b[0m \u001b[0mdtype\u001b[0m\u001b[0;34m)\u001b[0m\u001b[0;34m\u001b[0m\u001b[0;34m\u001b[0m\u001b[0m\n",
      "\u001b[0;32m/opt/anaconda3/lib/python3.7/site-packages/numpy/lib/npyio.py\u001b[0m in \u001b[0;36mread_data\u001b[0;34m(chunk_size)\u001b[0m\n\u001b[1;32m    995\u001b[0m \u001b[0;34m\u001b[0m\u001b[0m\n\u001b[1;32m    996\u001b[0m             \u001b[0;31m# Convert each value according to its column and store\u001b[0m\u001b[0;34m\u001b[0m\u001b[0;34m\u001b[0m\u001b[0;34m\u001b[0m\u001b[0m\n\u001b[0;32m--> 997\u001b[0;31m             \u001b[0mitems\u001b[0m \u001b[0;34m=\u001b[0m \u001b[0;34m[\u001b[0m\u001b[0mconv\u001b[0m\u001b[0;34m(\u001b[0m\u001b[0mval\u001b[0m\u001b[0;34m)\u001b[0m \u001b[0;32mfor\u001b[0m \u001b[0;34m(\u001b[0m\u001b[0mconv\u001b[0m\u001b[0;34m,\u001b[0m \u001b[0mval\u001b[0m\u001b[0;34m)\u001b[0m \u001b[0;32min\u001b[0m \u001b[0mzip\u001b[0m\u001b[0;34m(\u001b[0m\u001b[0mconverters\u001b[0m\u001b[0;34m,\u001b[0m \u001b[0mvals\u001b[0m\u001b[0;34m)\u001b[0m\u001b[0;34m]\u001b[0m\u001b[0;34m\u001b[0m\u001b[0;34m\u001b[0m\u001b[0m\n\u001b[0m\u001b[1;32m    998\u001b[0m \u001b[0;34m\u001b[0m\u001b[0m\n\u001b[1;32m    999\u001b[0m             \u001b[0;31m# Then pack it according to the dtype's nesting\u001b[0m\u001b[0;34m\u001b[0m\u001b[0;34m\u001b[0m\u001b[0;34m\u001b[0m\u001b[0m\n",
      "\u001b[0;32m/opt/anaconda3/lib/python3.7/site-packages/numpy/lib/npyio.py\u001b[0m in \u001b[0;36m<listcomp>\u001b[0;34m(.0)\u001b[0m\n\u001b[1;32m    995\u001b[0m \u001b[0;34m\u001b[0m\u001b[0m\n\u001b[1;32m    996\u001b[0m             \u001b[0;31m# Convert each value according to its column and store\u001b[0m\u001b[0;34m\u001b[0m\u001b[0;34m\u001b[0m\u001b[0;34m\u001b[0m\u001b[0m\n\u001b[0;32m--> 997\u001b[0;31m             \u001b[0mitems\u001b[0m \u001b[0;34m=\u001b[0m \u001b[0;34m[\u001b[0m\u001b[0mconv\u001b[0m\u001b[0;34m(\u001b[0m\u001b[0mval\u001b[0m\u001b[0;34m)\u001b[0m \u001b[0;32mfor\u001b[0m \u001b[0;34m(\u001b[0m\u001b[0mconv\u001b[0m\u001b[0;34m,\u001b[0m \u001b[0mval\u001b[0m\u001b[0;34m)\u001b[0m \u001b[0;32min\u001b[0m \u001b[0mzip\u001b[0m\u001b[0;34m(\u001b[0m\u001b[0mconverters\u001b[0m\u001b[0;34m,\u001b[0m \u001b[0mvals\u001b[0m\u001b[0;34m)\u001b[0m\u001b[0;34m]\u001b[0m\u001b[0;34m\u001b[0m\u001b[0;34m\u001b[0m\u001b[0m\n\u001b[0m\u001b[1;32m    998\u001b[0m \u001b[0;34m\u001b[0m\u001b[0m\n\u001b[1;32m    999\u001b[0m             \u001b[0;31m# Then pack it according to the dtype's nesting\u001b[0m\u001b[0;34m\u001b[0m\u001b[0;34m\u001b[0m\u001b[0;34m\u001b[0m\u001b[0m\n",
      "\u001b[0;32m/opt/anaconda3/lib/python3.7/site-packages/numpy/lib/npyio.py\u001b[0m in \u001b[0;36mfloatconv\u001b[0;34m(x)\u001b[0m\n\u001b[1;32m    732\u001b[0m         \u001b[0;32mif\u001b[0m \u001b[0;34m'0x'\u001b[0m \u001b[0;32min\u001b[0m \u001b[0mx\u001b[0m\u001b[0;34m:\u001b[0m\u001b[0;34m\u001b[0m\u001b[0;34m\u001b[0m\u001b[0m\n\u001b[1;32m    733\u001b[0m             \u001b[0;32mreturn\u001b[0m \u001b[0mfloat\u001b[0m\u001b[0;34m.\u001b[0m\u001b[0mfromhex\u001b[0m\u001b[0;34m(\u001b[0m\u001b[0mx\u001b[0m\u001b[0;34m)\u001b[0m\u001b[0;34m\u001b[0m\u001b[0;34m\u001b[0m\u001b[0m\n\u001b[0;32m--> 734\u001b[0;31m         \u001b[0;32mreturn\u001b[0m \u001b[0mfloat\u001b[0m\u001b[0;34m(\u001b[0m\u001b[0mx\u001b[0m\u001b[0;34m)\u001b[0m\u001b[0;34m\u001b[0m\u001b[0;34m\u001b[0m\u001b[0m\n\u001b[0m\u001b[1;32m    735\u001b[0m \u001b[0;34m\u001b[0m\u001b[0m\n\u001b[1;32m    736\u001b[0m     \u001b[0mtyp\u001b[0m \u001b[0;34m=\u001b[0m \u001b[0mdtype\u001b[0m\u001b[0;34m.\u001b[0m\u001b[0mtype\u001b[0m\u001b[0;34m\u001b[0m\u001b[0;34m\u001b[0m\u001b[0m\n",
      "\u001b[0;31mKeyboardInterrupt\u001b[0m: "
     ]
    }
   ],
   "source": [
    "auc_scores = []\n",
    "pr_auc = []\n",
    "\n",
    "dat = pd.read_csv(\"20220115_all_paragraphs_2020_added.csv\")\n",
    "annotated = pd.read_csv(\"All_annotated_data_populism.csv\")\n",
    "dat = dat.merge(annotated[[\"speech_par_id\", \"pred_class\"]], how = \"left\", on = \"speech_par_id\")\n",
    "avg_embeddings = loadtxt('avg_embeddings_pretrained.csv', delimiter=',')\n",
    "\n",
    "for filename in os.listdir(\"/Users/yuchenluo/Desktop/Measure_RadicalDiscourse/codes/Prediction_of_test_populism/\"):\n",
    "    ## load the test set \n",
    "    file = \"/Users/yuchenluo/Desktop/Measure_RadicalDiscourse/codes/Prediction_of_test_populism/\" + \"/\" + filename\n",
    "    test = pd.read_csv(file)\n",
    "    train = annotated[~annotated['speech_par_id'].isin(test[\"speech_par_id\"])]\n",
    "    test = test[test['speech_par_id'].isin(dat['speech_par_id'])]\n",
    "    train = train[train['speech_par_id'].isin(dat['speech_par_id'])] # make sure annotated data and the original df match\n",
    "    # attach train/test set to original df\n",
    "    train_id = train['speech_par_id']\n",
    "    test_id = test['speech_par_id']    \n",
    "    dat['test'] = np.where(dat['speech_par_id'].isin(test_id), 1, 0)\n",
    "    dat['train'] = np.where(dat['speech_par_id'].isin(train_id), 1, 0)\n",
    "    # get the embeddings to train/test set\n",
    "    train_vec = np.asarray([avg_embeddings[i] for i in dat[dat['speech_par_id'].isin(train_id)].index.tolist()])\n",
    "    test_vec = np.asarray([avg_embeddings[i] for i in dat[dat['speech_par_id'].isin(test_id)].index.tolist()])\n",
    "    ## Fit the model to the training set\n",
    "    text_clf = RandomForestClassifier(n_estimators=500, max_depth=3, random_state=0, max_features = \"sqrt\", class_weight=\"balanced\")\n",
    "    text_clf.fit(train_vec,  dat[dat['train']==1].pred_class) # use the original df to match the order\n",
    "    ## Predict out-of-sample on the test set and compute AUC\n",
    "    preds = text_clf.predict_proba(test_vec)\n",
    "    fpr_d2v, tpr_d2v, thresholds_d2v = metrics.roc_curve(dat[dat['test']==1].pred_class, preds[:,1], pos_label=1)\n",
    "    auc_scores = auc_scores + [metrics.auc(fpr_d2v, tpr_d2v)]\n",
    "    #PR AUC\n",
    "    lr_precision, lr_recall, _ = precision_recall_curve(dat[dat['test']==1].pred_class,  preds[:,1].tolist())\n",
    "    lr_auc = auc(lr_recall, lr_precision)\n",
    "    pr_auc = pr_auc + [lr_auc]\n",
    "    print(\"AUC: \"+str(metrics.auc(fpr_d2v, tpr_d2v)))\n",
    "    print(\"PR AUC: \" + str(lr_auc))\n",
    "    \n",
    "print(\"Mean AUC: \" + str(np.mean(auc_scores)))\n",
    "print(\"Mean PR AUC: \" + str(np.mean(pr_auc)))\n",
    "\n",
    "confusion = confusion_matrix(dat[dat['test']==1].pred_class,text_clf.predict(test_vec) )\n",
    "print(confusion)"
   ]
  },
  {
   "cell_type": "code",
   "execution_count": 26,
   "metadata": {},
   "outputs": [],
   "source": [
    "with open(\"populism_pr_auc_pretrained.csv\", \"w\") as csvfile:\n",
    "    csvwriter = csv.writer(csvfile)\n",
    "    for row in pr_auc:\n",
    "        csvwriter.writerow([row])    \n",
    "    \n",
    "with open(\"populism_auc_pretrained.csv\", \"w\") as csvfile:\n",
    "    csvwriter = csv.writer(csvfile)\n",
    "    for row in auc_scores:\n",
    "        csvwriter.writerow([row])"
   ]
  },
  {
   "cell_type": "markdown",
   "metadata": {},
   "source": [
    "# Doc2Vec RF"
   ]
  },
  {
   "cell_type": "code",
   "execution_count": 3,
   "metadata": {},
   "outputs": [
    {
     "name": "stderr",
     "output_type": "stream",
     "text": [
      "/opt/anaconda3/lib/python3.7/site-packages/IPython/core/interactiveshell.py:3063: DtypeWarning: Columns (7) have mixed types.Specify dtype option on import or set low_memory=False.\n",
      "  interactivity=interactivity, compiler=compiler, result=result)\n"
     ]
    },
    {
     "name": "stdout",
     "output_type": "stream",
     "text": [
      "AUC: 0.9216524216524216\n",
      "Accuracy: 0.9685393258426966\n",
      "PR_AUC: 0.27355540942177103\n",
      "AUC: 0.873397435897436\n",
      "Accuracy: 0.9662921348314607\n",
      "PR_AUC: 0.20825762795191552\n",
      "AUC: 0.8668091168091169\n",
      "Accuracy: 0.9707865168539326\n",
      "PR_AUC: 0.20304822005261253\n",
      "AUC: 0.9225427350427351\n",
      "Accuracy: 0.9640449438202248\n",
      "PR_AUC: 0.18747421597419112\n",
      "AUC: 0.8728632478632479\n",
      "Accuracy: 0.9730337078651685\n",
      "PR_AUC: 0.2574036765521344\n",
      "AUC: 0.9330715688024271\n",
      "Accuracy: 0.9752252252252253\n",
      "PR_AUC: 0.3810561115722895\n",
      "AUC: 0.9155982905982907\n",
      "Accuracy: 0.9662921348314607\n",
      "PR_AUC: 0.27001887859149215\n",
      "AUC: 0.9013532763532763\n",
      "Accuracy: 0.9707865168539326\n",
      "PR_AUC: 0.363115852275887\n",
      "AUC: 0.9228988603988604\n",
      "Accuracy: 0.9730337078651685\n",
      "PR_AUC: 0.36628873064698664\n",
      "AUC: 0.8648504273504274\n",
      "Accuracy: 0.9685393258426966\n",
      "PR_AUC: 0.28922565985300597\n",
      "AUC: 0.9172008547008548\n",
      "Accuracy: 0.9662921348314607\n",
      "PR_AUC: 0.2442976856132296\n",
      "AUC: 0.9518115295377476\n",
      "Accuracy: 0.9707207207207207\n",
      "PR_AUC: 0.4357343700789092\n",
      "AUC: 0.9323361823361823\n",
      "Accuracy: 0.9730337078651685\n",
      "PR_AUC: 0.4154764292218985\n",
      "AUC: 0.9376780626780626\n",
      "Accuracy: 0.9752808988764045\n",
      "PR_AUC: 0.47849181650708383\n",
      "AUC: 0.9266381766381766\n",
      "Accuracy: 0.9775280898876404\n",
      "PR_AUC: 0.47870746642649853\n",
      "AUC: 0.920940170940171\n",
      "Accuracy: 0.9730337078651685\n",
      "PR_AUC: 0.38527405418339816\n",
      "AUC: 0.9253917378917379\n",
      "Accuracy: 0.9730337078651685\n",
      "PR_AUC: 0.3006867852387636\n",
      "AUC: 0.8860398860398861\n",
      "Accuracy: 0.9730337078651685\n",
      "PR_AUC: 0.31391078595461575\n",
      "AUC: 0.9346509971509971\n",
      "Accuracy: 0.9707865168539326\n",
      "PR_AUC: 0.3172486343375343\n",
      "AUC: 0.932179189719793\n",
      "Accuracy: 0.9707207207207207\n",
      "PR_AUC: 0.3817186889400469\n",
      "AUC: 0.9084419061217205\n",
      "Accuracy: 0.972972972972973\n",
      "PR_AUC: 0.32298838040027433\n",
      "AUC: 0.9307513831875781\n",
      "Accuracy: 0.9752252252252253\n",
      "PR_AUC: 0.45753196999736995\n",
      "AUC: 0.8648938068891665\n",
      "Accuracy: 0.9707207207207207\n",
      "PR_AUC: 0.23273378128800398\n",
      "AUC: 0.9396751740139211\n",
      "Accuracy: 0.9684684684684685\n",
      "PR_AUC: 0.2838223027406037\n",
      "AUC: 0.896305550597894\n",
      "Accuracy: 0.9752252252252253\n",
      "PR_AUC: 0.555357769480267\n",
      "Mean AUC: 0.9119988795684852\n",
      "Mean Accuracy: 0.9713060026318453\n",
      "[[431   0]\n",
      " [ 11   2]]\n"
     ]
    }
   ],
   "source": [
    "auc_scores_d2v = []\n",
    "pr_auc = []\n",
    "accuracy_scores_d2v = []\n",
    "\n",
    "dat = pd.read_csv(\"20220115_all_paragraphs_2020_added.csv\")\n",
    "\n",
    "model = Word2Vec.load(\"doc2vec_wordvecs.model\") \n",
    "annotated = pd.read_csv(\"All_annotated_data_populism.csv\")\n",
    "dat = dat.merge(annotated[[\"speech_par_id\", \"pred_class\"]], how = \"left\", on = \"speech_par_id\")\n",
    "\n",
    "for filename in os.listdir(\"/Users/yuchenluo/Desktop/Measure_RadicalDiscourse/codes/Prediction_of_test_populism/\"):\n",
    "    ## load the test set \n",
    "    file = \"/Users/yuchenluo/Desktop/Measure_RadicalDiscourse/codes/Prediction_of_test_populism/\" + \"/\" + filename\n",
    "    test = pd.read_csv(file)\n",
    "    train = annotated[~annotated['speech_par_id'].isin(test[\"speech_par_id\"])]\n",
    "    test = test[test['speech_par_id'].isin(dat['speech_par_id'])]\n",
    "    train = train[train['speech_par_id'].isin(dat['speech_par_id'])] # make sure annotated data and the original df match\n",
    "    # merge test and train sets back onto the total df\n",
    "    dat['test'] = np.where(dat['speech_par_id'].isin(test[\"speech_par_id\"]), 1, 0)\n",
    "    dat['train'] = np.where(dat['speech_par_id'].isin(train[\"speech_par_id\"]), 1, 0)\n",
    "    # so that teh order of rows are the same with the embeddings\n",
    "    test_set = np.asarray([model.docvecs[i] for i in dat[dat['test'] == 1].index.tolist()])\n",
    "    train_set = np.asarray([model.docvecs[i] for i in dat[dat['train']== 1].index.tolist()])\n",
    "    ## Initialize a random forest classifier\n",
    "    gbc = RandomForestClassifier(n_estimators=500, max_depth=3, random_state=0, max_features = \"sqrt\", class_weight=\"balanced\")\n",
    "    ## Fit the model to the training set\n",
    "    gbc.fit(train_set, dat[dat['train']==1].pred_class)\n",
    "    ## Predict out-of-sample on the test set and compute AUC\n",
    "    preds = gbc.predict_proba(test_set)\n",
    "    fpr_d2v, tpr_d2v, thresholds_d2v = metrics.roc_curve(dat[dat['test']==1].pred_class, preds[:,1], pos_label=1)\n",
    "    auc_scores_d2v = auc_scores_d2v + [metrics.auc(fpr_d2v, tpr_d2v)]\n",
    "    #PR AUC\n",
    "    lr_precision, lr_recall, _ = precision_recall_curve(dat[dat['test']==1].pred_class,  preds[:,1].tolist())\n",
    "    lr_auc = auc(lr_recall, lr_precision)\n",
    "    pr_auc = pr_auc + [lr_auc]\n",
    "    print(\"AUC: \"+str(metrics.auc(fpr_d2v, tpr_d2v)))\n",
    "    accuracy_d2v = metrics.accuracy_score(dat[dat['test']==1].pred_class, gbc.predict(test_set))\n",
    "    accuracy_scores_d2v = accuracy_scores_d2v + [accuracy_d2v]\n",
    "    print(\"Accuracy: \" + str(accuracy_d2v))\n",
    "    print(\"PR_AUC: \" + str(lr_auc))\n",
    "\n",
    "print(\"Mean AUC: \" + str(np.mean(auc_scores_d2v)))\n",
    "print(\"Mean Accuracy: \" + str(np.mean(accuracy_scores_d2v)))\n",
    "\n",
    "confusion = confusion_matrix(dat[dat['test']==1].pred_class, gbc.predict(test_set))\n",
    "print(confusion)"
   ]
  },
  {
   "cell_type": "code",
   "execution_count": null,
   "metadata": {},
   "outputs": [],
   "source": []
  },
  {
   "cell_type": "code",
   "execution_count": null,
   "metadata": {},
   "outputs": [],
   "source": []
  },
  {
   "cell_type": "code",
   "execution_count": 11,
   "metadata": {},
   "outputs": [],
   "source": [
    "with open(\"populism_pr_auc.csv\", \"w\") as csvfile:\n",
    "    csvwriter = csv.writer(csvfile)\n",
    "    for row in pr_auc:\n",
    "        csvwriter.writerow([row])\n",
    "    \n",
    "    \n",
    "with open(\"populism_auc.csv\", \"w\") as csvfile:\n",
    "    csvwriter = csv.writer(csvfile)\n",
    "    for row in auc_scores_d2v:\n",
    "        csvwriter.writerow([row])"
   ]
  },
  {
   "cell_type": "code",
   "execution_count": 4,
   "metadata": {},
   "outputs": [
    {
     "name": "stdout",
     "output_type": "stream",
     "text": [
      "Standard Deviation: 0.02571281527486323\n",
      "Standard Deviation: 0.003314339257060044\n",
      "0.33613701213203134\n"
     ]
    }
   ],
   "source": [
    "print(\"Standard Deviation: \" + str(np.std(auc_scores_d2v)))\n",
    "print(\"Standard Deviation: \" + str(np.std(accuracy_scores_d2v)))\n",
    "print(sum(pr_auc)/len(pr_auc))"
   ]
  },
  {
   "cell_type": "code",
   "execution_count": 6,
   "metadata": {},
   "outputs": [
    {
     "name": "stdout",
     "output_type": "stream",
     "text": [
      "AUC: 0.9439102564102564\n",
      "Accuracy: 0.8471910112359551\n",
      "PR_AUC: 0.3810566932086169\n",
      "AUC: 0.8941417378917379\n",
      "Accuracy: 0.8292134831460675\n",
      "PR_AUC: 0.25445705122000833\n",
      "AUC: 0.8875534188034188\n",
      "Accuracy: 0.8426966292134831\n",
      "PR_AUC: 0.24450144094600113\n",
      "AUC: 0.932514245014245\n",
      "Accuracy: 0.8269662921348314\n",
      "PR_AUC: 0.21494119197020228\n",
      "AUC: 0.9066061253561254\n",
      "Accuracy: 0.8584269662921349\n",
      "PR_AUC: 0.30855018580652277\n",
      "AUC: 0.9484204890237371\n",
      "Accuracy: 0.8288288288288288\n",
      "PR_AUC: 0.4380828468913973\n",
      "AUC: 0.9197827635327636\n",
      "Accuracy: 0.8539325842696629\n",
      "PR_AUC: 0.271415807857777\n",
      "AUC: 0.9250356125356126\n",
      "Accuracy: 0.8741573033707866\n",
      "PR_AUC: 0.3982344188310565\n",
      "AUC: 0.9407051282051283\n",
      "Accuracy: 0.8539325842696629\n",
      "PR_AUC: 0.5031707146418541\n",
      "AUC: 0.8874643874643875\n",
      "Accuracy: 0.8471910112359551\n",
      "PR_AUC: 0.329087831188469\n",
      "AUC: 0.9155982905982907\n",
      "Accuracy: 0.8696629213483146\n",
      "PR_AUC: 0.2846791801019254\n",
      "AUC: 0.9644833125111547\n",
      "Accuracy: 0.8513513513513513\n",
      "PR_AUC: 0.5596221760943898\n",
      "AUC: 0.9460470085470086\n",
      "Accuracy: 0.8651685393258427\n",
      "PR_AUC: 0.4865974068059306\n",
      "AUC: 0.963497150997151\n",
      "Accuracy: 0.8044943820224719\n",
      "PR_AUC: 0.5625566229832875\n",
      "AUC: 0.938034188034188\n",
      "Accuracy: 0.8359550561797753\n",
      "PR_AUC: 0.4675280878026201\n",
      "AUC: 0.948005698005698\n",
      "Accuracy: 0.8449438202247191\n",
      "PR_AUC: 0.5323712416228199\n",
      "AUC: 0.9585113960113959\n",
      "Accuracy: 0.8359550561797753\n",
      "PR_AUC: 0.42448653669555864\n",
      "AUC: 0.9188924501424501\n",
      "Accuracy: 0.8337078651685393\n",
      "PR_AUC: 0.4963606083508258\n",
      "AUC: 0.9407051282051282\n",
      "Accuracy: 0.8089887640449438\n",
      "PR_AUC: 0.5021387037906156\n",
      "AUC: 0.9594859896484028\n",
      "Accuracy: 0.8423423423423423\n",
      "PR_AUC: 0.49306464313947806\n",
      "AUC: 0.9403890772800286\n",
      "Accuracy: 0.831081081081081\n",
      "PR_AUC: 0.4673444151837971\n",
      "AUC: 0.9530608602534357\n",
      "Accuracy: 0.8536036036036037\n",
      "PR_AUC: 0.6475434284609896\n",
      "AUC: 0.8896127074781367\n",
      "Accuracy: 0.8445945945945946\n",
      "PR_AUC: 0.29440317732953797\n",
      "AUC: 0.9541317151525969\n",
      "Accuracy: 0.8536036036036037\n",
      "PR_AUC: 0.3341475890061582\n",
      "AUC: 0.9167410315902195\n",
      "Accuracy: 0.8536036036036037\n",
      "PR_AUC: 0.5730389474352761\n",
      "Mean AUC: 0.9317332067477079\n",
      "Mean Accuracy: 0.8436637311468772\n"
     ]
    }
   ],
   "source": [
    "auc_scores_balanced = []\n",
    "pr_auc_balanced = []\n",
    "accuracy_scores_balanced = []\n",
    "\n",
    "\n",
    "dat = pd.read_csv(\"20201115_all_paragraphs.csv\")\n",
    "dat['speech_par_id'] = dat['Speech_id'].astype(str) + \"_\" + dat['par_id'].astype(str)\n",
    "# X = np.asarray([model.docvecs[i] for i in label_dat.index.tolist()])\n",
    "# Y = np.asarray(label_dat['label'].tolist(), dtype=\"int\")\n",
    "model = Word2Vec.load(\"doc2vec_wordvecs.model\") \n",
    "annotated = pd.read_csv(\"All_annotated_data_populism.csv\")\n",
    "dat = dat.merge(annotated[[\"speech_par_id\", \"pred_class\"]], how = \"left\", on = \"speech_par_id\")\n",
    "\n",
    "\n",
    "for filename in os.listdir(\"/Users/yuchenluo/Desktop/Measure_RadicalDiscourse/codes/Prediction_of_test_populism/\"):\n",
    "    ## load the test set \n",
    "    file = \"/Users/yuchenluo/Desktop/Measure_RadicalDiscourse/codes/Prediction_of_test_populism/\" + \"/\" + filename\n",
    "    test = pd.read_csv(file)\n",
    "    train = annotated[~annotated['speech_par_id'].isin(test[\"speech_par_id\"])]\n",
    "    test = test[test['speech_par_id'].isin(dat['speech_par_id'])]\n",
    "    train = train[train['speech_par_id'].isin(dat['speech_par_id'])] # make sure annotated data and the original df match\n",
    "    # merge test and train sets back onto the total df\n",
    "    dat['test'] = np.where(dat['speech_par_id'].isin(test[\"speech_par_id\"]), 1, 0)\n",
    "    dat['train'] = np.where(dat['speech_par_id'].isin(train[\"speech_par_id\"]), 1, 0)\n",
    "    # so that teh order of rows are the same with the embeddings\n",
    "    test_set = np.asarray([model.docvecs[i] for i in dat[dat['test'] == 1].index.tolist()])\n",
    "    train_set = np.asarray([model.docvecs[i] for i in dat[dat['train']== 1].index.tolist()])\n",
    "    ## Initialize a random forest classifier\n",
    "    brfc = BalancedRandomForestClassifier(n_estimators=5000, max_depth=10, random_state=0, max_features = \"sqrt\")\n",
    "    ## Fit the model to the training set\n",
    "    brfc.fit(train_set, dat[dat['train']==1].pred_class)\n",
    "    ## Predict out-of-sample on the test set and compute AUC\n",
    "    preds = brfc.predict_proba(test_set)\n",
    "    fpr, tpr, thresholds = metrics.roc_curve(dat[dat['test']==1].pred_class, preds[:,1], pos_label=1)\n",
    "    auc_scores_balanced = auc_scores_balanced + [metrics.auc(fpr, tpr)]\n",
    "    #PR AUC\n",
    "    lr_precision, lr_recall, _ = precision_recall_curve(dat[dat['test']==1].pred_class,  preds[:,1].tolist())\n",
    "    lr_auc = auc(lr_recall, lr_precision)\n",
    "    pr_auc_balanced = pr_auc_balanced + [lr_auc]\n",
    "    print(\"AUC: \"+str(metrics.auc(fpr, tpr)))\n",
    "    accuracy_balanced = metrics.accuracy_score(dat[dat['test']==1].pred_class, brfc.predict(test_set))\n",
    "    accuracy_scores_balanced = accuracy_scores_balanced + [accuracy_balanced]\n",
    "    print(\"Accuracy: \" + str(accuracy_balanced))\n",
    "    print(\"PR_AUC: \" + str(lr_auc))\n",
    "\n",
    "print(\"Mean AUC: \" + str(np.mean(auc_scores_balanced)))\n",
    "print(\"Mean Accuracy: \" + str(np.mean(accuracy_scores_balanced)))"
   ]
  },
  {
   "cell_type": "code",
   "execution_count": 124,
   "metadata": {},
   "outputs": [
    {
     "name": "stdout",
     "output_type": "stream",
     "text": [
      "Mean ROC-AUC: 0.9056987493472414\n",
      "Mean Accuracy: 0.9715146607281437\n",
      "Mean PR_AUC: 0.3260486611864\n"
     ]
    }
   ],
   "source": [
    "print(\"Mean ROC-AUC: \" + str(np.mean(auc_scores_d2v)))\n",
    "print(\"Mean Accuracy: \" + str(np.mean(accuracy_scores_d2v)))\n",
    "print(\"Mean PR_AUC: \" + str(np.mean(pr_auc)))"
   ]
  },
  {
   "cell_type": "code",
   "execution_count": 121,
   "metadata": {},
   "outputs": [
    {
     "name": "stdout",
     "output_type": "stream",
     "text": [
      "[[368  64]\n",
      " [  1  12]]\n"
     ]
    }
   ],
   "source": [
    "confusion = confusion_matrix(dat[dat['test']==1].pred_class, brfc.predict(test_set))\n",
    "print(confusion)"
   ]
  },
  {
   "cell_type": "code",
   "execution_count": 123,
   "metadata": {},
   "outputs": [
    {
     "name": "stdout",
     "output_type": "stream",
     "text": [
      "Mean ROC-AUC: 0.92611854484921\n",
      "Mean Accuracy: 0.8472257650909337\n",
      "Mean PR_AUC: 0.39700123955248284\n"
     ]
    }
   ],
   "source": [
    "print(\"Mean ROC-AUC: \" + str(np.mean(auc_scores_balanced)))\n",
    "print(\"Mean Accuracy: \" + str(np.mean(accuracy_scores_balanced)))\n",
    "print(\"Mean PR_AUC: \" + str(np.mean(pr_auc_balanced)))"
   ]
  },
  {
   "cell_type": "code",
   "execution_count": 12,
   "metadata": {},
   "outputs": [],
   "source": [
    "with open(\"populism_pr_auc_balanced.csv\", \"w\") as csvfile:\n",
    "    csvwriter = csv.writer(csvfile)\n",
    "    for row in pr_auc_balanced:\n",
    "        csvwriter.writerow([row])\n",
    "\n",
    "    \n",
    "with open(\"populism_auc_balanced.csv\", \"w\") as csvfile:\n",
    "    csvwriter = csv.writer(csvfile)\n",
    "    for row in auc_scores_balanced:\n",
    "        csvwriter.writerow([row])\n",
    "    \n"
   ]
  },
  {
   "cell_type": "code",
   "execution_count": 70,
   "metadata": {},
   "outputs": [
    {
     "ename": "NameError",
     "evalue": "name 'clas_dat' is not defined",
     "output_type": "error",
     "traceback": [
      "\u001b[0;31m---------------------------------------------------------------------------\u001b[0m",
      "\u001b[0;31mNameError\u001b[0m                                 Traceback (most recent call last)",
      "\u001b[0;32m<ipython-input-70-dfb7b053fae8>\u001b[0m in \u001b[0;36m<module>\u001b[0;34m\u001b[0m\n\u001b[1;32m      7\u001b[0m \u001b[0;34m\u001b[0m\u001b[0m\n\u001b[1;32m      8\u001b[0m \u001b[0;31m# X_pool = np.asarray([model.docvecs[i] for i in clas_dat.index[clas_dat['label'].isnull()].tolist()])\u001b[0m\u001b[0;34m\u001b[0m\u001b[0;34m\u001b[0m\u001b[0;34m\u001b[0m\u001b[0m\n\u001b[0;32m----> 9\u001b[0;31m \u001b[0munlabelled\u001b[0m \u001b[0;34m=\u001b[0m \u001b[0mclas_dat\u001b[0m\u001b[0;34m[\u001b[0m\u001b[0mclas_dat\u001b[0m\u001b[0;34m[\u001b[0m\u001b[0;34m'label'\u001b[0m\u001b[0;34m]\u001b[0m\u001b[0;34m.\u001b[0m\u001b[0misnull\u001b[0m\u001b[0;34m(\u001b[0m\u001b[0;34m)\u001b[0m\u001b[0;34m]\u001b[0m\u001b[0;34m\u001b[0m\u001b[0;34m\u001b[0m\u001b[0m\n\u001b[0m\u001b[1;32m     10\u001b[0m \u001b[0munlabelled\u001b[0m \u001b[0;34m=\u001b[0m \u001b[0munlabelled\u001b[0m\u001b[0;34m.\u001b[0m\u001b[0mreindex\u001b[0m\u001b[0;34m(\u001b[0m\u001b[0mrange\u001b[0m\u001b[0;34m(\u001b[0m\u001b[0;36m0\u001b[0m\u001b[0;34m,\u001b[0m \u001b[0mlen\u001b[0m\u001b[0;34m(\u001b[0m\u001b[0munlabelled\u001b[0m\u001b[0;34m)\u001b[0m\u001b[0;34m)\u001b[0m\u001b[0;34m)\u001b[0m\u001b[0;34m\u001b[0m\u001b[0;34m\u001b[0m\u001b[0m\n\u001b[1;32m     11\u001b[0m \u001b[0;31m# # len(unlabelled)\u001b[0m\u001b[0;34m\u001b[0m\u001b[0;34m\u001b[0m\u001b[0;34m\u001b[0m\u001b[0m\n",
      "\u001b[0;31mNameError\u001b[0m: name 'clas_dat' is not defined"
     ]
    }
   ],
   "source": [
    "# learner = ActiveLearner(\n",
    "#     estimator= BalancedRandomForestClassifier(n_estimators=5000, max_depth=10, random_state=0,oob_score = True),\n",
    "#     query_strategy=entropy_sampling,\n",
    "#     X_training=X_training, y_training=Y_training\n",
    "# )\n",
    "\n",
    "\n",
    "# X_pool = np.asarray([model.docvecs[i] for i in clas_dat.index[clas_dat['label'].isnull()].tolist()])\n",
    "unlabelled = clas_dat[clas_dat['label'].isnull()]\n",
    "unlabelled = unlabelled.reindex(range(0, len(unlabelled)))\n",
    "# # len(unlabelled)\n",
    "# query_idx, query_inst = learner.query(X_pool, 69290)\n",
    "# print(query_idx)\n",
    "\n",
    "\n",
    "# unlabelled.loc[query_idx.tolist(), ]\n",
    "\n",
    "\n"
   ]
  },
  {
   "cell_type": "code",
   "execution_count": 178,
   "metadata": {},
   "outputs": [
    {
     "name": "stdout",
     "output_type": "stream",
     "text": [
      "(577, 150)\n"
     ]
    },
    {
     "data": {
      "text/plain": [
       "array([0, 0, 0, 0, 0, 0, 0, 0, 0, 0, 0, 0, 0, 0, 0, 0, 0, 0, 0, 0, 0, 0,\n",
       "       0, 0, 0, 0, 0, 0, 0, 0, 0, 0, 0, 0, 0, 0, 0, 0, 0, 0, 0, 0, 0, 0,\n",
       "       0, 0, 0, 0, 0, 0, 0, 0, 0, 0, 0, 0, 0, 0, 0, 0, 0, 0, 0, 0, 0, 0,\n",
       "       0, 0, 0, 0, 0, 0, 0, 0, 0, 0, 0, 0, 0, 0, 0, 0, 0, 0, 0, 0, 0, 0,\n",
       "       0, 0, 0, 0, 0, 0, 0, 0, 0, 0, 0, 0, 0, 0, 0, 0, 0, 0, 0, 0, 0, 0,\n",
       "       0, 0, 0, 0, 0, 0, 0, 0, 0, 0, 0, 0, 0, 0, 0, 0, 0, 0, 0, 0, 0, 0,\n",
       "       0, 0, 0, 0, 0, 0, 0, 0, 0, 0, 0, 0, 0, 0, 0, 0, 0, 0, 0, 0, 0, 0,\n",
       "       0, 0, 0, 0, 0, 0, 0, 0, 0, 0, 0, 0, 0, 0, 0, 0, 0, 0, 0, 0, 0, 0,\n",
       "       0, 0, 0, 0, 0, 0, 0, 0, 0, 0, 0, 0, 0, 0, 0, 0, 0, 0, 0, 0, 0, 0,\n",
       "       0, 0, 0, 0, 0, 0, 0, 0, 0, 0, 0, 0, 0, 0, 0, 0, 0, 0, 0, 0, 0, 0,\n",
       "       0, 0, 0, 0, 0, 0, 0, 0, 0, 0, 0, 0, 0, 0, 0, 0, 0, 0, 0, 0, 0, 0,\n",
       "       0, 0, 0, 0, 0, 0, 0, 0, 0, 0, 0, 0, 0, 0, 0, 0, 0, 0, 0, 0, 0, 0,\n",
       "       0, 0, 0, 0, 0, 0, 0, 0, 0, 0, 0, 0, 0, 0, 0, 0, 0, 0, 0, 0, 0, 0,\n",
       "       0, 0, 0, 0, 0, 0, 0, 0, 0, 0, 0, 0, 0, 0, 0, 0, 0, 0, 0, 0, 0, 0,\n",
       "       0, 0, 0, 0, 0, 0, 0, 0, 0, 0, 0, 0, 0, 0, 0, 0, 0, 0, 0, 0, 0, 0,\n",
       "       0, 0, 0, 0, 0, 0, 0, 0, 0, 0, 0, 0, 0, 0, 0, 0, 0, 0, 0, 0, 0, 0,\n",
       "       0, 0, 0, 0, 0, 0, 0, 0, 0, 0, 0, 0, 0, 0, 0, 0, 0, 0, 0, 0, 0, 0,\n",
       "       0, 0, 0, 0, 1, 1, 1, 1, 1, 1, 1, 1, 1, 1, 1, 1, 1, 1, 1, 1, 1, 1,\n",
       "       1, 1, 1, 1, 1, 1, 1, 1, 1, 1, 1, 1, 1, 1, 1, 1, 1, 1, 1, 1, 1, 1,\n",
       "       1, 1, 1, 1, 1, 1, 1, 1, 1, 1, 1, 1, 1, 1, 1, 1, 1, 1, 1, 1, 1, 1,\n",
       "       1, 1, 1, 1, 1, 1, 1, 1, 1, 1, 1, 1, 1, 1, 1, 1, 1, 1, 1, 1, 1, 1,\n",
       "       1, 1, 1, 1, 1, 1, 1, 1, 1, 1, 1, 1, 1, 1, 1, 1, 1, 1, 1, 1, 1, 1,\n",
       "       1, 1, 1, 1, 1, 1, 1, 1, 1, 1, 1, 1, 1, 1, 1, 1, 1, 1, 1, 1, 1, 1,\n",
       "       1, 1, 1, 1, 1, 1, 1, 1, 1, 1, 1, 1, 1, 1, 1, 1, 1, 1, 1, 1, 1, 1,\n",
       "       1, 1, 1, 1, 1, 1, 1, 1, 1, 1, 1, 1, 1, 1, 1, 1, 1, 1, 1, 1, 1, 1,\n",
       "       1, 1, 1, 1, 1, 1, 1, 1, 1, 1, 1, 1, 1, 1, 1, 1, 1, 0, 0, 0, 0, 0,\n",
       "       0, 0, 0, 0, 0])"
      ]
     },
     "execution_count": 178,
     "metadata": {},
     "output_type": "execute_result"
    }
   ],
   "source": [
    "clas_dat.loc[query_idx, 'label'] = 0\n",
    "\n",
    "# Define new training set\n",
    "x_new_train = np.asarray([model.docvecs[i] for i in query_idx])\n",
    "y_new_train = np.asarray(clas_dat.loc[query_idx, 'label'].tolist(), dtype=\"int\")\n",
    "X_training = np.append(X_training,x_new_train, axis = 0)\n",
    "Y_training = np.append(Y_training,y_new_train, axis = 0)\n",
    "\n",
    "print(X_training.shape)\n",
    "Y_training"
   ]
  },
  {
   "cell_type": "code",
   "execution_count": 179,
   "metadata": {},
   "outputs": [
    {
     "name": "stdout",
     "output_type": "stream",
     "text": [
      "0.23809523809523808\n",
      "AUC: 0.8209406713505074\n",
      "Accuracy: 0.9430255402750491\n",
      "0.18980469365834815\n",
      "[[475  13]\n",
      " [ 16   5]]\n"
     ]
    }
   ],
   "source": [
    "gbc = RandomForestClassifier(bootstrap=True,criterion='gini',max_depth=8, max_features='auto', max_leaf_nodes=None,\n",
    "            min_impurity_decrease=0.0, min_impurity_split=None,\n",
    "            min_samples_leaf=4, min_samples_split=10,\n",
    "            min_weight_fraction_leaf=0.0, n_estimators=5000,\n",
    "            oob_score=False,\n",
    "            random_state=1,\n",
    "            verbose=0, warm_start=False, class_weight= 'balanced')\n",
    "gbc = CalibratedClassifierCV(gbc, cv=5, method=\"sigmoid\")\n",
    "gbc.fit(X_training, Y_training)\n",
    "\n",
    "print(metrics.recall_score(Y_test, gbc.predict(X_test)))\n",
    "\n",
    "preds = gbc.predict_proba(X_test)\n",
    "probs = preds[:, 1].tolist()\n",
    "precision, recall, thresholds = precision_recall_curve(Y_test, probs)\n",
    "\n",
    "\n",
    "pr_auc = auc(recall, precision)\n",
    "\n",
    "fpr_d2v, tpr_d2v, thresholds_d2v = metrics.roc_curve(Y_test, preds[:,1], pos_label=1)\n",
    "accuracy_d2v = metrics.accuracy_score(Y_test, gbc.predict(X_test), normalize=True)\n",
    "\n",
    "\n",
    "print(\"AUC: \"+ str(metrics.auc(fpr_d2v, tpr_d2v)))\n",
    "print(\"Accuracy: \" + str(accuracy_d2v))\n",
    "print(pr_auc)\n",
    "\n",
    "predicted = gbc.predict(X_test)\n",
    "confusion = confusion_matrix(Y_test, predicted)\n",
    "print(confusion)"
   ]
  },
  {
   "cell_type": "code",
   "execution_count": 180,
   "metadata": {},
   "outputs": [
    {
     "data": {
      "text/plain": [
       "51594                                                                                                                                                  And the good thing about so many of us here—and I know, I speak for Jay and Bey—is we remember what it's like not having anything, and we know people who were just as talented as us that didn't get the same break, the same chance. We remember some of our parents or grandparents who came here as immigrants and got a little bit of help along the way to go to that school or be able to start that first business. We understand that—as Michelle said as well as anybody could—those of us who have been blessed with success and been able to walk through those doors of opportunity, we don't slam the door behind us. We prop it open. We make it easier for those who follow to succeed as well.\n",
       "42106                                                                                                                                                                                                                                                                                                                                                                                                   This, I maintain, is the difference between us. Now, through these past four years, there has been one subject that this administration has lived with, worked with, done more with, than any other and that is trying to develop and build the road to peace. Without peace, we cannot have these things that we have been enjoying the past four years.  We cannot have lowered taxes, we cannot have prosperity, we cannot have confidence among ourselves.\n",
       "39767    Some of you will remember the campaign of 1928. They called New York City's great governor, Alfred Smith, a socialist because he tried to do things for the people as a whole, and he replied in words which are as important today as they were when he first spoke them in Boston twenty-four years ago; this is what Al Smith said--that there was nothing new about the cry of socialism--I have heard it raised by the reactionary element of the Republican party in my own state over a period of a quarter of a century--and he added this, \"\"every forward-looking progressive up-to-date legislative enactment in New York was at some time or another referred to by reactionary Republican leaders as state socialism. The cry of socialism has been patented by the powerful interests that desire to put a damper on progressive legislation.\"\"\n",
       "48488                                                                                                                                                                                    When I touched off the blast for those dams at Glen Canyon and Flaming Gorge the other day, I recalled about four years ago an opposition spokesman told his listeners at the Hungry Horse Dam in Montana, to take a good look because they would never see another one built if the Republicans came in. My friends, he was not the first politician to pole-vault into a ditch. Now, my friends, with like awareness we have extended the scope of the Water Facilities Act from seventeen to all forty-eight states, and in sponsoring the so-called \"\"Small Projects Act\"\", we have taken one of the greatest forward steps in the history of reclamation in our country.\n",
       "67401                                                                                                                                                                                                                                                                             I'm here to talk about a number of the issues that are part of this election but really, much more than that, they are part of our future – the kind of country we want to have, the kind of people we want to be and, particularly, what kind of opportunities we should be providing for the young people of America. I have a proud Owl on my staff, Jamira Burley. A Philadelphia native who became an activist working to end the epidemic of gun violence right here in Philadelphia. She loves Temple and we love her. And I also want to thank Lauren for that introduction.\n",
       "62184                                                                                                                                                                                                                                                                                                                                                                                                                                                                                                                                                                                                                                                                                                                       This progress involved careful diplomacy, clear moral purpose, and some tough decisions. Audience member. That's what you have! Thank you!\n",
       "62562                                                                                                                                                                                                                                                                                                                                                                                                                                                                                                                                                                                                                                                                                          See, we'll continue to build strong alliances. We'll work with friends. But I will never turn over America's national security decisions to leaders of other countries.\n",
       "20606                                                                                                                                                                                                                                                                                                                                                                                                                                                                           QUESTIONS AND ANSWERS Q:  Mr. Mondale, right now, I am looking for a job, and the only problem I have in looking for a job is that I'm handicapped.  I was wondering if you would do something about that once you're elected.  Try to find more jobs in addition to women and minorities, if there would be a certain number of handicapped people that would be allowed to be hired.\n",
       "26350                                                                                                                                                                                                                                                                                                                                                                                                                                                                                                                                               My objection to this language is not its failure to sound heroic.  My objection is that this is the language that invites war itself.  Consequently, my most solemn hope is that men who talk this language are never allowed in the name of the American people to go to Moscow--or some future Yalta or Potsdam.\n",
       "5450                                                                                                                                                                                                                                                                                                                                                                    So tomorrow morning when I get back to the White House about 5:30, I am going in and wake up my Lady Bird, and I am going to say to her, \"\"Now I have enjoyed the happiest trip anybody ever had anywhere.\"\" I am happy not for myself, but for my country. I am happy because when I see Americans coming together in their cities, coming out to line the streets to stand and be counted for the same cause, I know that this nation is united, and this nation is not going to be divided.\n",
       "Name: text, dtype: object"
      ]
     },
     "execution_count": 180,
     "metadata": {},
     "output_type": "execute_result"
    }
   ],
   "source": [
    "\n",
    "learner = ActiveLearner(\n",
    "    estimator= BalancedRandomForestClassifier(n_estimators=5000, max_depth=10, random_state=0,oob_score = True),\n",
    "    query_strategy=entropy_sampling,\n",
    "    X_training=X_training, y_training=Y_training\n",
    ")\n",
    "\n",
    "\n",
    "X_pool = np.asarray([model.docvecs[i] for i in clas_dat.index[clas_dat['label'].isnull()].tolist()])\n",
    "query_idx, query_inst = learner.query(X_pool,10)\n",
    "query_idx\n",
    "\n",
    "clas_dat.loc[query_idx, 'text']\n"
   ]
  },
  {
   "cell_type": "code",
   "execution_count": 181,
   "metadata": {},
   "outputs": [
    {
     "name": "stdout",
     "output_type": "stream",
     "text": [
      "(587, 150)\n"
     ]
    },
    {
     "name": "stderr",
     "output_type": "stream",
     "text": [
      "/opt/anaconda3/lib/python3.7/site-packages/pandas/core/indexing.py:1763: SettingWithCopyWarning: \n",
      "A value is trying to be set on a copy of a slice from a DataFrame.\n",
      "Try using .loc[row_indexer,col_indexer] = value instead\n",
      "\n",
      "See the caveats in the documentation: https://pandas.pydata.org/pandas-docs/stable/user_guide/indexing.html#returning-a-view-versus-a-copy\n",
      "  isetter(loc, value)\n"
     ]
    },
    {
     "data": {
      "text/plain": [
       "array([0, 0, 0, 0, 0, 0, 0, 0, 0, 0, 0, 0, 0, 0, 0, 0, 0, 0, 0, 0, 0, 0,\n",
       "       0, 0, 0, 0, 0, 0, 0, 0, 0, 0, 0, 0, 0, 0, 0, 0, 0, 0, 0, 0, 0, 0,\n",
       "       0, 0, 0, 0, 0, 0, 0, 0, 0, 0, 0, 0, 0, 0, 0, 0, 0, 0, 0, 0, 0, 0,\n",
       "       0, 0, 0, 0, 0, 0, 0, 0, 0, 0, 0, 0, 0, 0, 0, 0, 0, 0, 0, 0, 0, 0,\n",
       "       0, 0, 0, 0, 0, 0, 0, 0, 0, 0, 0, 0, 0, 0, 0, 0, 0, 0, 0, 0, 0, 0,\n",
       "       0, 0, 0, 0, 0, 0, 0, 0, 0, 0, 0, 0, 0, 0, 0, 0, 0, 0, 0, 0, 0, 0,\n",
       "       0, 0, 0, 0, 0, 0, 0, 0, 0, 0, 0, 0, 0, 0, 0, 0, 0, 0, 0, 0, 0, 0,\n",
       "       0, 0, 0, 0, 0, 0, 0, 0, 0, 0, 0, 0, 0, 0, 0, 0, 0, 0, 0, 0, 0, 0,\n",
       "       0, 0, 0, 0, 0, 0, 0, 0, 0, 0, 0, 0, 0, 0, 0, 0, 0, 0, 0, 0, 0, 0,\n",
       "       0, 0, 0, 0, 0, 0, 0, 0, 0, 0, 0, 0, 0, 0, 0, 0, 0, 0, 0, 0, 0, 0,\n",
       "       0, 0, 0, 0, 0, 0, 0, 0, 0, 0, 0, 0, 0, 0, 0, 0, 0, 0, 0, 0, 0, 0,\n",
       "       0, 0, 0, 0, 0, 0, 0, 0, 0, 0, 0, 0, 0, 0, 0, 0, 0, 0, 0, 0, 0, 0,\n",
       "       0, 0, 0, 0, 0, 0, 0, 0, 0, 0, 0, 0, 0, 0, 0, 0, 0, 0, 0, 0, 0, 0,\n",
       "       0, 0, 0, 0, 0, 0, 0, 0, 0, 0, 0, 0, 0, 0, 0, 0, 0, 0, 0, 0, 0, 0,\n",
       "       0, 0, 0, 0, 0, 0, 0, 0, 0, 0, 0, 0, 0, 0, 0, 0, 0, 0, 0, 0, 0, 0,\n",
       "       0, 0, 0, 0, 0, 0, 0, 0, 0, 0, 0, 0, 0, 0, 0, 0, 0, 0, 0, 0, 0, 0,\n",
       "       0, 0, 0, 0, 0, 0, 0, 0, 0, 0, 0, 0, 0, 0, 0, 0, 0, 0, 0, 0, 0, 0,\n",
       "       0, 0, 0, 0, 1, 1, 1, 1, 1, 1, 1, 1, 1, 1, 1, 1, 1, 1, 1, 1, 1, 1,\n",
       "       1, 1, 1, 1, 1, 1, 1, 1, 1, 1, 1, 1, 1, 1, 1, 1, 1, 1, 1, 1, 1, 1,\n",
       "       1, 1, 1, 1, 1, 1, 1, 1, 1, 1, 1, 1, 1, 1, 1, 1, 1, 1, 1, 1, 1, 1,\n",
       "       1, 1, 1, 1, 1, 1, 1, 1, 1, 1, 1, 1, 1, 1, 1, 1, 1, 1, 1, 1, 1, 1,\n",
       "       1, 1, 1, 1, 1, 1, 1, 1, 1, 1, 1, 1, 1, 1, 1, 1, 1, 1, 1, 1, 1, 1,\n",
       "       1, 1, 1, 1, 1, 1, 1, 1, 1, 1, 1, 1, 1, 1, 1, 1, 1, 1, 1, 1, 1, 1,\n",
       "       1, 1, 1, 1, 1, 1, 1, 1, 1, 1, 1, 1, 1, 1, 1, 1, 1, 1, 1, 1, 1, 1,\n",
       "       1, 1, 1, 1, 1, 1, 1, 1, 1, 1, 1, 1, 1, 1, 1, 1, 1, 1, 1, 1, 1, 1,\n",
       "       1, 1, 1, 1, 1, 1, 1, 1, 1, 1, 1, 1, 1, 1, 1, 1, 1, 0, 0, 0, 0, 0,\n",
       "       0, 0, 0, 0, 0, 0, 0, 1, 0, 0, 0, 0, 0, 0, 0])"
      ]
     },
     "execution_count": 181,
     "metadata": {},
     "output_type": "execute_result"
    }
   ],
   "source": [
    "clas_dat.loc[query_idx, 'label'] = 0\n",
    "clas_dat.loc[39767, 'label'] = 1\n",
    "\n",
    "\n",
    "# Define new training set\n",
    "x_new_train = np.asarray([model.docvecs[i] for i in query_idx])\n",
    "y_new_train = np.asarray(clas_dat.loc[query_idx, 'label'].tolist(), dtype=\"int\")\n",
    "X_training = np.append(X_training,x_new_train, axis = 0)\n",
    "Y_training = np.append(Y_training,y_new_train, axis = 0)\n",
    "\n",
    "print(X_training.shape)\n",
    "Y_training"
   ]
  },
  {
   "cell_type": "code",
   "execution_count": 182,
   "metadata": {},
   "outputs": [
    {
     "name": "stdout",
     "output_type": "stream",
     "text": [
      "0.19047619047619047\n",
      "AUC: 0.8207455113192818\n",
      "Accuracy: 0.9410609037328095\n",
      "0.1862084018740162\n",
      "[[475  13]\n",
      " [ 17   4]]\n"
     ]
    }
   ],
   "source": [
    "gbc = RandomForestClassifier(bootstrap=True,criterion='gini',max_depth=8, max_features='auto', max_leaf_nodes=None,\n",
    "            min_impurity_decrease=0.0, min_impurity_split=None,\n",
    "            min_samples_leaf=4, min_samples_split=10,\n",
    "            min_weight_fraction_leaf=0.0, n_estimators=5000,\n",
    "            oob_score=False,\n",
    "            random_state=1,\n",
    "            verbose=0, warm_start=False, class_weight= 'balanced')\n",
    "gbc = CalibratedClassifierCV(gbc, cv=5, method=\"sigmoid\")\n",
    "gbc.fit(X_training, Y_training)\n",
    "\n",
    "print(metrics.recall_score(Y_test, gbc.predict(X_test)))\n",
    "\n",
    "preds = gbc.predict_proba(X_test)\n",
    "probs = preds[:, 1].tolist()\n",
    "precision, recall, thresholds = precision_recall_curve(Y_test, probs)\n",
    "\n",
    "\n",
    "pr_auc = auc(recall, precision)\n",
    "\n",
    "fpr_d2v, tpr_d2v, thresholds_d2v = metrics.roc_curve(Y_test, preds[:,1], pos_label=1)\n",
    "accuracy_d2v = metrics.accuracy_score(Y_test, gbc.predict(X_test), normalize=True)\n",
    "\n",
    "\n",
    "print(\"AUC: \"+ str(metrics.auc(fpr_d2v, tpr_d2v)))\n",
    "print(\"Accuracy: \" + str(accuracy_d2v))\n",
    "print(pr_auc)\n",
    "\n",
    "predicted = gbc.predict(X_test)\n",
    "confusion = confusion_matrix(Y_test, predicted)\n",
    "print(confusion)"
   ]
  },
  {
   "cell_type": "code",
   "execution_count": null,
   "metadata": {},
   "outputs": [],
   "source": [
    "X_pool = np.asarray([model.docvecs[i] for i in clas_dat.index[clas_dat['label'].isnull()].tolist()])\n",
    "query_idx, query_inst = learner.query(X_pool,10)"
   ]
  },
  {
   "cell_type": "code",
   "execution_count": 19,
   "metadata": {},
   "outputs": [
    {
     "data": {
      "text/plain": [
       "array([   73, 35982,  9758, 20826, 64942,  4711, 67030, 12081, 29645,\n",
       "       43876])"
      ]
     },
     "execution_count": 19,
     "metadata": {},
     "output_type": "execute_result"
    }
   ],
   "source": [
    "query_idx"
   ]
  },
  {
   "cell_type": "code",
   "execution_count": 20,
   "metadata": {},
   "outputs": [
    {
     "data": {
      "text/plain": [
       "'Labor problems carry a high voltage these days. People make up their minds about who\\'s right or wrong and what\\'s right or wrong with little or no knowledge of the facts. Most of them react like the tired mother when she hears late afternoon bickering in the back yard: \"\"Go see what Willie\\'s doing and tell him not to.\"\"'"
      ]
     },
     "execution_count": 20,
     "metadata": {},
     "output_type": "execute_result"
    }
   ],
   "source": [
    "clas_dat.iloc[73].text\n",
    "# clas_dat.loc[55425, ['label']] = 0\n",
    "\n",
    "# clas_dat.iloc[55425].label"
   ]
  },
  {
   "cell_type": "code",
   "execution_count": 21,
   "metadata": {},
   "outputs": [
    {
     "data": {
      "text/plain": [
       "'This administration stands ready to meet its responsibilities to the people of Montana and to the people of the nation. That means creating new jobs. That means providing tax cuts as we did this year, and as we will next year.'"
      ]
     },
     "execution_count": 21,
     "metadata": {},
     "output_type": "execute_result"
    }
   ],
   "source": [
    "clas_dat.iloc[35982].text\n",
    "# clas_dat.loc[59471, ['label']] = 0\n",
    "\n",
    "# clas_dat.iloc[59471].label"
   ]
  },
  {
   "cell_type": "code",
   "execution_count": 22,
   "metadata": {},
   "outputs": [
    {
     "data": {
      "text/plain": [
       "'You know, speaking of taxes and the cost of living, I was reading the other day a speech a politician gave here in Louisville four years ago. \"\"What I am trying to do,\"\" he said, \"\"is to help set up the kind of government that... will stop these backbreaking taxes, that will quit depreciating our money so that we can scarcely carry enough money to the grocery store to get a basket of groceries...\"\" Well, he had his chance. That was General Eisenhower four years ago. And what\\'s happened?'"
      ]
     },
     "execution_count": 22,
     "metadata": {},
     "output_type": "execute_result"
    }
   ],
   "source": [
    "clas_dat.iloc[9758].text\n",
    "# clas_dat.loc[65793, ['label']] = 0\n",
    "\n",
    "# clas_dat.iloc[65793].label"
   ]
  },
  {
   "cell_type": "code",
   "execution_count": 23,
   "metadata": {},
   "outputs": [
    {
     "data": {
      "text/plain": [
       "'I am prepared to risk more political capital in defense of domestic tranquility than any president you have ever known. The time for such risk is long overdue. And in defending our nation from external threats, the requirements of survival cannot merely be finessed. There is no room for margin of error. On this subject perhaps more than any other, a president must level with the people and be prepared to take political risks. And I would rather do what is called for in this regard and be unappreciated, than fail to do so and win universal acclaim.'"
      ]
     },
     "execution_count": 23,
     "metadata": {},
     "output_type": "execute_result"
    }
   ],
   "source": [
    "clas_dat.iloc[20826].text\n",
    "\n",
    "# clas_dat.loc[38581, ['label']] = 0\n",
    "\n",
    "# clas_dat.iloc[38581].label"
   ]
  },
  {
   "cell_type": "code",
   "execution_count": 24,
   "metadata": {},
   "outputs": [
    {
     "data": {
      "text/plain": [
       "\"My opponent takes a different approach. He said he talks about protecting Social Security, but he's the only candidate in this race who has voted eight times for higher taxes on Social Security benefits. Audience members. Boo-o-o!\""
      ]
     },
     "execution_count": 24,
     "metadata": {},
     "output_type": "execute_result"
    }
   ],
   "source": [
    "clas_dat.iloc[64942].text\n",
    "clas_dat.loc[64942, ['label']] = 1\n"
   ]
  },
  {
   "cell_type": "code",
   "execution_count": 25,
   "metadata": {},
   "outputs": [
    {
     "data": {
      "text/plain": [
       "'Let me assure you that the new administration will not play favorites.  Our renewable resources must be harvested on a scientific basis.  The diversified need for the great variety of forest products must be recognized.  Our federal land managers should not be local dictators.  Our national forests should constitute a timber resource to provide the products needed in time of crisis or severe shortage.  They should not be turned into a vehicle for federal control of the nation in their forest economy.'"
      ]
     },
     "execution_count": 25,
     "metadata": {},
     "output_type": "execute_result"
    }
   ],
   "source": [
    "clas_dat.iloc[4711].text\n",
    "\n",
    "# clas_dat.loc[41355, ['label']] = 0\n"
   ]
  },
  {
   "cell_type": "code",
   "execution_count": 26,
   "metadata": {},
   "outputs": [
    {
     "data": {
      "text/plain": [
       "\"If you believe that every man, woman and child in America has the right to affordable health care, join us! If you believe that we should say no to unfair trade deals, that we should stand up to China, that we should support our steelworkers and autoworkers and home-grown manufacturers, then join us! If you believe we should expand Social Security and protect a woman's right to make her own health care decisions, then join us!\""
      ]
     },
     "execution_count": 26,
     "metadata": {},
     "output_type": "execute_result"
    }
   ],
   "source": [
    "clas_dat.iloc[67030].text\n",
    "\n",
    "# clas_dat.loc[48521, ['label']] = 0\n",
    "\n",
    "# clas_dat.iloc[48521].label"
   ]
  },
  {
   "cell_type": "code",
   "execution_count": 27,
   "metadata": {},
   "outputs": [
    {
     "data": {
      "text/plain": [
       "\"Now can you imagine, with that record, what he would do to your federal government if he ever had the opportunity to reorganize it? Is that what you want for the next four years? Jimmy Carter on two occasions has said he wanted to cut the defense budget by $15 billion. At the same time, he talks about making America stronger. Now, he can't have it both ways. But anyhow, he has said that he wants to reduce the funds for the Army, the Navy, the Air Force, and Marines by $15 billion. I don't believe that's the way to keep America number one. America is number one today, and we want America to stay number one.\""
      ]
     },
     "execution_count": 27,
     "metadata": {},
     "output_type": "execute_result"
    }
   ],
   "source": [
    "clas_dat.iloc[12081].text\n",
    "\n",
    "# clas_dat.loc[32640, ['label']] = 0\n",
    "\n",
    "# clas_dat.iloc[32640].label"
   ]
  },
  {
   "cell_type": "code",
   "execution_count": 28,
   "metadata": {},
   "outputs": [
    {
     "data": {
      "text/plain": [
       "'Does government have a place? Yes. Government is part of the nation of communities--not the whole, just a part.'"
      ]
     },
     "execution_count": 28,
     "metadata": {},
     "output_type": "execute_result"
    }
   ],
   "source": [
    "clas_dat.iloc[29645].text\n",
    "\n",
    "# clas_dat.loc[12895, ['label']] = 0\n",
    "\n",
    "# clas_dat.iloc[12895].label\n"
   ]
  },
  {
   "cell_type": "code",
   "execution_count": 34,
   "metadata": {},
   "outputs": [
    {
     "data": {
      "text/plain": [
       "73       0.0\n",
       "35982    0.0\n",
       "9758     0.0\n",
       "20826    0.0\n",
       "64942    1.0\n",
       "4711     0.0\n",
       "67030    0.0\n",
       "12081    0.0\n",
       "29645    0.0\n",
       "43876    0.0\n",
       "Name: label, dtype: float64"
      ]
     },
     "execution_count": 34,
     "metadata": {},
     "output_type": "execute_result"
    }
   ],
   "source": [
    "clas_dat.iloc[43876].text\n",
    "# clas_dat.loc[58920, ['label']] = 0\n",
    "\n",
    "# clas_dat.iloc[58920].label\n",
    "\n",
    "clas_dat.loc[query_idx, 'label'] = 0\n",
    "clas_dat.loc[64942, 'label'] = 1\n",
    "clas_dat.loc[query_idx, 'label']\n"
   ]
  },
  {
   "cell_type": "code",
   "execution_count": 104,
   "metadata": {},
   "outputs": [
    {
     "name": "stdout",
     "output_type": "stream",
     "text": [
      "(1992, 150)\n"
     ]
    },
    {
     "data": {
      "text/plain": [
       "array([0, 0, 0, ..., 0, 0, 0])"
      ]
     },
     "execution_count": 104,
     "metadata": {},
     "output_type": "execute_result"
    }
   ],
   "source": [
    "# Define new training set\n",
    "query_idx = [73, 35982,  9758, 20826, 64942,  4711, 67030, 12081, 29645, 43876]\n",
    "x_new_train = np.asarray([model.docvecs[i] for i in query_idx])\n",
    "y_new_train = np.asarray(clas_dat.loc[query_idx, 'label'].tolist(), dtype=\"int\")\n",
    "X_training = np.append(X_training,x_new_train, axis = 0)\n",
    "Y_training = np.append(Y_training,y_new_train, axis = 0)\n",
    "\n",
    "print(X_training.shape)\n",
    "Y_training"
   ]
  },
  {
   "cell_type": "code",
   "execution_count": 106,
   "metadata": {},
   "outputs": [
    {
     "name": "stdout",
     "output_type": "stream",
     "text": [
      "0.22030100622105842\n",
      "[[374 114]\n",
      " [  6  15]]\n",
      "0.19493452895612504\n",
      "AUC: 0.8212334113973458\n",
      "Accuracy: 0.7642436149312377\n"
     ]
    },
    {
     "data": {
      "text/plain": [
       "<sklearn.metrics._plot.precision_recall_curve.PrecisionRecallDisplay at 0x1a34572510>"
      ]
     },
     "execution_count": 106,
     "metadata": {},
     "output_type": "execute_result"
    },
    {
     "data": {
      "image/png": "[encoded data removed]",
      "text/plain": [
       "<Figure size 432x288 with 1 Axes>"
      ]
     },
     "metadata": {
      "needs_background": "light"
     },
     "output_type": "display_data"
    }
   ],
   "source": [
    "# gbc= BalancedRandomForestClassifier(n_estimators=5000, max_depth=10, random_state=0,oob_score = True)\n",
    "# gbc.fit(X_training, Y_training)\n",
    "# preds = gbc.predict_proba(X_test)\n",
    "print(average_precision_score(Y_test, preds[:, 1]))\n",
    "\n",
    "confusion = confusion_matrix(Y_test, gbc.predict(X_test))\n",
    "print(confusion)\n",
    "\n",
    "precision, recall, thresholds = precision_recall_curve(Y_test, preds[:, 1])\n",
    "print(auc(recall, precision))\n",
    "\n",
    "fpr_d2v, tpr_d2v, thresholds_d2v = metrics.roc_curve(Y_test, preds[:,1], pos_label=1)\n",
    "accuracy_d2v = metrics.accuracy_score(Y_test, gbc.predict(X_test), normalize=True)\n",
    "\n",
    "\n",
    "print(\"AUC: \"+ str(metrics.auc(fpr_d2v, tpr_d2v)))\n",
    "print(\"Accuracy: \" + str(accuracy_d2v))\n",
    "\n",
    "plot_precision_recall_curve(gbc, X_test, Y_test)"
   ]
  },
  {
   "cell_type": "code",
   "execution_count": 48,
   "metadata": {},
   "outputs": [
    {
     "name": "stdout",
     "output_type": "stream",
     "text": [
      "AUC: 0.822599531615925\n",
      "Accuracy: 0.7642436149312377\n",
      "0.19905816812643637\n",
      "[[487   1]\n",
      " [ 20   1]]\n"
     ]
    }
   ],
   "source": [
    "RFC = RandomForestClassifier(bootstrap=True,criterion='gini',max_depth=8, max_features='auto', max_leaf_nodes=None,\n",
    "            min_impurity_decrease=0.0, min_impurity_split=None,\n",
    "            min_samples_leaf=4, min_samples_split=10,\n",
    "            min_weight_fraction_leaf=0.0, n_estimators=300,\n",
    "            oob_score=False,\n",
    "            random_state=1,\n",
    "            verbose=0, warm_start=False, class_weight= 'balanced')\n",
    "RFC = CalibratedClassifierCV(gbc, cv=5, method=\"sigmoid\")\n",
    "RFC.fit(X_training, Y_training)\n",
    "\n",
    "\n",
    "preds = RFC.predict_proba(X_test)\n",
    "probs = preds[:, 1].tolist()\n",
    "precision, recall, thresholds = precision_recall_curve(Y_test, probs)\n",
    "\n",
    "pr_auc = auc(recall, precision)\n",
    "\n",
    "fpr_d2v, tpr_d2v, thresholds_d2v = metrics.roc_curve(Y_test, preds[:,1], pos_label=1)\n",
    "accuracy_d2v = metrics.accuracy_score(Y_test, gbc.predict(X_test), normalize=True)\n",
    "\n",
    "\n",
    "print(\"AUC: \"+ str(metrics.auc(fpr_d2v, tpr_d2v)))\n",
    "print(\"Accuracy: \" + str(accuracy_d2v))\n",
    "print(pr_auc)\n",
    "\n",
    "predicted = RFC.predict(X_test)\n",
    "confusion = confusion_matrix(Y_test, predicted)\n",
    "print(confusion)"
   ]
  },
  {
   "cell_type": "code",
   "execution_count": 49,
   "metadata": {},
   "outputs": [
    {
     "data": {
      "text/plain": [
       "array([19773, 29449, 14031, 25120, 25567,  1197, 15516, 43898, 51394,\n",
       "       28380])"
      ]
     },
     "execution_count": 49,
     "metadata": {},
     "output_type": "execute_result"
    }
   ],
   "source": [
    "learner = ActiveLearner(\n",
    "    estimator= BalancedRandomForestClassifier(n_estimators=5000, max_depth=10, random_state=0,oob_score = True),\n",
    "    query_strategy=entropy_sampling,\n",
    "    X_training=X_training, y_training=Y_training\n",
    ")\n",
    "\n",
    "X_pool = np.asarray([model.docvecs[i] for i in clas_dat.index[clas_dat['label'].isnull()].tolist()])\n",
    "query_idx, query_inst = learner.query(X_pool,10)\n",
    "query_idx"
   ]
  },
  {
   "cell_type": "code",
   "execution_count": 55,
   "metadata": {},
   "outputs": [
    {
     "data": {
      "text/plain": [
       "19773    0.0\n",
       "29449    0.0\n",
       "14031    0.0\n",
       "25120    0.0\n",
       "25567    0.0\n",
       "1197     0.0\n",
       "15516    0.0\n",
       "43898    0.0\n",
       "51394    0.0\n",
       "28380    0.0\n",
       "Name: label, dtype: float64"
      ]
     },
     "execution_count": 55,
     "metadata": {},
     "output_type": "execute_result"
    }
   ],
   "source": [
    "pd.options.display.max_colwidth = 2000\n",
    "clas_dat.loc[query_idx, 'text']\n",
    "\n",
    "clas_dat.loc[query_idx, 'label'] = 0\n",
    "clas_dat.loc[query_idx, 'label']\n"
   ]
  },
  {
   "cell_type": "code",
   "execution_count": 107,
   "metadata": {},
   "outputs": [
    {
     "name": "stdout",
     "output_type": "stream",
     "text": [
      "(2002, 150)\n"
     ]
    },
    {
     "data": {
      "text/plain": [
       "array([0, 0, 0, ..., 0, 0, 0])"
      ]
     },
     "execution_count": 107,
     "metadata": {},
     "output_type": "execute_result"
    }
   ],
   "source": [
    "# Define new training set\n",
    "query_idx = [19773, 29449, 14031, 25120, 25567,  1197, 15516, 43898, 51394, 28380]\n",
    "x_new_train = np.asarray([model.docvecs[i] for i in query_idx])\n",
    "y_new_train = np.asarray(clas_dat.loc[query_idx, 'label'].tolist(), dtype=\"int\")\n",
    "X_training = np.append(X_training,x_new_train, axis = 0)\n",
    "Y_training = np.append(Y_training,y_new_train, axis = 0)\n",
    "\n",
    "print(X_training.shape)\n",
    "Y_training"
   ]
  },
  {
   "cell_type": "code",
   "execution_count": 60,
   "metadata": {},
   "outputs": [
    {
     "name": "stdout",
     "output_type": "stream",
     "text": [
      "0.22662337359433088\n",
      "[[368 120]\n",
      " [  6  15]]\n",
      "AUC: 0.814207650273224\n",
      "Accuracy: 0.7524557956777996\n",
      "0.20141821958721823\n"
     ]
    },
    {
     "data": {
      "text/plain": [
       "<sklearn.metrics._plot.precision_recall_curve.PrecisionRecallDisplay at 0x1a2cdfa090>"
      ]
     },
     "execution_count": 60,
     "metadata": {},
     "output_type": "execute_result"
    },
    {
     "data": {
      "image/png": "[encoded data removed]",
      "text/plain": [
       "<Figure size 432x288 with 1 Axes>"
      ]
     },
     "metadata": {
      "needs_background": "light"
     },
     "output_type": "display_data"
    }
   ],
   "source": [
    "gbc= BalancedRandomForestClassifier(n_estimators=5000, max_depth=10, random_state=0,oob_score = True)\n",
    "gbc.fit(X_training, Y_training)\n",
    "preds = gbc.predict_proba(X_test)\n",
    "print(average_precision_score(Y_test, preds[:, 1]))\n",
    "\n",
    "confusion = confusion_matrix(Y_test, gbc.predict(X_test))\n",
    "print(confusion)\n",
    "\n",
    "fpr_d2v, tpr_d2v, thresholds_d2v = metrics.roc_curve(Y_test, preds[:,1], pos_label=1)\n",
    "accuracy_d2v = metrics.accuracy_score(Y_test, gbc.predict(X_test), normalize=True)\n",
    "\n",
    "\n",
    "print(\"AUC: \"+ str(metrics.auc(fpr_d2v, tpr_d2v)))\n",
    "print(\"Accuracy: \" + str(accuracy_d2v))\n",
    "\n",
    "precision, recall, thresholds = precision_recall_curve(Y_test, preds[:, 1])\n",
    "print(auc(recall, precision))\n",
    "plot_precision_recall_curve(gbc, X_test, Y_test)"
   ]
  },
  {
   "cell_type": "code",
   "execution_count": 58,
   "metadata": {},
   "outputs": [
    {
     "name": "stdout",
     "output_type": "stream",
     "text": [
      "AUC: 0.817720530835285\n",
      "Accuracy: 0.7524557956777996\n",
      "0.2022696805808572\n"
     ]
    },
    {
     "ename": "NameError",
     "evalue": "name 'confu' is not defined",
     "output_type": "error",
     "traceback": [
      "\u001b[0;31m---------------------------------------------------------------------------\u001b[0m",
      "\u001b[0;31mNameError\u001b[0m                                 Traceback (most recent call last)",
      "\u001b[0;32m<ipython-input-58-5b7a48d41f42>\u001b[0m in \u001b[0;36m<module>\u001b[0;34m\u001b[0m\n\u001b[1;32m     25\u001b[0m \u001b[0;34m\u001b[0m\u001b[0m\n\u001b[1;32m     26\u001b[0m \u001b[0mpredicted\u001b[0m \u001b[0;34m=\u001b[0m \u001b[0mRFC\u001b[0m\u001b[0;34m.\u001b[0m\u001b[0mpredict\u001b[0m\u001b[0;34m(\u001b[0m\u001b[0mX_test\u001b[0m\u001b[0;34m)\u001b[0m\u001b[0;34m\u001b[0m\u001b[0;34m\u001b[0m\u001b[0m\n\u001b[0;32m---> 27\u001b[0;31m \u001b[0mconfusion\u001b[0m \u001b[0;34m=\u001b[0m \u001b[0mconfu\u001b[0m\u001b[0;34m\u001b[0m\u001b[0;34m\u001b[0m\u001b[0m\n\u001b[0m",
      "\u001b[0;31mNameError\u001b[0m: name 'confu' is not defined"
     ]
    }
   ],
   "source": [
    "RFC = RandomForestClassifier(bootstrap=True,criterion='gini',max_depth=8, max_features='auto', max_leaf_nodes=None,\n",
    "            min_impurity_decrease=0.0, min_impurity_split=None,\n",
    "            min_samples_leaf=4, min_samples_split=10,\n",
    "            min_weight_fraction_leaf=0.0, n_estimators=300,\n",
    "            oob_score=False,\n",
    "            random_state=1,\n",
    "            verbose=0, warm_start=False, class_weight= 'balanced')\n",
    "RFC = CalibratedClassifierCV(gbc, cv=5, method=\"sigmoid\")\n",
    "RFC.fit(X_training, Y_training)\n",
    "\n",
    "\n",
    "preds = RFC.predict_proba(X_test)\n",
    "probs = preds[:, 1].tolist()\n",
    "precision, recall, thresholds = precision_recall_curve(Y_test, probs)\n",
    "\n",
    "pr_auc = auc(recall, precision)\n",
    "\n",
    "fpr_d2v, tpr_d2v, thresholds_d2v = metrics.roc_curve(Y_test, preds[:,1], pos_label=1)\n",
    "accuracy_d2v = metrics.accuracy_score(Y_test, gbc.predict(X_test), normalize=True)\n",
    "\n",
    "\n",
    "print(\"AUC: \"+ str(metrics.auc(fpr_d2v, tpr_d2v)))\n",
    "print(\"Accuracy: \" + str(accuracy_d2v))\n",
    "print(pr_auc)\n",
    "\n",
    "predicted = RFC.predict(X_test)\n",
    "confusion = confusion_matrix(Y_test, predicted)\n",
    "print(confusion)"
   ]
  },
  {
   "cell_type": "code",
   "execution_count": 61,
   "metadata": {},
   "outputs": [
    {
     "data": {
      "text/plain": [
       "array([15662, 24447, 31125, 13287, 48025, 27314, 52547, 17549, 64200,\n",
       "        9321])"
      ]
     },
     "execution_count": 61,
     "metadata": {},
     "output_type": "execute_result"
    }
   ],
   "source": [
    "learner = ActiveLearner(\n",
    "    estimator= BalancedRandomForestClassifier(n_estimators=5000, max_depth=10, random_state=0,oob_score = True),\n",
    "    query_strategy=entropy_sampling,\n",
    "    X_training=X_training, y_training=Y_training\n",
    ")\n",
    "\n",
    "X_pool = np.asarray([model.docvecs[i] for i in clas_dat.index[clas_dat['label'].isnull()].tolist()])\n",
    "query_idx, query_inst = learner.query(X_pool,10)\n",
    "query_idx"
   ]
  },
  {
   "cell_type": "code",
   "execution_count": 64,
   "metadata": {},
   "outputs": [
    {
     "data": {
      "text/plain": [
       "15662    0.0\n",
       "24447    0.0\n",
       "31125    0.0\n",
       "13287    0.0\n",
       "48025    1.0\n",
       "27314    0.0\n",
       "52547    0.0\n",
       "17549    0.0\n",
       "64200    0.0\n",
       "9321     1.0\n",
       "Name: label, dtype: float64"
      ]
     },
     "execution_count": 64,
     "metadata": {},
     "output_type": "execute_result"
    }
   ],
   "source": [
    "pd.options.display.max_colwidth = 2000\n",
    "clas_dat.loc[query_idx, 'text']\n",
    "\n",
    "clas_dat.loc[query_idx, 'label'] = 0\n",
    "clas_dat.loc[[48025, 9321], 'label'] = 1\n",
    "clas_dat.loc[query_idx, 'label']\n"
   ]
  },
  {
   "cell_type": "code",
   "execution_count": 65,
   "metadata": {},
   "outputs": [
    {
     "name": "stdout",
     "output_type": "stream",
     "text": [
      "(2012, 150)\n"
     ]
    },
    {
     "data": {
      "text/plain": [
       "array([0, 0, 0, ..., 0, 0, 1])"
      ]
     },
     "execution_count": 65,
     "metadata": {},
     "output_type": "execute_result"
    }
   ],
   "source": [
    "# Define new training set\n",
    "x_new_train = np.asarray([model.docvecs[i] for i in query_idx.tolist()])\n",
    "y_new_train = np.asarray(clas_dat.loc[query_idx, 'label'].tolist(), dtype=\"int\")\n",
    "X_training = np.append(X_training,x_new_train, axis = 0)\n",
    "Y_training = np.append(Y_training,y_new_train, axis = 0)\n",
    "\n",
    "print(X_training.shape)\n",
    "Y_training"
   ]
  },
  {
   "cell_type": "code",
   "execution_count": 66,
   "metadata": {},
   "outputs": [
    {
     "name": "stdout",
     "output_type": "stream",
     "text": [
      "0.21388518107124352\n",
      "[[359 129]\n",
      " [  6  15]]\n",
      "AUC: 0.820647931303669\n",
      "Accuracy: 0.7347740667976425\n",
      "0.18893500906758423\n"
     ]
    },
    {
     "data": {
      "text/plain": [
       "<sklearn.metrics._plot.precision_recall_curve.PrecisionRecallDisplay at 0x1a2e31a550>"
      ]
     },
     "execution_count": 66,
     "metadata": {},
     "output_type": "execute_result"
    },
    {
     "data": {
      "image/png": "[encoded data removed]",
      "text/plain": [
       "<Figure size 432x288 with 1 Axes>"
      ]
     },
     "metadata": {
      "needs_background": "light"
     },
     "output_type": "display_data"
    }
   ],
   "source": [
    "gbc= BalancedRandomForestClassifier(n_estimators=5000, max_depth=10, random_state=0,oob_score = True)\n",
    "gbc.fit(X_training, Y_training)\n",
    "preds = gbc.predict_proba(X_test)\n",
    "print(average_precision_score(Y_test, preds[:, 1]))\n",
    "\n",
    "confusion = confusion_matrix(Y_test, gbc.predict(X_test))\n",
    "print(confusion)\n",
    "\n",
    "fpr_d2v, tpr_d2v, thresholds_d2v = metrics.roc_curve(Y_test, preds[:,1], pos_label=1)\n",
    "accuracy_d2v = metrics.accuracy_score(Y_test, gbc.predict(X_test), normalize=True)\n",
    "\n",
    "\n",
    "print(\"AUC: \"+ str(metrics.auc(fpr_d2v, tpr_d2v)))\n",
    "print(\"Accuracy: \" + str(accuracy_d2v))\n",
    "\n",
    "precision, recall, thresholds = precision_recall_curve(Y_test, preds[:, 1])\n",
    "print(auc(recall, precision))\n",
    "plot_precision_recall_curve(gbc, X_test, Y_test)"
   ]
  },
  {
   "cell_type": "code",
   "execution_count": 67,
   "metadata": {},
   "outputs": [
    {
     "name": "stdout",
     "output_type": "stream",
     "text": [
      "AUC: 0.8231850117096019\n",
      "Accuracy: 0.7347740667976425\n",
      "0.20175294905869298\n",
      "[[487   1]\n",
      " [ 20   1]]\n"
     ]
    }
   ],
   "source": [
    "RFC = RandomForestClassifier(bootstrap=True,criterion='gini',max_depth=8, max_features='auto', max_leaf_nodes=None,\n",
    "            min_impurity_decrease=0.0, min_impurity_split=None,\n",
    "            min_samples_leaf=4, min_samples_split=10,\n",
    "            min_weight_fraction_leaf=0.0, n_estimators=300,\n",
    "            oob_score=False,\n",
    "            random_state=1,\n",
    "            verbose=0, warm_start=False, class_weight= 'balanced')\n",
    "RFC = CalibratedClassifierCV(gbc, cv=5, method=\"sigmoid\")\n",
    "RFC.fit(X_training, Y_training)\n",
    "\n",
    "\n",
    "preds = RFC.predict_proba(X_test)\n",
    "probs = preds[:, 1].tolist()\n",
    "precision, recall, thresholds = precision_recall_curve(Y_test, probs)\n",
    "\n",
    "pr_auc = auc(recall, precision)\n",
    "\n",
    "fpr_d2v, tpr_d2v, thresholds_d2v = metrics.roc_curve(Y_test, preds[:,1], pos_label=1)\n",
    "accuracy_d2v = metrics.accuracy_score(Y_test, gbc.predict(X_test), normalize=True)\n",
    "\n",
    "\n",
    "print(\"AUC: \"+ str(metrics.auc(fpr_d2v, tpr_d2v)))\n",
    "print(\"Accuracy: \" + str(accuracy_d2v))\n",
    "print(pr_auc)\n",
    "\n",
    "predicted = RFC.predict(X_test)\n",
    "confusion = confusion_matrix(Y_test, predicted)\n",
    "print(confusion)"
   ]
  },
  {
   "cell_type": "code",
   "execution_count": 76,
   "metadata": {},
   "outputs": [],
   "source": [
    "# HAL\n",
    "# re-initialize the training set \n",
    "X_training = np.asarray([model.docvecs[i] for i in clas_dat.index[clas_dat['test'] == 0].tolist()])\n",
    "Y_training = np.asarray(clas_dat[clas_dat.test==0].label.tolist(), dtype=\"int\")"
   ]
  },
  {
   "cell_type": "code",
   "execution_count": 242,
   "metadata": {},
   "outputs": [
    {
     "data": {
      "text/html": [
       "<div>\n",
       "<style scoped>\n",
       "    .dataframe tbody tr th:only-of-type {\n",
       "        vertical-align: middle;\n",
       "    }\n",
       "\n",
       "    .dataframe tbody tr th {\n",
       "        vertical-align: top;\n",
       "    }\n",
       "\n",
       "    .dataframe thead th {\n",
       "        text-align: right;\n",
       "    }\n",
       "</style>\n",
       "<table border=\"1\" class=\"dataframe\">\n",
       "  <thead>\n",
       "    <tr style=\"text-align: right;\">\n",
       "      <th></th>\n",
       "      <th>total_id</th>\n",
       "      <th>text</th>\n",
       "      <th>label</th>\n",
       "      <th>test</th>\n",
       "    </tr>\n",
       "  </thead>\n",
       "  <tbody>\n",
       "    <tr>\n",
       "      <th>64274</th>\n",
       "      <td>64274_24</td>\n",
       "      <td>Over the last 3 years, our economy has grown at the fastest rate of any major industrialized nation. The homeownership rate in America is at an alltime high. Incomes are up. Farm incomes are up. The past 13 months, we've added 1.9 million new jobs. The unemployment rate across America is 5.4 percent. That's lower than the average of the 1970s, the 1980s, and the 1990s. The unemployment rate in the great State of Wisconsin is 4.8 percent.</td>\n",
       "      <td>0.0</td>\n",
       "      <td>NaN</td>\n",
       "    </tr>\n",
       "    <tr>\n",
       "      <th>54030</th>\n",
       "      <td>54030_15</td>\n",
       "      <td>Audience members. You got it! The President. Say, I want to make this point. At our convention, I wasn't just asking for your vote. I was asking us to rally around an achievable set of goals for our country: goals in manufacturing and energy and education and national security and defense. Real, concrete goals that will lead to new jobs and more opportunity and rebuild this economy on a stronger foundation. That's what we can do in the next 4 years. That's why I'm running for a second term.</td>\n",
       "      <td>0.0</td>\n",
       "      <td>NaN</td>\n",
       "    </tr>\n",
       "    <tr>\n",
       "      <th>19693</th>\n",
       "      <td>19693_19</td>\n",
       "      <td>Are these your goals? Is this your spirit? Is this the America that you want to produce, and that you want to see, and that you want to fight for?</td>\n",
       "      <td>0.0</td>\n",
       "      <td>NaN</td>\n",
       "    </tr>\n",
       "    <tr>\n",
       "      <th>64819</th>\n",
       "      <td>64819_45</td>\n",
       "      <td>My opponent's plan would move America down the road to Federal control of health care, and that is the wrong road for American families. In all we do to improve health care in a new term, we will make sure the decisions are made by doctors and patients, not by officials in Washington, DC. The fourth clear choice in this election involves your retirement. Our Nation has made a solemn commitment to our seniors on Medicare and Social Security. When I ran for President 4 years ago, I promised to keep that commitment. I promised to improve Medicare by adding prescription drug coverage for our seniors. I kept my word. You remember those endless debates; leaders on both political parties have talked about strengthening Medicare for years. We got the job done. Seniors are now getting discounts on medicine through drug discount cards. Low-income seniors are getting $600 to help them this year and next year. And beginning in 2006, all seniors will be able to get prescription drug coverage under Medicare.</td>\n",
       "      <td>0.0</td>\n",
       "      <td>NaN</td>\n",
       "    </tr>\n",
       "    <tr>\n",
       "      <th>6793</th>\n",
       "      <td>6793_22</td>\n",
       "      <td>For the source of all welfare in America, both government and private, is the American concept of freedom. Only in a free land such as ours is aid to the needy abundantly and freely given. Only in a land where people are free is the ability to live in dignity seen as a right for every person. Freedom, indeed, is the one area where America truly and significantly stands apart from the other powerful nations of the world.</td>\n",
       "      <td>0.0</td>\n",
       "      <td>NaN</td>\n",
       "    </tr>\n",
       "  </tbody>\n",
       "</table>\n",
       "</div>"
      ],
      "text/plain": [
       "       total_id  \\\n",
       "64274  64274_24   \n",
       "54030  54030_15   \n",
       "19693  19693_19   \n",
       "64819  64819_45   \n",
       "6793    6793_22   \n",
       "\n",
       "                                                                                                                                                                                                                                                                                                                                                                                                                                                                                                                                                                                                                                                                                                                                                                                                                                                                                                                                                                                                                                                    text  \\\n",
       "64274                                                                                                                                                                                                                                                                                                                                                                                                                                                                                                                                                                                          Over the last 3 years, our economy has grown at the fastest rate of any major industrialized nation. The homeownership rate in America is at an alltime high. Incomes are up. Farm incomes are up. The past 13 months, we've added 1.9 million new jobs. The unemployment rate across America is 5.4 percent. That's lower than the average of the 1970s, the 1980s, and the 1990s. The unemployment rate in the great State of Wisconsin is 4.8 percent.   \n",
       "54030                                                                                                                                                                                                                                                                                                                                                                                                                                                                                                                                    Audience members. You got it! The President. Say, I want to make this point. At our convention, I wasn't just asking for your vote. I was asking us to rally around an achievable set of goals for our country: goals in manufacturing and energy and education and national security and defense. Real, concrete goals that will lead to new jobs and more opportunity and rebuild this economy on a stronger foundation. That's what we can do in the next 4 years. That's why I'm running for a second term.   \n",
       "19693                                                                                                                                                                                                                                                                                                                                                                                                                                                                                                                                                                                                                                                                                                                                                                                                                                                                                                 Are these your goals? Is this your spirit? Is this the America that you want to produce, and that you want to see, and that you want to fight for?   \n",
       "64819  My opponent's plan would move America down the road to Federal control of health care, and that is the wrong road for American families. In all we do to improve health care in a new term, we will make sure the decisions are made by doctors and patients, not by officials in Washington, DC. The fourth clear choice in this election involves your retirement. Our Nation has made a solemn commitment to our seniors on Medicare and Social Security. When I ran for President 4 years ago, I promised to keep that commitment. I promised to improve Medicare by adding prescription drug coverage for our seniors. I kept my word. You remember those endless debates; leaders on both political parties have talked about strengthening Medicare for years. We got the job done. Seniors are now getting discounts on medicine through drug discount cards. Low-income seniors are getting $600 to help them this year and next year. And beginning in 2006, all seniors will be able to get prescription drug coverage under Medicare.   \n",
       "6793                                                                                                                                                                                                                                                                                                                                                                                                                                                                                                                                                                                                             For the source of all welfare in America, both government and private, is the American concept of freedom. Only in a free land such as ours is aid to the needy abundantly and freely given. Only in a land where people are free is the ability to live in dignity seen as a right for every person. Freedom, indeed, is the one area where America truly and significantly stands apart from the other powerful nations of the world.   \n",
       "\n",
       "       label  test  \n",
       "64274    0.0   NaN  \n",
       "54030    0.0   NaN  \n",
       "19693    0.0   NaN  \n",
       "64819    0.0   NaN  \n",
       "6793     0.0   NaN  "
      ]
     },
     "execution_count": 242,
     "metadata": {},
     "output_type": "execute_result"
    }
   ],
   "source": [
    "# query_id = [73, 35982,  9758, 20826, 64942] \n",
    "explore = clas_dat.sample(n = 5, random_state = 0).index.tolist()\n",
    "# query_id = [73, 35982,  9758, 20826, 64942] + explore\n",
    "\n",
    "# clas_dat.loc[explore, 'text']\n",
    "\n",
    "# clas_dat.loc[explore, 'label'] = 0\n",
    "\n",
    "hal1 = clas_dat.loc[explore, ]\n",
    "\n",
    "hal1"
   ]
  },
  {
   "cell_type": "code",
   "execution_count": 80,
   "metadata": {},
   "outputs": [
    {
     "name": "stdout",
     "output_type": "stream",
     "text": [
      "(1992, 150)\n"
     ]
    },
    {
     "data": {
      "text/plain": [
       "array([0, 0, 0, ..., 0, 0, 0])"
      ]
     },
     "execution_count": 80,
     "metadata": {},
     "output_type": "execute_result"
    }
   ],
   "source": [
    "# Define new training set\n",
    "x_new_train = np.asarray([model.docvecs[i] for i in query_id])\n",
    "y_new_train = np.asarray(clas_dat.loc[query_id, 'label'].tolist(), dtype=\"int\")\n",
    "X_training = np.append(X_training,x_new_train, axis = 0)\n",
    "Y_training = np.append(Y_training,y_new_train, axis = 0)\n",
    "\n",
    "print(X_training.shape)\n",
    "Y_training"
   ]
  },
  {
   "cell_type": "code",
   "execution_count": 81,
   "metadata": {},
   "outputs": [
    {
     "name": "stdout",
     "output_type": "stream",
     "text": [
      "0.22350433374266937\n",
      "[[369 119]\n",
      " [  6  15]]\n",
      "AUC: 0.8229898516783762\n",
      "Accuracy: 0.7544204322200393\n",
      "0.19802849394273642\n"
     ]
    },
    {
     "data": {
      "text/plain": [
       "<sklearn.metrics._plot.precision_recall_curve.PrecisionRecallDisplay at 0x1a2d080d90>"
      ]
     },
     "execution_count": 81,
     "metadata": {},
     "output_type": "execute_result"
    },
    {
     "data": {
      "image/png": "[encoded data removed]",
      "text/plain": [
       "<Figure size 432x288 with 1 Axes>"
      ]
     },
     "metadata": {
      "needs_background": "light"
     },
     "output_type": "display_data"
    }
   ],
   "source": [
    "gbc= BalancedRandomForestClassifier(n_estimators=5000, max_depth=10, random_state=0,oob_score = True)\n",
    "gbc.fit(X_training, Y_training)\n",
    "preds = gbc.predict_proba(X_test)\n",
    "print(average_precision_score(Y_test, preds[:, 1]))\n",
    "\n",
    "confusion = confusion_matrix(Y_test, gbc.predict(X_test))\n",
    "print(confusion)\n",
    "\n",
    "fpr_d2v, tpr_d2v, thresholds_d2v = metrics.roc_curve(Y_test, preds[:,1], pos_label=1)\n",
    "accuracy_d2v = metrics.accuracy_score(Y_test, gbc.predict(X_test), normalize=True)\n",
    "\n",
    "\n",
    "print(\"AUC: \"+ str(metrics.auc(fpr_d2v, tpr_d2v)))\n",
    "print(\"Accuracy: \" + str(accuracy_d2v))\n",
    "\n",
    "precision, recall, thresholds = precision_recall_curve(Y_test, preds[:, 1])\n",
    "print(auc(recall, precision))\n",
    "plot_precision_recall_curve(gbc, X_test, Y_test)"
   ]
  },
  {
   "cell_type": "code",
   "execution_count": 87,
   "metadata": {},
   "outputs": [
    {
     "data": {
      "text/plain": [
       "array([29117,  4239, 17687, 17238, 54452])"
      ]
     },
     "execution_count": 87,
     "metadata": {},
     "output_type": "execute_result"
    }
   ],
   "source": [
    "# learner = ActiveLearner(\n",
    "#     estimator= BalancedRandomForestClassifier(n_estimators=5000, max_depth=10, random_state=0,oob_score = True),\n",
    "#     query_strategy=entropy_sampling,\n",
    "#     X_training=X_training, y_training=Y_training\n",
    "# )\n",
    "\n",
    "# X_pool = np.asarray([model.docvecs[i] for i in clas_dat.index[clas_dat['label'].isnull()].tolist()])\n",
    "query_id, query_inst = learner.query(X_pool,5)\n",
    "query_id"
   ]
  },
  {
   "cell_type": "code",
   "execution_count": 243,
   "metadata": {},
   "outputs": [
    {
     "data": {
      "text/html": [
       "<div>\n",
       "<style scoped>\n",
       "    .dataframe tbody tr th:only-of-type {\n",
       "        vertical-align: middle;\n",
       "    }\n",
       "\n",
       "    .dataframe tbody tr th {\n",
       "        vertical-align: top;\n",
       "    }\n",
       "\n",
       "    .dataframe thead th {\n",
       "        text-align: right;\n",
       "    }\n",
       "</style>\n",
       "<table border=\"1\" class=\"dataframe\">\n",
       "  <thead>\n",
       "    <tr style=\"text-align: right;\">\n",
       "      <th></th>\n",
       "      <th>total_id</th>\n",
       "      <th>text</th>\n",
       "      <th>label</th>\n",
       "      <th>test</th>\n",
       "    </tr>\n",
       "  </thead>\n",
       "  <tbody>\n",
       "    <tr>\n",
       "      <th>45795</th>\n",
       "      <td>45795_30</td>\n",
       "      <td>I know it's unfashionable to talk about faith, but I remember that cold day up in Camp David when we had to make this terrible decision about sending the sons and daughters of New Jersey into Desert Storm, into combat. And my experience in combat, the pride I felt in wearing the uniform of this country, made a difference in how I made that decision. On that cold day in Camp David, Barbara and I went to that little chapel, and yes, we prayed that I would do the right thing and that these young men and women would come home safe. And they did. They lifted up the morale of this country. They lifted the burden off the veterans of Vietnam. They raised with pride service to country. And I'll tell you something: It was a proud moment. And the press and the media are not going to distort it. It was decent and noble and made us the leader of the entire world.</td>\n",
       "      <td>0.0</td>\n",
       "      <td>NaN</td>\n",
       "    </tr>\n",
       "    <tr>\n",
       "      <th>37689</th>\n",
       "      <td>37689_3</td>\n",
       "      <td>That which unites us as American citizens is far greater than that which divides us as political parties.  I urge you all to give General Eisenhower the support he will need to carry out the great tasks that lie before him.  I pledge him mine.</td>\n",
       "      <td>0.0</td>\n",
       "      <td>NaN</td>\n",
       "    </tr>\n",
       "    <tr>\n",
       "      <th>70409</th>\n",
       "      <td>70409_56</td>\n",
       "      <td>Number four, block funding for sanctuary cities. We block the funding. No more funds.</td>\n",
       "      <td>0.0</td>\n",
       "      <td>NaN</td>\n",
       "    </tr>\n",
       "    <tr>\n",
       "      <th>38367</th>\n",
       "      <td>38367_6</td>\n",
       "      <td>When he became a candidate for the bench in 1953, the Chicago Bar Association termed him \"\"a man of ability, character, and integrity, well qualified to be a judge.\"\" He led the Bar Association poll and he led his party's ticket in the election. He has won everyone's respect as the wise and fair-minded Chief Justice of the Criminal Court of Cook County.</td>\n",
       "      <td>0.0</td>\n",
       "      <td>NaN</td>\n",
       "    </tr>\n",
       "    <tr>\n",
       "      <th>5114</th>\n",
       "      <td>5114_10</td>\n",
       "      <td>As I said, we have an all-volunteer Army, Navy, Air Force, and Marines, and they are good, they are career people. And we are strong because we have the right weapons systems; good leadership, outstanding young people, and they are voluntary recruits. And I can say with great pride that the United States is at peace. Not a single young American is fighting or dying on any foreign battlefield tonight, and they won't.</td>\n",
       "      <td>0.0</td>\n",
       "      <td>NaN</td>\n",
       "    </tr>\n",
       "  </tbody>\n",
       "</table>\n",
       "</div>"
      ],
      "text/plain": [
       "       total_id  \\\n",
       "45795  45795_30   \n",
       "37689   37689_3   \n",
       "70409  70409_56   \n",
       "38367   38367_6   \n",
       "5114    5114_10   \n",
       "\n",
       "                                                                                                                                                                                                                                                                                                                                                                                                                                                                                                                                                                                                                                                                                                                                                                                                                                                                                                 text  \\\n",
       "45795  I know it's unfashionable to talk about faith, but I remember that cold day up in Camp David when we had to make this terrible decision about sending the sons and daughters of New Jersey into Desert Storm, into combat. And my experience in combat, the pride I felt in wearing the uniform of this country, made a difference in how I made that decision. On that cold day in Camp David, Barbara and I went to that little chapel, and yes, we prayed that I would do the right thing and that these young men and women would come home safe. And they did. They lifted up the morale of this country. They lifted the burden off the veterans of Vietnam. They raised with pride service to country. And I'll tell you something: It was a proud moment. And the press and the media are not going to distort it. It was decent and noble and made us the leader of the entire world.   \n",
       "37689                                                                                                                                                                                                                                                                                                                                                                                                                                                                                                                                                                                                                                             That which unites us as American citizens is far greater than that which divides us as political parties.  I urge you all to give General Eisenhower the support he will need to carry out the great tasks that lie before him.  I pledge him mine.   \n",
       "70409                                                                                                                                                                                                                                                                                                                                                                                                                                                                                                                                                                                                                                                                                                                                                                                                           Number four, block funding for sanctuary cities. We block the funding. No more funds.   \n",
       "38367                                                                                                                                                                                                                                                                                                                                                                                                                                                                                                                             When he became a candidate for the bench in 1953, the Chicago Bar Association termed him \"\"a man of ability, character, and integrity, well qualified to be a judge.\"\" He led the Bar Association poll and he led his party's ticket in the election. He has won everyone's respect as the wise and fair-minded Chief Justice of the Criminal Court of Cook County.   \n",
       "5114                                                                                                                                                                                                                                                                                                                                                                                                                                                              As I said, we have an all-volunteer Army, Navy, Air Force, and Marines, and they are good, they are career people. And we are strong because we have the right weapons systems; good leadership, outstanding young people, and they are voluntary recruits. And I can say with great pride that the United States is at peace. Not a single young American is fighting or dying on any foreign battlefield tonight, and they won't.   \n",
       "\n",
       "       label  test  \n",
       "45795    0.0   NaN  \n",
       "37689    0.0   NaN  \n",
       "70409    0.0   NaN  \n",
       "38367    0.0   NaN  \n",
       "5114     0.0   NaN  "
      ]
     },
     "execution_count": 243,
     "metadata": {},
     "output_type": "execute_result"
    }
   ],
   "source": [
    "explore = clas_dat.sample(n = 5, random_state = 1).index.tolist()\n",
    "# query_id = query_id.tolist() + explore\n",
    "\n",
    "# clas_dat.loc[query_id, 'text']\n",
    "\n",
    "# clas_dat.loc[query_id, 'label'] = 0\n",
    "# clas_dat.loc[54452, 'label'] = 1\n",
    "\n",
    "# clas_dat.loc[query_id, 'label']\n",
    "\n",
    "hal2 = clas_dat.loc[explore, ]\n",
    "\n",
    "hal2"
   ]
  },
  {
   "cell_type": "code",
   "execution_count": 92,
   "metadata": {},
   "outputs": [
    {
     "name": "stdout",
     "output_type": "stream",
     "text": [
      "(2002, 150)\n"
     ]
    },
    {
     "data": {
      "text/plain": [
       "array([0, 0, 0, ..., 0, 0, 0])"
      ]
     },
     "execution_count": 92,
     "metadata": {},
     "output_type": "execute_result"
    }
   ],
   "source": [
    "# Define new training set\n",
    "x_new_train = np.asarray([model.docvecs[i] for i in query_id])\n",
    "y_new_train = np.asarray(clas_dat.loc[query_id, 'label'].tolist(), dtype=\"int\")\n",
    "X_training = np.append(X_training,x_new_train, axis = 0)\n",
    "Y_training = np.append(Y_training,y_new_train, axis = 0)\n",
    "\n",
    "print(X_training.shape)\n",
    "Y_training"
   ]
  },
  {
   "cell_type": "code",
   "execution_count": 93,
   "metadata": {},
   "outputs": [
    {
     "name": "stdout",
     "output_type": "stream",
     "text": [
      "0.23903745198260512\n",
      "[[368 120]\n",
      " [  6  15]]\n",
      "AUC: 0.8330405932864948\n",
      "Accuracy: 0.7524557956777996\n",
      "0.2132811276523604\n"
     ]
    },
    {
     "data": {
      "text/plain": [
       "<sklearn.metrics._plot.precision_recall_curve.PrecisionRecallDisplay at 0x1a2e66f690>"
      ]
     },
     "execution_count": 93,
     "metadata": {},
     "output_type": "execute_result"
    },
    {
     "data": {
      "image/png": "[encoded data removed]",
      "text/plain": [
       "<Figure size 432x288 with 1 Axes>"
      ]
     },
     "metadata": {
      "needs_background": "light"
     },
     "output_type": "display_data"
    }
   ],
   "source": [
    "gbc= BalancedRandomForestClassifier(n_estimators=5000, max_depth=10, random_state=0,oob_score = True)\n",
    "gbc.fit(X_training, Y_training)\n",
    "preds = gbc.predict_proba(X_test)\n",
    "print(average_precision_score(Y_test, preds[:, 1]))\n",
    "\n",
    "confusion = confusion_matrix(Y_test, gbc.predict(X_test))\n",
    "print(confusion)\n",
    "\n",
    "fpr_d2v, tpr_d2v, thresholds_d2v = metrics.roc_curve(Y_test, preds[:,1], pos_label=1)\n",
    "accuracy_d2v = metrics.accuracy_score(Y_test, gbc.predict(X_test), normalize=True)\n",
    "\n",
    "\n",
    "print(\"AUC: \"+ str(metrics.auc(fpr_d2v, tpr_d2v)))\n",
    "print(\"Accuracy: \" + str(accuracy_d2v))\n",
    "\n",
    "precision, recall, thresholds = precision_recall_curve(Y_test, preds[:, 1])\n",
    "print(auc(recall, precision))\n",
    "plot_precision_recall_curve(gbc, X_test, Y_test)"
   ]
  },
  {
   "cell_type": "code",
   "execution_count": 97,
   "metadata": {},
   "outputs": [
    {
     "data": {
      "text/plain": [
       "array([ 3521, 31665, 54412, 28190,  9844])"
      ]
     },
     "execution_count": 97,
     "metadata": {},
     "output_type": "execute_result"
    }
   ],
   "source": [
    "# learner = ActiveLearner(\n",
    "#     estimator= BalancedRandomForestClassifier(n_estimators=5000, max_depth=10, random_state=0,oob_score = True),\n",
    "#     query_strategy=entropy_sampling,\n",
    "#     X_training=X_training, y_training=Y_training\n",
    "# )\n",
    "\n",
    "# X_pool = np.asarray([model.docvecs[i] for i in clas_dat.index[clas_dat['label'].isnull()].tolist()])\n",
    "query_id, query_inst = learner.query(X_pool,5)\n",
    "query_id"
   ]
  },
  {
   "cell_type": "code",
   "execution_count": 244,
   "metadata": {},
   "outputs": [
    {
     "data": {
      "text/html": [
       "<div>\n",
       "<style scoped>\n",
       "    .dataframe tbody tr th:only-of-type {\n",
       "        vertical-align: middle;\n",
       "    }\n",
       "\n",
       "    .dataframe tbody tr th {\n",
       "        vertical-align: top;\n",
       "    }\n",
       "\n",
       "    .dataframe thead th {\n",
       "        text-align: right;\n",
       "    }\n",
       "</style>\n",
       "<table border=\"1\" class=\"dataframe\">\n",
       "  <thead>\n",
       "    <tr style=\"text-align: right;\">\n",
       "      <th></th>\n",
       "      <th>total_id</th>\n",
       "      <th>text</th>\n",
       "      <th>label</th>\n",
       "      <th>test</th>\n",
       "    </tr>\n",
       "  </thead>\n",
       "  <tbody>\n",
       "    <tr>\n",
       "      <th>48871</th>\n",
       "      <td>48871_13</td>\n",
       "      <td>And you see, my friends, that is the way America got where it is today, not by weakening individuals, not by taking responsibility from our people, not by discouraging individual enterprise, not by weakening our states and our local governments, but by strengthening, by getting every bit of effort that we can out of each segment of the local American economy.  That is why I say our programs will work where theirs won't.  However, you have to take this into account: My opponent can say to you he is going to spend more money in health and education and welfare, in these various fields, than the programs that I advocate will cost.  But I ask you to think for a moment.  Some people will say since he is going to spend more than you will spend, that means that his programs are better.  But think for a moment.  He isn't going to be spending his money, but your money, and that makes a big difference.</td>\n",
       "      <td>0.0</td>\n",
       "      <td>NaN</td>\n",
       "    </tr>\n",
       "    <tr>\n",
       "      <th>13401</th>\n",
       "      <td>13401_9</td>\n",
       "      <td>And so, you have now a great turning point in human affairs. The question that the American people must solemnly, quietly, looking deeply into their consciences, decide is this: do we want to change direction? Do we want to repudiate the leadership of the President? Do we want to move in another direction? Do we need the kind of leadership that our opponent offers?</td>\n",
       "      <td>0.0</td>\n",
       "      <td>NaN</td>\n",
       "    </tr>\n",
       "    <tr>\n",
       "      <th>27842</th>\n",
       "      <td>27842_5</td>\n",
       "      <td>For too many years, the government has not given neighborhoods the only thing they need--a chance to make it on their own. No government that cared about our neighborhoods would stack the tax deck against them. A landlord can let a building run down and make a good living on the tax breaks. But when a homeowner spends a little hard earned money fixing up his house, the assessor raises his taxes.</td>\n",
       "      <td>1.0</td>\n",
       "      <td>NaN</td>\n",
       "    </tr>\n",
       "    <tr>\n",
       "      <th>50060</th>\n",
       "      <td>50060_15</td>\n",
       "      <td>And we're on your side.  Because we believe that every workplace in America, every workplace should be a quality workplace, a productive workplace, and a safe workplace. And beginning on January 20, of 1989, we're going to have an Occupational Safety and Health Administration, whose inspectors make those inspections as if their lives depend on it.</td>\n",
       "      <td>0.0</td>\n",
       "      <td>NaN</td>\n",
       "    </tr>\n",
       "    <tr>\n",
       "      <th>58999</th>\n",
       "      <td>58999_51</td>\n",
       "      <td>The President. That sounded like a big one to me. You see, good tax policy says to businessowners, \"\"Invest,\"\" because you know what investment means? Investment means jobs. And so in our tax policy we said to small-business owners that you're able to deduct up to $100,000 for equipment expensing in the year in which you buy it, as opposed to $25,000. And why did we do that? Because we want to encourage Eric to invest. And so he says he buys a 400-ton——</td>\n",
       "      <td>0.0</td>\n",
       "      <td>0.0</td>\n",
       "    </tr>\n",
       "  </tbody>\n",
       "</table>\n",
       "</div>"
      ],
      "text/plain": [
       "       total_id  \\\n",
       "48871  48871_13   \n",
       "13401   13401_9   \n",
       "27842   27842_5   \n",
       "50060  50060_15   \n",
       "58999  58999_51   \n",
       "\n",
       "                                                                                                                                                                                                                                                                                                                                                                                                                                                                                                                                                                                                                                                                                                                                                                                                                                                                                                                                             text  \\\n",
       "48871  And you see, my friends, that is the way America got where it is today, not by weakening individuals, not by taking responsibility from our people, not by discouraging individual enterprise, not by weakening our states and our local governments, but by strengthening, by getting every bit of effort that we can out of each segment of the local American economy.  That is why I say our programs will work where theirs won't.  However, you have to take this into account: My opponent can say to you he is going to spend more money in health and education and welfare, in these various fields, than the programs that I advocate will cost.  But I ask you to think for a moment.  Some people will say since he is going to spend more than you will spend, that means that his programs are better.  But think for a moment.  He isn't going to be spending his money, but your money, and that makes a big difference.    \n",
       "13401                                                                                                                                                                                                                                                                                                                                                                                                                                                                                                                                                             And so, you have now a great turning point in human affairs. The question that the American people must solemnly, quietly, looking deeply into their consciences, decide is this: do we want to change direction? Do we want to repudiate the leadership of the President? Do we want to move in another direction? Do we need the kind of leadership that our opponent offers?   \n",
       "27842                                                                                                                                                                                                                                                                                                                                                                                                                                                                                                                              For too many years, the government has not given neighborhoods the only thing they need--a chance to make it on their own. No government that cared about our neighborhoods would stack the tax deck against them. A landlord can let a building run down and make a good living on the tax breaks. But when a homeowner spends a little hard earned money fixing up his house, the assessor raises his taxes.   \n",
       "50060                                                                                                                                                                                                                                                                                                                                                                                                                                                                                                                                                                               And we're on your side.  Because we believe that every workplace in America, every workplace should be a quality workplace, a productive workplace, and a safe workplace. And beginning on January 20, of 1989, we're going to have an Occupational Safety and Health Administration, whose inspectors make those inspections as if their lives depend on it.   \n",
       "58999                                                                                                                                                                                                                                                                                                                                                                                                                                                                   The President. That sounded like a big one to me. You see, good tax policy says to businessowners, \"\"Invest,\"\" because you know what investment means? Investment means jobs. And so in our tax policy we said to small-business owners that you're able to deduct up to $100,000 for equipment expensing in the year in which you buy it, as opposed to $25,000. And why did we do that? Because we want to encourage Eric to invest. And so he says he buys a 400-ton——   \n",
       "\n",
       "       label  test  \n",
       "48871    0.0   NaN  \n",
       "13401    0.0   NaN  \n",
       "27842    1.0   NaN  \n",
       "50060    0.0   NaN  \n",
       "58999    0.0   0.0  "
      ]
     },
     "execution_count": 244,
     "metadata": {},
     "output_type": "execute_result"
    }
   ],
   "source": [
    "explore = clas_dat.sample(n = 5, random_state = 2).index.tolist()\n",
    "# query_id = query_id.tolist() + explore\n",
    "\n",
    "# clas_dat.loc[query_id, 'text']\n",
    "\n",
    "# clas_dat.loc[query_id, 'label'] = 0\n",
    "# clas_dat.loc[[54412, 27842], 'label'] = 1\n",
    "\n",
    "# clas_dat.loc[query_id, 'label']\n",
    "\n",
    "hal3 = clas_dat.loc[explore,]\n",
    "\n",
    "hal3"
   ]
  },
  {
   "cell_type": "code",
   "execution_count": 99,
   "metadata": {},
   "outputs": [
    {
     "name": "stdout",
     "output_type": "stream",
     "text": [
      "(2012, 150)\n"
     ]
    },
    {
     "data": {
      "text/plain": [
       "array([0, 0, 0, ..., 1, 0, 0])"
      ]
     },
     "execution_count": 99,
     "metadata": {},
     "output_type": "execute_result"
    }
   ],
   "source": [
    "# Define new training set\n",
    "x_new_train = np.asarray([model.docvecs[i] for i in query_id])\n",
    "y_new_train = np.asarray(clas_dat.loc[query_id, 'label'].tolist(), dtype=\"int\")\n",
    "X_training = np.append(X_training,x_new_train, axis = 0)\n",
    "Y_training = np.append(Y_training,y_new_train, axis = 0)\n",
    "\n",
    "print(X_training.shape)\n",
    "Y_training"
   ]
  },
  {
   "cell_type": "code",
   "execution_count": 100,
   "metadata": {},
   "outputs": [
    {
     "name": "stdout",
     "output_type": "stream",
     "text": [
      "0.21830238595270957\n",
      "[[373 115]\n",
      " [  6  15]]\n",
      "AUC: 0.8288446526151444\n",
      "Accuracy: 0.762278978388998\n",
      "0.19346382884599597\n"
     ]
    },
    {
     "data": {
      "text/plain": [
       "<sklearn.metrics._plot.precision_recall_curve.PrecisionRecallDisplay at 0x1a34c8cf50>"
      ]
     },
     "execution_count": 100,
     "metadata": {},
     "output_type": "execute_result"
    },
    {
     "data": {
      "image/png": "[encoded data removed]",
      "text/plain": [
       "<Figure size 432x288 with 1 Axes>"
      ]
     },
     "metadata": {
      "needs_background": "light"
     },
     "output_type": "display_data"
    }
   ],
   "source": [
    "gbc= BalancedRandomForestClassifier(n_estimators=5000, max_depth=10, random_state=0,oob_score = True)\n",
    "gbc.fit(X_training, Y_training)\n",
    "preds = gbc.predict_proba(X_test)\n",
    "print(average_precision_score(Y_test, preds[:, 1]))\n",
    "\n",
    "confusion = confusion_matrix(Y_test, gbc.predict(X_test))\n",
    "print(confusion)\n",
    "\n",
    "fpr_d2v, tpr_d2v, thresholds_d2v = metrics.roc_curve(Y_test, preds[:,1], pos_label=1)\n",
    "accuracy_d2v = metrics.accuracy_score(Y_test, gbc.predict(X_test), normalize=True)\n",
    "\n",
    "\n",
    "print(\"AUC: \"+ str(metrics.auc(fpr_d2v, tpr_d2v)))\n",
    "print(\"Accuracy: \" + str(accuracy_d2v))\n",
    "\n",
    "precision, recall, thresholds = precision_recall_curve(Y_test, preds[:, 1])\n",
    "print(auc(recall, precision))\n",
    "plot_precision_recall_curve(gbc, X_test, Y_test)"
   ]
  },
  {
   "cell_type": "code",
   "execution_count": 119,
   "metadata": {},
   "outputs": [
    {
     "data": {
      "text/plain": [
       "['accuracy',\n",
       " 'adjusted_mutual_info_score',\n",
       " 'adjusted_rand_score',\n",
       " 'average_precision',\n",
       " 'balanced_accuracy',\n",
       " 'completeness_score',\n",
       " 'explained_variance',\n",
       " 'f1',\n",
       " 'f1_macro',\n",
       " 'f1_micro',\n",
       " 'f1_samples',\n",
       " 'f1_weighted',\n",
       " 'fowlkes_mallows_score',\n",
       " 'homogeneity_score',\n",
       " 'jaccard',\n",
       " 'jaccard_macro',\n",
       " 'jaccard_micro',\n",
       " 'jaccard_samples',\n",
       " 'jaccard_weighted',\n",
       " 'max_error',\n",
       " 'mutual_info_score',\n",
       " 'neg_brier_score',\n",
       " 'neg_log_loss',\n",
       " 'neg_mean_absolute_error',\n",
       " 'neg_mean_gamma_deviance',\n",
       " 'neg_mean_poisson_deviance',\n",
       " 'neg_mean_squared_error',\n",
       " 'neg_mean_squared_log_error',\n",
       " 'neg_median_absolute_error',\n",
       " 'neg_root_mean_squared_error',\n",
       " 'normalized_mutual_info_score',\n",
       " 'precision',\n",
       " 'precision_macro',\n",
       " 'precision_micro',\n",
       " 'precision_samples',\n",
       " 'precision_weighted',\n",
       " 'r2',\n",
       " 'recall',\n",
       " 'recall_macro',\n",
       " 'recall_micro',\n",
       " 'recall_samples',\n",
       " 'recall_weighted',\n",
       " 'roc_auc',\n",
       " 'roc_auc_ovo',\n",
       " 'roc_auc_ovo_weighted',\n",
       " 'roc_auc_ovr',\n",
       " 'roc_auc_ovr_weighted',\n",
       " 'v_measure_score']"
      ]
     },
     "execution_count": 119,
     "metadata": {},
     "output_type": "execute_result"
    }
   ],
   "source": [
    "sorted(metrics.SCORERS.keys())"
   ]
  },
  {
   "cell_type": "code",
   "execution_count": 230,
   "metadata": {},
   "outputs": [],
   "source": [
    "yuchen_anot = pd.read_csv(\"annotated_par_yuchen.csv\")\n",
    "\n",
    "yuchen_anot = yuchen_anot.loc[0:494, :]\n",
    "\n",
    "yuchen_anot = yuchen_anot.drop('Unnamed: 0', axis=1)\n",
    "\n",
    "yuchen_anot.to_csv('annotated_par_yuchen.csv')"
   ]
  },
  {
   "cell_type": "code",
   "execution_count": 231,
   "metadata": {},
   "outputs": [
    {
     "name": "stdout",
     "output_type": "stream",
     "text": [
      "71827\n",
      "72379\n"
     ]
    }
   ],
   "source": [
    "al = pd.read_csv('20201115_all_paragraphs.csv')\n",
    "al_before = pd.read_csv('20201110_all_paragraphs.csv')\n",
    "print(len(al))\n",
    "print(len(al_before))"
   ]
  },
  {
   "cell_type": "code",
   "execution_count": 245,
   "metadata": {},
   "outputs": [],
   "source": [
    "hal = hal1.append(hal2.append(hal3))\n",
    "hal.to_csv('HAL_random_annoations.csv')"
   ]
  },
  {
   "cell_type": "code",
   "execution_count": 255,
   "metadata": {},
   "outputs": [
    {
     "data": {
      "text/html": [
       "<div>\n",
       "<style scoped>\n",
       "    .dataframe tbody tr th:only-of-type {\n",
       "        vertical-align: middle;\n",
       "    }\n",
       "\n",
       "    .dataframe tbody tr th {\n",
       "        vertical-align: top;\n",
       "    }\n",
       "\n",
       "    .dataframe thead th {\n",
       "        text-align: right;\n",
       "    }\n",
       "</style>\n",
       "<table border=\"1\" class=\"dataframe\">\n",
       "  <thead>\n",
       "    <tr style=\"text-align: right;\">\n",
       "      <th></th>\n",
       "      <th>Speech_id</th>\n",
       "      <th>par_id</th>\n",
       "      <th>text</th>\n",
       "      <th>label</th>\n",
       "    </tr>\n",
       "  </thead>\n",
       "  <tbody>\n",
       "    <tr>\n",
       "      <th>2383</th>\n",
       "      <td>1822</td>\n",
       "      <td>6</td>\n",
       "      <td>And I say to you: you know what we can do.  You know how we will react to Mr. Khrushchev or to anyone else because we have been through the test. Now let us look at our opponent for a moment.  What do we know about him?  First of all, we know something about him as far as this campaign is concerned.  On three occasions during our debates the American people have had an opportunity to see how he would have made a decision differently from the way the President of the United States has made that decision, decisions affecting the security of his country.  And, so, you must test him, as you test us, by that record.</td>\n",
       "      <td>0.0</td>\n",
       "    </tr>\n",
       "    <tr>\n",
       "      <th>2384</th>\n",
       "      <td>1822</td>\n",
       "      <td>6</td>\n",
       "      <td>And I say to you: you know what we can do.  You know how we will react to Mr. Khrushchev or to anyone else because we have been through the test. Now let us look at our opponent for a moment.  What do we know about him?  First of all, we know something about him as far as this campaign is concerned.  On three occasions during our debates the American people have had an opportunity to see how he would have made a decision differently from the way the President of the United States has made that decision, decisions affecting the security of his country.  And, so, you must test him, as you test us, by that record.</td>\n",
       "      <td>0.0</td>\n",
       "    </tr>\n",
       "    <tr>\n",
       "      <th>9649</th>\n",
       "      <td>2877</td>\n",
       "      <td>21</td>\n",
       "      <td>But my opponent, as a senator, personally led the fight against having a shuttle program at all. He called it a horrible waste. Well, we support the space shuttle, and we've committed America to meet a great challenge--to build a manned space center out in space and to do it within a decade. What this country needs is high tech, not high taxes.</td>\n",
       "      <td>0.0</td>\n",
       "    </tr>\n",
       "    <tr>\n",
       "      <th>9650</th>\n",
       "      <td>2877</td>\n",
       "      <td>21</td>\n",
       "      <td>But my opponent, as a senator, personally led the fight against having a shuttle program at all. He called it a horrible waste. Well, we support the space shuttle, and we've committed America to meet a great challenge--to build a manned space center out in space and to do it within a decade. What this country needs is high tech, not high taxes.</td>\n",
       "      <td>0.0</td>\n",
       "    </tr>\n",
       "    <tr>\n",
       "      <th>11841</th>\n",
       "      <td>2282</td>\n",
       "      <td>13</td>\n",
       "      <td>I believe that America does care. I believe that we would rather build hospitals that can cure the sick than a plane that cannot fly. I believe that we would rather end poverty in America than continue the killing in Asia.</td>\n",
       "      <td>0.0</td>\n",
       "    </tr>\n",
       "    <tr>\n",
       "      <th>...</th>\n",
       "      <td>...</td>\n",
       "      <td>...</td>\n",
       "      <td>...</td>\n",
       "      <td>...</td>\n",
       "    </tr>\n",
       "    <tr>\n",
       "      <th>67583</th>\n",
       "      <td>2016-10-24-manchester-new-hampshire</td>\n",
       "      <td>29</td>\n",
       "      <td>What happened is trickle-down economics came back. So here is what I am going to do. We are going to ask the wealthy to finally pay their fair share. We are going to – we are going to close the loopholes, we are going to end the fact that millionaires can pay a lower tax rate than a nurse or a teacher or a police officer. We are going to make big banks pay for the risks they pose to our economy because Elizabeth is absolutely right. No – no bank is too big to fail, and no one should be above the law, and we are going to enforce that and contrast that with Donald Trump. He believes that if you give trillions and that is trillions with a 't' in tax cuts to the wealthy millionaires and billionaires and corporations, and everything will work out.</td>\n",
       "      <td>0.0</td>\n",
       "    </tr>\n",
       "    <tr>\n",
       "      <th>70593</th>\n",
       "      <td>2004-08-12-remarks-carson-california</td>\n",
       "      <td>0</td>\n",
       "      <td>Over the last few weeks, John Edwards and I have made our way across this country we love, from sea to shining sea, because we believe in America and we believe we can do better. And at every stop we've made, from great cities to the great Southwest, from the flag-draped front porches of Main Street America to the small family farms that dot the Midwest, we've met Americans who believe that too. While millions are struggling to find work, and millions more are struggling to pay the bills, these folks hold on to an optimism that is both courageous and classically American. They know we can do better. They know our best days lie ahead. And they still believe in an America where a willingness to work hard is rewarded with the opportunity to earn a decent living and the chance to get ahead.</td>\n",
       "      <td>0.0</td>\n",
       "    </tr>\n",
       "    <tr>\n",
       "      <th>70594</th>\n",
       "      <td>2004-08-12-remarks-carson-california</td>\n",
       "      <td>0</td>\n",
       "      <td>Over the last few weeks, John Edwards and I have made our way across this country we love, from sea to shining sea, because we believe in America and we believe we can do better. And at every stop we've made, from great cities to the great Southwest, from the flag-draped front porches of Main Street America to the small family farms that dot the Midwest, we've met Americans who believe that too. While millions are struggling to find work, and millions more are struggling to pay the bills, these folks hold on to an optimism that is both courageous and classically American. They know we can do better. They know our best days lie ahead. And they still believe in an America where a willingness to work hard is rewarded with the opportunity to earn a decent living and the chance to get ahead.</td>\n",
       "      <td>0.0</td>\n",
       "    </tr>\n",
       "    <tr>\n",
       "      <th>71768</th>\n",
       "      <td>2000-11-01-remarks-kissimmee-florida</td>\n",
       "      <td>32</td>\n",
       "      <td>Sometimes, a President has to stand up and say no — so that our families can have a better life. I'm not running for President to go along and get along at any price. The Presidency is really not just a popularity contest. If you want someone who smiles and looks the other way while special interests have their way, then I'm not your guy.</td>\n",
       "      <td>0.0</td>\n",
       "    </tr>\n",
       "    <tr>\n",
       "      <th>71769</th>\n",
       "      <td>2000-11-01-remarks-kissimmee-florida</td>\n",
       "      <td>32</td>\n",
       "      <td>Sometimes, a President has to stand up and say no — so that our families can have a better life. I'm not running for President to go along and get along at any price. The Presidency is really not just a popularity contest. If you want someone who smiles and looks the other way while special interests have their way, then I'm not your guy.</td>\n",
       "      <td>0.0</td>\n",
       "    </tr>\n",
       "  </tbody>\n",
       "</table>\n",
       "<p>65 rows × 4 columns</p>\n",
       "</div>"
      ],
      "text/plain": [
       "                                  Speech_id  par_id  \\\n",
       "2383                                   1822       6   \n",
       "2384                                   1822       6   \n",
       "9649                                   2877      21   \n",
       "9650                                   2877      21   \n",
       "11841                                  2282      13   \n",
       "...                                     ...     ...   \n",
       "67583   2016-10-24-manchester-new-hampshire      29   \n",
       "70593  2004-08-12-remarks-carson-california       0   \n",
       "70594  2004-08-12-remarks-carson-california       0   \n",
       "71768  2000-11-01-remarks-kissimmee-florida      32   \n",
       "71769  2000-11-01-remarks-kissimmee-florida      32   \n",
       "\n",
       "                                                                                                                                                                                                                                                                                                                                                                                                                                                                                                                                                                                                                                                                                                                                                                                                                                text  \\\n",
       "2383                                                                                                                                                                                      And I say to you: you know what we can do.  You know how we will react to Mr. Khrushchev or to anyone else because we have been through the test. Now let us look at our opponent for a moment.  What do we know about him?  First of all, we know something about him as far as this campaign is concerned.  On three occasions during our debates the American people have had an opportunity to see how he would have made a decision differently from the way the President of the United States has made that decision, decisions affecting the security of his country.  And, so, you must test him, as you test us, by that record.   \n",
       "2384                                                                                                                                                                                      And I say to you: you know what we can do.  You know how we will react to Mr. Khrushchev or to anyone else because we have been through the test. Now let us look at our opponent for a moment.  What do we know about him?  First of all, we know something about him as far as this campaign is concerned.  On three occasions during our debates the American people have had an opportunity to see how he would have made a decision differently from the way the President of the United States has made that decision, decisions affecting the security of his country.  And, so, you must test him, as you test us, by that record.   \n",
       "9649                                                                                                                                                                                                                                                                                                                                                                                                                                                                      But my opponent, as a senator, personally led the fight against having a shuttle program at all. He called it a horrible waste. Well, we support the space shuttle, and we've committed America to meet a great challenge--to build a manned space center out in space and to do it within a decade. What this country needs is high tech, not high taxes.   \n",
       "9650                                                                                                                                                                                                                                                                                                                                                                                                                                                                      But my opponent, as a senator, personally led the fight against having a shuttle program at all. He called it a horrible waste. Well, we support the space shuttle, and we've committed America to meet a great challenge--to build a manned space center out in space and to do it within a decade. What this country needs is high tech, not high taxes.   \n",
       "11841                                                                                                                                                                                                                                                                                                                                                                                                                                                                                                                                                                                                 I believe that America does care. I believe that we would rather build hospitals that can cure the sick than a plane that cannot fly. I believe that we would rather end poverty in America than continue the killing in Asia.   \n",
       "...                                                                                                                                                                                                                                                                                                                                                                                                                                                                                                                                                                                                                                                                                                                                                                                                                              ...   \n",
       "67583                                               What happened is trickle-down economics came back. So here is what I am going to do. We are going to ask the wealthy to finally pay their fair share. We are going to – we are going to close the loopholes, we are going to end the fact that millionaires can pay a lower tax rate than a nurse or a teacher or a police officer. We are going to make big banks pay for the risks they pose to our economy because Elizabeth is absolutely right. No – no bank is too big to fail, and no one should be above the law, and we are going to enforce that and contrast that with Donald Trump. He believes that if you give trillions and that is trillions with a 't' in tax cuts to the wealthy millionaires and billionaires and corporations, and everything will work out.   \n",
       "70593  Over the last few weeks, John Edwards and I have made our way across this country we love, from sea to shining sea, because we believe in America and we believe we can do better. And at every stop we've made, from great cities to the great Southwest, from the flag-draped front porches of Main Street America to the small family farms that dot the Midwest, we've met Americans who believe that too. While millions are struggling to find work, and millions more are struggling to pay the bills, these folks hold on to an optimism that is both courageous and classically American. They know we can do better. They know our best days lie ahead. And they still believe in an America where a willingness to work hard is rewarded with the opportunity to earn a decent living and the chance to get ahead.   \n",
       "70594  Over the last few weeks, John Edwards and I have made our way across this country we love, from sea to shining sea, because we believe in America and we believe we can do better. And at every stop we've made, from great cities to the great Southwest, from the flag-draped front porches of Main Street America to the small family farms that dot the Midwest, we've met Americans who believe that too. While millions are struggling to find work, and millions more are struggling to pay the bills, these folks hold on to an optimism that is both courageous and classically American. They know we can do better. They know our best days lie ahead. And they still believe in an America where a willingness to work hard is rewarded with the opportunity to earn a decent living and the chance to get ahead.   \n",
       "71768                                                                                                                                                                                                                                                                                                                                                                                                                                                                           Sometimes, a President has to stand up and say no — so that our families can have a better life. I'm not running for President to go along and get along at any price. The Presidency is really not just a popularity contest. If you want someone who smiles and looks the other way while special interests have their way, then I'm not your guy.   \n",
       "71769                                                                                                                                                                                                                                                                                                                                                                                                                                                                           Sometimes, a President has to stand up and say no — so that our families can have a better life. I'm not running for President to go along and get along at any price. The Presidency is really not just a popularity contest. If you want someone who smiles and looks the other way while special interests have their way, then I'm not your guy.   \n",
       "\n",
       "       label  \n",
       "2383     0.0  \n",
       "2384     0.0  \n",
       "9649     0.0  \n",
       "9650     0.0  \n",
       "11841    0.0  \n",
       "...      ...  \n",
       "67583    0.0  \n",
       "70593    0.0  \n",
       "70594    0.0  \n",
       "71768    0.0  \n",
       "71769    0.0  \n",
       "\n",
       "[65 rows x 4 columns]"
      ]
     },
     "execution_count": 255,
     "metadata": {},
     "output_type": "execute_result"
    }
   ],
   "source": [
    "duplicate = dat[dat.duplicated(['Speech_id', 'par_id'], keep = False)] \n",
    "duplicate[['Speech_id', 'par_id', 'text', 'label']]"
   ]
  },
  {
   "cell_type": "code",
   "execution_count": 5,
   "metadata": {},
   "outputs": [
    {
     "data": {
      "text/plain": [
       "'/Users/yuchenluo/Desktop/Measure_RadicalDiscourse/codes'"
      ]
     },
     "execution_count": 5,
     "metadata": {},
     "output_type": "execute_result"
    }
   ],
   "source": [
    "os.getcwd()"
   ]
  },
  {
   "cell_type": "code",
   "execution_count": null,
   "metadata": {},
   "outputs": [],
   "source": []
  }
 ],
 "metadata": {
  "kernelspec": {
   "display_name": "Python 3",
   "language": "python",
   "name": "python3"
  },
  "language_info": {
   "codemirror_mode": {
    "name": "ipython",
    "version": 3
   },
   "file_extension": ".py",
   "mimetype": "text/x-python",
   "name": "python",
   "nbconvert_exporter": "python",
   "pygments_lexer": "ipython3",
   "version": "3.7.6"
  }
 },
 "nbformat": 4,
 "nbformat_minor": 4
}
