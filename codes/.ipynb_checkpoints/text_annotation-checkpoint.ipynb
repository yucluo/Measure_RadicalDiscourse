{
 "cells": [
  {
   "cell_type": "markdown",
   "metadata": {},
   "source": []
  },
  {
   "cell_type": "code",
   "execution_count": 57,
   "metadata": {},
   "outputs": [],
   "source": [
    "import pandas as pd\n",
    "import numpy as np\n",
    "import re\n",
    "ucsb = pd.read_csv('paragraphs.csv')\n",
    "annenberg = pd.read_csv('paragraphs_annenberg.csv',skipinitialspace=True)\n",
    "\n",
    "# remove \\n and \\t in annenberg data \n",
    "annenberg['text'] = annenberg['text'].replace(r'\\n',' ', regex=True) \n",
    "annenberg['text'] = annenberg['text'].replace(r'\\t',' ', regex=True) "
   ]
  },
  {
   "cell_type": "code",
   "execution_count": 62,
   "metadata": {},
   "outputs": [
    {
     "name": "stderr",
     "output_type": "stream",
     "text": [
      "/opt/anaconda3/lib/python3.7/site-packages/pandas/core/frame.py:4133: SettingWithCopyWarning: \n",
      "A value is trying to be set on a copy of a slice from a DataFrame\n",
      "\n",
      "See the caveats in the documentation: https://pandas.pydata.org/pandas-docs/stable/user_guide/indexing.html#returning-a-view-versus-a-copy\n",
      "  errors=errors,\n"
     ]
    },
    {
     "data": {
      "text/html": [
       "<div>\n",
       "<style scoped>\n",
       "    .dataframe tbody tr th:only-of-type {\n",
       "        vertical-align: middle;\n",
       "    }\n",
       "\n",
       "    .dataframe tbody tr th {\n",
       "        vertical-align: top;\n",
       "    }\n",
       "\n",
       "    .dataframe thead th {\n",
       "        text-align: right;\n",
       "    }\n",
       "</style>\n",
       "<table border=\"1\" class=\"dataframe\">\n",
       "  <thead>\n",
       "    <tr style=\"text-align: right;\">\n",
       "      <th></th>\n",
       "      <th>Speech_id</th>\n",
       "      <th>text</th>\n",
       "      <th>party</th>\n",
       "      <th>term</th>\n",
       "      <th>comp</th>\n",
       "    </tr>\n",
       "  </thead>\n",
       "  <tbody>\n",
       "    <tr>\n",
       "      <th>0</th>\n",
       "      <td>2008-09-29-remarks-westminster-colorado</td>\n",
       "      <td>We meet here at a time of great uncertainty fo...</td>\n",
       "      <td>dem</td>\n",
       "      <td>2008</td>\n",
       "      <td>False</td>\n",
       "    </tr>\n",
       "    <tr>\n",
       "      <th>1</th>\n",
       "      <td>2008-09-29-remarks-westminster-colorado</td>\n",
       "      <td>We have been left with no good options. And to...</td>\n",
       "      <td>dem</td>\n",
       "      <td>2008</td>\n",
       "      <td>True</td>\n",
       "    </tr>\n",
       "    <tr>\n",
       "      <th>2</th>\n",
       "      <td>2008-09-29-remarks-westminster-colorado</td>\n",
       "      <td>And so I laid out a few a conditions for Washi...</td>\n",
       "      <td>dem</td>\n",
       "      <td>2008</td>\n",
       "      <td>True</td>\n",
       "    </tr>\n",
       "    <tr>\n",
       "      <th>3</th>\n",
       "      <td>2008-09-29-remarks-westminster-colorado</td>\n",
       "      <td>I said that we cannot and will not simply bail...</td>\n",
       "      <td>dem</td>\n",
       "      <td>2008</td>\n",
       "      <td>True</td>\n",
       "    </tr>\n",
       "    <tr>\n",
       "      <th>4</th>\n",
       "      <td>2008-09-29-remarks-westminster-colorado</td>\n",
       "      <td>Thanks to the hard work of Democrats and Repub...</td>\n",
       "      <td>dem</td>\n",
       "      <td>2008</td>\n",
       "      <td>True</td>\n",
       "    </tr>\n",
       "    <tr>\n",
       "      <th>...</th>\n",
       "      <td>...</td>\n",
       "      <td>...</td>\n",
       "      <td>...</td>\n",
       "      <td>...</td>\n",
       "      <td>...</td>\n",
       "    </tr>\n",
       "    <tr>\n",
       "      <th>21173</th>\n",
       "      <td>2000-08-17-national-convention-los</td>\n",
       "      <td>I know my own imperfections. For example, I kn...</td>\n",
       "      <td>dem</td>\n",
       "      <td>2000</td>\n",
       "      <td>False</td>\n",
       "    </tr>\n",
       "    <tr>\n",
       "      <th>21174</th>\n",
       "      <td>2000-08-17-national-convention-los</td>\n",
       "      <td>But the presidency... Audience. No.</td>\n",
       "      <td>dem</td>\n",
       "      <td>2000</td>\n",
       "      <td>True</td>\n",
       "    </tr>\n",
       "    <tr>\n",
       "      <th>21175</th>\n",
       "      <td>2000-08-17-national-convention-los</td>\n",
       "      <td>Vice President Gore. But the presidency is mor...</td>\n",
       "      <td>dem</td>\n",
       "      <td>2000</td>\n",
       "      <td>True</td>\n",
       "    </tr>\n",
       "    <tr>\n",
       "      <th>21176</th>\n",
       "      <td>2000-08-17-national-convention-los</td>\n",
       "      <td>There are big choices ahead and our whole futu...</td>\n",
       "      <td>dem</td>\n",
       "      <td>2000</td>\n",
       "      <td>True</td>\n",
       "    </tr>\n",
       "    <tr>\n",
       "      <th>21177</th>\n",
       "      <td>2000-08-17-national-convention-los</td>\n",
       "      <td>If we allow ourselves to believe without reser...</td>\n",
       "      <td>dem</td>\n",
       "      <td>2000</td>\n",
       "      <td>True</td>\n",
       "    </tr>\n",
       "  </tbody>\n",
       "</table>\n",
       "<p>21178 rows × 5 columns</p>\n",
       "</div>"
      ],
      "text/plain": [
       "                                     Speech_id  \\\n",
       "0      2008-09-29-remarks-westminster-colorado   \n",
       "1      2008-09-29-remarks-westminster-colorado   \n",
       "2      2008-09-29-remarks-westminster-colorado   \n",
       "3      2008-09-29-remarks-westminster-colorado   \n",
       "4      2008-09-29-remarks-westminster-colorado   \n",
       "...                                        ...   \n",
       "21173       2000-08-17-national-convention-los   \n",
       "21174       2000-08-17-national-convention-los   \n",
       "21175       2000-08-17-national-convention-los   \n",
       "21176       2000-08-17-national-convention-los   \n",
       "21177       2000-08-17-national-convention-los   \n",
       "\n",
       "                                                    text party  term   comp  \n",
       "0      We meet here at a time of great uncertainty fo...   dem  2008  False  \n",
       "1      We have been left with no good options. And to...   dem  2008   True  \n",
       "2      And so I laid out a few a conditions for Washi...   dem  2008   True  \n",
       "3      I said that we cannot and will not simply bail...   dem  2008   True  \n",
       "4      Thanks to the hard work of Democrats and Repub...   dem  2008   True  \n",
       "...                                                  ...   ...   ...    ...  \n",
       "21173  I know my own imperfections. For example, I kn...   dem  2000  False  \n",
       "21174                But the presidency... Audience. No.   dem  2000   True  \n",
       "21175  Vice President Gore. But the presidency is mor...   dem  2000   True  \n",
       "21176  There are big choices ahead and our whole futu...   dem  2000   True  \n",
       "21177  If we allow ourselves to believe without reser...   dem  2000   True  \n",
       "\n",
       "[21178 rows x 5 columns]"
      ]
     },
     "execution_count": 62,
     "metadata": {},
     "output_type": "execute_result"
    }
   ],
   "source": [
    "# create a party variable for ucsb data to match the annenberg data\n",
    "dems = ['obama', 'gore-jr', 'clinton','kerry']\n",
    "ucsb['party'] = ['dem' if x in dems else 'rep' for x in ucsb['candidate']] \n",
    "\n",
    "# match columns\n",
    "ucsb_matched = ucsb[['title', 'text', 'party', 'term', 'comp']]\n",
    "ucsb_matched.rename(columns = {'title':'Speech_id'}, inplace = True) \n",
    "\n",
    "ucsb_matched"
   ]
  },
  {
   "cell_type": "code",
   "execution_count": 64,
   "metadata": {},
   "outputs": [],
   "source": [
    "all_data = annenberg.append(ucsb_matched)"
   ]
  },
  {
   "cell_type": "markdown",
   "metadata": {},
   "source": [
    "# Sample the data"
   ]
  },
  {
   "cell_type": "code",
   "execution_count": 70,
   "metadata": {},
   "outputs": [],
   "source": [
    "sample = all_data.sample(frac = 0.05)"
   ]
  },
  {
   "cell_type": "code",
   "execution_count": 67,
   "metadata": {},
   "outputs": [],
   "source": [
    "from tortus import Tortus\n",
    "tortus = Tortus(all_data, \"text\", num_records=10, random=False, labels=['Populist', 'Not populist'])"
   ]
  },
  {
   "cell_type": "code",
   "execution_count": 68,
   "metadata": {},
   "outputs": [
    {
     "data": {
      "application/vnd.jupyter.widget-view+json": {
       "model_id": "d21181ff061f457d8aaa6aca12cc71e1",
       "version_major": 2,
       "version_minor": 0
      },
      "text/plain": [
       "HBox(children=(Image(value=b'\\x89PNG\\r\\n\\x1a\\n\\x00\\x00\\x00\\rIHDR\\x00\\x00#0\\x00\\x00\\x06\\xc4\\x08\\x06\\x00\\x00\\x00…"
      ]
     },
     "metadata": {},
     "output_type": "display_data"
    },
    {
     "data": {
      "application/vnd.jupyter.widget-view+json": {
       "model_id": "4a546280094049ba81c6233e39efb1fb",
       "version_major": 2,
       "version_minor": 0
      },
      "text/plain": [
       "HTML(value='Click on the label corresponding with the text below. Each selection requires                 conf…"
      ]
     },
     "metadata": {},
     "output_type": "display_data"
    },
    {
     "data": {
      "application/vnd.jupyter.widget-view+json": {
       "model_id": "0c2b0bbc1e8f4faaaf05c670629f1e47",
       "version_major": 2,
       "version_minor": 0
      },
      "text/plain": [
       "HTML(value=\"<h4>  When we start talking about the economy, it's best that we get right to the point. Jimmy Car…"
      ]
     },
     "metadata": {},
     "output_type": "display_data"
    },
    {
     "data": {
      "application/vnd.jupyter.widget-view+json": {
       "model_id": "1a76603b6e0c44888281a6366a5568e7",
       "version_major": 2,
       "version_minor": 0
      },
      "text/plain": [
       "GridBox(children=(VBox(children=(Box(children=(Button(description='Positve', layout=Layout(border='solid', fle…"
      ]
     },
     "metadata": {},
     "output_type": "display_data"
    },
    {
     "data": {
      "application/vnd.jupyter.widget-view+json": {
       "model_id": "570ada4fb341466c9f4d1b34b357cf7d",
       "version_major": 2,
       "version_minor": 0
      },
      "text/plain": [
       "Output()"
      ]
     },
     "metadata": {},
     "output_type": "display_data"
    }
   ],
   "source": [
    "tortus.annotate()"
   ]
  },
  {
   "cell_type": "code",
   "execution_count": null,
   "metadata": {},
   "outputs": [],
   "source": []
  },
  {
   "cell_type": "code",
   "execution_count": null,
   "metadata": {},
   "outputs": [],
   "source": [
    "\n"
   ]
  },
  {
   "cell_type": "code",
   "execution_count": null,
   "metadata": {},
   "outputs": [],
   "source": []
  }
 ],
 "metadata": {
  "kernelspec": {
   "display_name": "Python 3",
   "language": "python",
   "name": "python3"
  },
  "language_info": {
   "codemirror_mode": {
    "name": "ipython",
    "version": 3
   },
   "file_extension": ".py",
   "mimetype": "text/x-python",
   "name": "python",
   "nbconvert_exporter": "python",
   "pygments_lexer": "ipython3",
   "version": "3.7.6"
  }
 },
 "nbformat": 4,
 "nbformat_minor": 4
}
