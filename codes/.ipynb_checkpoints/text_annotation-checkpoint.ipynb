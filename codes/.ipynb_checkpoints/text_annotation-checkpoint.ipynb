{
 "cells": [
  {
   "cell_type": "markdown",
   "metadata": {},
   "source": [
    "# Install tortus "
   ]
  },
  {
   "cell_type": "code",
   "execution_count": null,
   "metadata": {},
   "outputs": [],
   "source": [
    "# install in the terminal them when using for the first time\n",
    "\n",
    "# $ pip install tortus\n",
    "# $ jupyter nbextension enable --py widgetsnbextension"
   ]
  },
  {
   "cell_type": "markdown",
   "metadata": {},
   "source": [
    "# Import Data"
   ]
  },
  {
   "cell_type": "code",
   "execution_count": 3,
   "metadata": {},
   "outputs": [],
   "source": [
    "import pandas as pd\n",
    "\n",
    "# make sure the csv file is in the same directory \n",
    "train = pd.read_csv('bart_sample.csv',skipinitialspace=True)"
   ]
  },
  {
   "cell_type": "code",
   "execution_count": 12,
   "metadata": {},
   "outputs": [],
   "source": [
    "# set parameter, annotate 50 at a time\n",
    "from tortus import Tortus\n",
    "tortus = Tortus(train, \"text\", num_records=50, random=False, labels=['Populist', 'Not populist'])"
   ]
  },
  {
   "cell_type": "markdown",
   "metadata": {},
   "source": [
    "# Start annotating "
   ]
  },
  {
   "cell_type": "code",
   "execution_count": 13,
   "metadata": {},
   "outputs": [
    {
     "data": {
      "text/html": [
       "<div>\n",
       "<style scoped>\n",
       "    .dataframe tbody tr th:only-of-type {\n",
       "        vertical-align: middle;\n",
       "    }\n",
       "\n",
       "    .dataframe tbody tr th {\n",
       "        vertical-align: top;\n",
       "    }\n",
       "\n",
       "    .dataframe thead th {\n",
       "        text-align: right;\n",
       "    }\n",
       "</style>\n",
       "<table border=\"1\" class=\"dataframe\">\n",
       "  <thead>\n",
       "    <tr style=\"text-align: right;\">\n",
       "      <th></th>\n",
       "      <th>Unnamed: 0</th>\n",
       "      <th>Speech_id</th>\n",
       "      <th>text</th>\n",
       "      <th>party</th>\n",
       "      <th>term</th>\n",
       "      <th>comp</th>\n",
       "    </tr>\n",
       "  </thead>\n",
       "  <tbody>\n",
       "    <tr>\n",
       "      <th>0</th>\n",
       "      <td>11881</td>\n",
       "      <td>1276</td>\n",
       "      <td>I despise war.  I have seen too much of it.  S...</td>\n",
       "      <td>rep</td>\n",
       "      <td>1952</td>\n",
       "      <td>False</td>\n",
       "    </tr>\n",
       "    <tr>\n",
       "      <th>1</th>\n",
       "      <td>16814</td>\n",
       "      <td>2988</td>\n",
       "      <td>An America in which the doors of college are t...</td>\n",
       "      <td>dem</td>\n",
       "      <td>1992</td>\n",
       "      <td>False</td>\n",
       "    </tr>\n",
       "    <tr>\n",
       "      <th>2</th>\n",
       "      <td>22745</td>\n",
       "      <td>2574</td>\n",
       "      <td>Only a year and a half ago he backed the elimi...</td>\n",
       "      <td>dem</td>\n",
       "      <td>1980</td>\n",
       "      <td>False</td>\n",
       "    </tr>\n",
       "    <tr>\n",
       "      <th>3</th>\n",
       "      <td>26629</td>\n",
       "      <td>1683</td>\n",
       "      <td>Congressman Walter, who has been my friend in ...</td>\n",
       "      <td>dem</td>\n",
       "      <td>1960</td>\n",
       "      <td>False</td>\n",
       "    </tr>\n",
       "    <tr>\n",
       "      <th>4</th>\n",
       "      <td>30659</td>\n",
       "      <td>2029</td>\n",
       "      <td>The same thing is true for Bert Porter over he...</td>\n",
       "      <td>dem</td>\n",
       "      <td>1968</td>\n",
       "      <td>False</td>\n",
       "    </tr>\n",
       "    <tr>\n",
       "      <th>...</th>\n",
       "      <td>...</td>\n",
       "      <td>...</td>\n",
       "      <td>...</td>\n",
       "      <td>...</td>\n",
       "      <td>...</td>\n",
       "      <td>...</td>\n",
       "    </tr>\n",
       "    <tr>\n",
       "      <th>495</th>\n",
       "      <td>18266</td>\n",
       "      <td>974</td>\n",
       "      <td>But to say this is not to solve the problem of...</td>\n",
       "      <td>dem</td>\n",
       "      <td>1952</td>\n",
       "      <td>False</td>\n",
       "    </tr>\n",
       "    <tr>\n",
       "      <th>496</th>\n",
       "      <td>32129</td>\n",
       "      <td>2106</td>\n",
       "      <td>Now, listen what else goes on.  I come here to...</td>\n",
       "      <td>dem</td>\n",
       "      <td>1968</td>\n",
       "      <td>False</td>\n",
       "    </tr>\n",
       "    <tr>\n",
       "      <th>497</th>\n",
       "      <td>29866</td>\n",
       "      <td>1051</td>\n",
       "      <td>If my father were alive, he would tell me it i...</td>\n",
       "      <td>dem</td>\n",
       "      <td>1952</td>\n",
       "      <td>False</td>\n",
       "    </tr>\n",
       "    <tr>\n",
       "      <th>498</th>\n",
       "      <td>10786</td>\n",
       "      <td>2385</td>\n",
       "      <td>2385 I will enact economic policies that will ...</td>\n",
       "      <td>dem</td>\n",
       "      <td>1976</td>\n",
       "      <td>True</td>\n",
       "    </tr>\n",
       "    <tr>\n",
       "      <th>499</th>\n",
       "      <td>18978</td>\n",
       "      <td>2016-11-02-fairgrounds-orlando-florida</td>\n",
       "      <td>From the change you've been waiting for your e...</td>\n",
       "      <td>rep</td>\n",
       "      <td>2016</td>\n",
       "      <td>True</td>\n",
       "    </tr>\n",
       "  </tbody>\n",
       "</table>\n",
       "<p>500 rows × 6 columns</p>\n",
       "</div>"
      ],
      "text/plain": [
       "     Unnamed: 0                               Speech_id  \\\n",
       "0         11881                                    1276   \n",
       "1         16814                                    2988   \n",
       "2         22745                                    2574   \n",
       "3         26629                                    1683   \n",
       "4         30659                                    2029   \n",
       "..          ...                                     ...   \n",
       "495       18266                                     974   \n",
       "496       32129                                    2106   \n",
       "497       29866                                    1051   \n",
       "498       10786                                    2385   \n",
       "499       18978  2016-11-02-fairgrounds-orlando-florida   \n",
       "\n",
       "                                                  text party  term   comp  \n",
       "0    I despise war.  I have seen too much of it.  S...   rep  1952  False  \n",
       "1    An America in which the doors of college are t...   dem  1992  False  \n",
       "2    Only a year and a half ago he backed the elimi...   dem  1980  False  \n",
       "3    Congressman Walter, who has been my friend in ...   dem  1960  False  \n",
       "4    The same thing is true for Bert Porter over he...   dem  1968  False  \n",
       "..                                                 ...   ...   ...    ...  \n",
       "495  But to say this is not to solve the problem of...   dem  1952  False  \n",
       "496  Now, listen what else goes on.  I come here to...   dem  1968  False  \n",
       "497  If my father were alive, he would tell me it i...   dem  1952  False  \n",
       "498  2385 I will enact economic policies that will ...   dem  1976   True  \n",
       "499  From the change you've been waiting for your e...   rep  2016   True  \n",
       "\n",
       "[500 rows x 6 columns]"
      ]
     },
     "execution_count": 13,
     "metadata": {},
     "output_type": "execute_result"
    }
   ],
   "source": [
    "tortus.annotate()"
   ]
  },
  {
   "cell_type": "markdown",
   "metadata": {},
   "source": [
    "# Store results"
   ]
  },
  {
   "cell_type": "code",
   "execution_count": null,
   "metadata": {},
   "outputs": [],
   "source": [
    "# After annotations are complete, store to a variable where they can later be accessed for analysis.\n",
    "annotations = tortus.annotations"
   ]
  },
  {
   "cell_type": "code",
   "execution_count": 10,
   "metadata": {},
   "outputs": [
    {
     "name": "stdout",
     "output_type": "stream",
     "text": [
      "500\n",
      "500\n"
     ]
    }
   ],
   "source": [
    "# If require future annotations, pass this dataframe as an argument in a subsequent instance of tortus.\n",
    "tortus = Tortus(train, \"text\", num_records=50, random=False, annotations=annotations, labels=['Populist', 'Not populist'])\n",
    "\n"
   ]
  }
 ],
 "metadata": {
  "kernelspec": {
   "display_name": "Python 3",
   "language": "python",
   "name": "python3"
  },
  "language_info": {
   "codemirror_mode": {
    "name": "ipython",
    "version": 3
   },
   "file_extension": ".py",
   "mimetype": "text/x-python",
   "name": "python",
   "nbconvert_exporter": "python",
   "pygments_lexer": "ipython3",
   "version": "3.7.6"
  }
 },
 "nbformat": 4,
 "nbformat_minor": 4
}
