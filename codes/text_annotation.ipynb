{
 "cells": [
  {
   "cell_type": "markdown",
   "metadata": {},
   "source": []
  },
  {
   "cell_type": "code",
   "execution_count": 57,
   "metadata": {},
   "outputs": [],
   "source": [
    "import pandas as pd\n",
    "import numpy as np\n",
    "import re\n",
    "ucsb = pd.read_csv('paragraphs.csv')\n",
    "annenberg = pd.read_csv('paragraphs_annenberg.csv',skipinitialspace=True)\n",
    "\n",
    "# remove \\n and \\t in annenberg data \n",
    "annenberg['text'] = annenberg['text'].replace(r'\\n',' ', regex=True) \n",
    "annenberg['text'] = annenberg['text'].replace(r'\\t',' ', regex=True) "
   ]
  },
  {
   "cell_type": "code",
   "execution_count": 62,
   "metadata": {},
   "outputs": [
    {
     "name": "stderr",
     "output_type": "stream",
     "text": [
      "/opt/anaconda3/lib/python3.7/site-packages/pandas/core/frame.py:4133: SettingWithCopyWarning: \n",
      "A value is trying to be set on a copy of a slice from a DataFrame\n",
      "\n",
      "See the caveats in the documentation: https://pandas.pydata.org/pandas-docs/stable/user_guide/indexing.html#returning-a-view-versus-a-copy\n",
      "  errors=errors,\n"
     ]
    },
    {
     "data": {
      "text/html": [
       "<div>\n",
       "<style scoped>\n",
       "    .dataframe tbody tr th:only-of-type {\n",
       "        vertical-align: middle;\n",
       "    }\n",
       "\n",
       "    .dataframe tbody tr th {\n",
       "        vertical-align: top;\n",
       "    }\n",
       "\n",
       "    .dataframe thead th {\n",
       "        text-align: right;\n",
       "    }\n",
       "</style>\n",
       "<table border=\"1\" class=\"dataframe\">\n",
       "  <thead>\n",
       "    <tr style=\"text-align: right;\">\n",
       "      <th></th>\n",
       "      <th>Speech_id</th>\n",
       "      <th>text</th>\n",
       "      <th>party</th>\n",
       "      <th>term</th>\n",
       "      <th>comp</th>\n",
       "    </tr>\n",
       "  </thead>\n",
       "  <tbody>\n",
       "    <tr>\n",
       "      <th>0</th>\n",
       "      <td>2008-09-29-remarks-westminster-colorado</td>\n",
       "      <td>We meet here at a time of great uncertainty fo...</td>\n",
       "      <td>dem</td>\n",
       "      <td>2008</td>\n",
       "      <td>False</td>\n",
       "    </tr>\n",
       "    <tr>\n",
       "      <th>1</th>\n",
       "      <td>2008-09-29-remarks-westminster-colorado</td>\n",
       "      <td>We have been left with no good options. And to...</td>\n",
       "      <td>dem</td>\n",
       "      <td>2008</td>\n",
       "      <td>True</td>\n",
       "    </tr>\n",
       "    <tr>\n",
       "      <th>2</th>\n",
       "      <td>2008-09-29-remarks-westminster-colorado</td>\n",
       "      <td>And so I laid out a few a conditions for Washi...</td>\n",
       "      <td>dem</td>\n",
       "      <td>2008</td>\n",
       "      <td>True</td>\n",
       "    </tr>\n",
       "    <tr>\n",
       "      <th>3</th>\n",
       "      <td>2008-09-29-remarks-westminster-colorado</td>\n",
       "      <td>I said that we cannot and will not simply bail...</td>\n",
       "      <td>dem</td>\n",
       "      <td>2008</td>\n",
       "      <td>True</td>\n",
       "    </tr>\n",
       "    <tr>\n",
       "      <th>4</th>\n",
       "      <td>2008-09-29-remarks-westminster-colorado</td>\n",
       "      <td>Thanks to the hard work of Democrats and Repub...</td>\n",
       "      <td>dem</td>\n",
       "      <td>2008</td>\n",
       "      <td>True</td>\n",
       "    </tr>\n",
       "    <tr>\n",
       "      <th>...</th>\n",
       "      <td>...</td>\n",
       "      <td>...</td>\n",
       "      <td>...</td>\n",
       "      <td>...</td>\n",
       "      <td>...</td>\n",
       "    </tr>\n",
       "    <tr>\n",
       "      <th>21173</th>\n",
       "      <td>2000-08-17-national-convention-los</td>\n",
       "      <td>I know my own imperfections. For example, I kn...</td>\n",
       "      <td>dem</td>\n",
       "      <td>2000</td>\n",
       "      <td>False</td>\n",
       "    </tr>\n",
       "    <tr>\n",
       "      <th>21174</th>\n",
       "      <td>2000-08-17-national-convention-los</td>\n",
       "      <td>But the presidency... Audience. No.</td>\n",
       "      <td>dem</td>\n",
       "      <td>2000</td>\n",
       "      <td>True</td>\n",
       "    </tr>\n",
       "    <tr>\n",
       "      <th>21175</th>\n",
       "      <td>2000-08-17-national-convention-los</td>\n",
       "      <td>Vice President Gore. But the presidency is mor...</td>\n",
       "      <td>dem</td>\n",
       "      <td>2000</td>\n",
       "      <td>True</td>\n",
       "    </tr>\n",
       "    <tr>\n",
       "      <th>21176</th>\n",
       "      <td>2000-08-17-national-convention-los</td>\n",
       "      <td>There are big choices ahead and our whole futu...</td>\n",
       "      <td>dem</td>\n",
       "      <td>2000</td>\n",
       "      <td>True</td>\n",
       "    </tr>\n",
       "    <tr>\n",
       "      <th>21177</th>\n",
       "      <td>2000-08-17-national-convention-los</td>\n",
       "      <td>If we allow ourselves to believe without reser...</td>\n",
       "      <td>dem</td>\n",
       "      <td>2000</td>\n",
       "      <td>True</td>\n",
       "    </tr>\n",
       "  </tbody>\n",
       "</table>\n",
       "<p>21178 rows × 5 columns</p>\n",
       "</div>"
      ],
      "text/plain": [
       "                                     Speech_id  \\\n",
       "0      2008-09-29-remarks-westminster-colorado   \n",
       "1      2008-09-29-remarks-westminster-colorado   \n",
       "2      2008-09-29-remarks-westminster-colorado   \n",
       "3      2008-09-29-remarks-westminster-colorado   \n",
       "4      2008-09-29-remarks-westminster-colorado   \n",
       "...                                        ...   \n",
       "21173       2000-08-17-national-convention-los   \n",
       "21174       2000-08-17-national-convention-los   \n",
       "21175       2000-08-17-national-convention-los   \n",
       "21176       2000-08-17-national-convention-los   \n",
       "21177       2000-08-17-national-convention-los   \n",
       "\n",
       "                                                    text party  term   comp  \n",
       "0      We meet here at a time of great uncertainty fo...   dem  2008  False  \n",
       "1      We have been left with no good options. And to...   dem  2008   True  \n",
       "2      And so I laid out a few a conditions for Washi...   dem  2008   True  \n",
       "3      I said that we cannot and will not simply bail...   dem  2008   True  \n",
       "4      Thanks to the hard work of Democrats and Repub...   dem  2008   True  \n",
       "...                                                  ...   ...   ...    ...  \n",
       "21173  I know my own imperfections. For example, I kn...   dem  2000  False  \n",
       "21174                But the presidency... Audience. No.   dem  2000   True  \n",
       "21175  Vice President Gore. But the presidency is mor...   dem  2000   True  \n",
       "21176  There are big choices ahead and our whole futu...   dem  2000   True  \n",
       "21177  If we allow ourselves to believe without reser...   dem  2000   True  \n",
       "\n",
       "[21178 rows x 5 columns]"
      ]
     },
     "execution_count": 62,
     "metadata": {},
     "output_type": "execute_result"
    }
   ],
   "source": [
    "# create a party variable for ucsb data to match the annenberg data\n",
    "dems = ['obama', 'gore-jr', 'clinton','kerry']\n",
    "ucsb['party'] = ['dem' if x in dems else 'rep' for x in ucsb['candidate']] \n",
    "\n",
    "# match columns\n",
    "ucsb_matched = ucsb[['title', 'text', 'party', 'term', 'comp']]\n",
    "ucsb_matched.rename(columns = {'title':'Speech_id'}, inplace = True) \n",
    "\n",
    "ucsb_matched"
   ]
  },
  {
   "cell_type": "code",
   "execution_count": 64,
   "metadata": {},
   "outputs": [],
   "source": [
    "all_data = annenberg.append(ucsb_matched)"
   ]
  },
  {
   "cell_type": "markdown",
   "metadata": {},
   "source": [
    "# Sample the data"
   ]
  },
  {
   "cell_type": "code",
   "execution_count": 70,
   "metadata": {},
   "outputs": [],
   "source": [
    "sample = all_data.sample(frac = 0.05)"
   ]
  },
  {
   "cell_type": "code",
   "execution_count": 72,
   "metadata": {},
   "outputs": [],
   "source": [
    "from tortus import Tortus\n",
    "tortus = Tortus(sample, \"text\", num_records=10, random=False, labels=['Populist', 'Not populist'])"
   ]
  },
  {
   "cell_type": "code",
   "execution_count": 73,
   "metadata": {},
   "outputs": [
    {
     "data": {
      "application/vnd.jupyter.widget-view+json": {
       "model_id": "be5324b913314020bc564323b9d9f752",
       "version_major": 2,
       "version_minor": 0
      },
      "text/plain": [
       "HBox(children=(Image(value=b'\\x89PNG\\r\\n\\x1a\\n\\x00\\x00\\x00\\rIHDR\\x00\\x00#0\\x00\\x00\\x06\\xc4\\x08\\x06\\x00\\x00\\x00…"
      ]
     },
     "metadata": {},
     "output_type": "display_data"
    },
    {
     "data": {
      "application/vnd.jupyter.widget-view+json": {
       "model_id": "0ec9dfbf1990469ebe2425cfeb0edd5d",
       "version_major": 2,
       "version_minor": 0
      },
      "text/plain": [
       "HTML(value='Click on the label corresponding with the text below. Each selection requires                 conf…"
      ]
     },
     "metadata": {},
     "output_type": "display_data"
    },
    {
     "data": {
      "application/vnd.jupyter.widget-view+json": {
       "model_id": "71ca5043279d4247a647b79acaef8379",
       "version_major": 2,
       "version_minor": 0
      },
      "text/plain": [
       "HTML(value=\"<h4>But I am running for President because we simply cannot afford four more years of an economic …"
      ]
     },
     "metadata": {},
     "output_type": "display_data"
    },
    {
     "data": {
      "application/vnd.jupyter.widget-view+json": {
       "model_id": "73fa239d2bb14f1aa18a8e0e6ebd8ec2",
       "version_major": 2,
       "version_minor": 0
      },
      "text/plain": [
       "GridBox(children=(VBox(children=(Box(children=(Button(description='Populist', layout=Layout(border='solid', fl…"
      ]
     },
     "metadata": {},
     "output_type": "display_data"
    },
    {
     "data": {
      "application/vnd.jupyter.widget-view+json": {
       "model_id": "719b6903c48441f793d83820ba44dfc2",
       "version_major": 2,
       "version_minor": 0
      },
      "text/plain": [
       "Output()"
      ]
     },
     "metadata": {},
     "output_type": "display_data"
    }
   ],
   "source": [
    "tortus.annotate()"
   ]
  },
  {
   "cell_type": "code",
   "execution_count": 71,
   "metadata": {},
   "outputs": [
    {
     "data": {
      "text/html": [
       "<div>\n",
       "<style scoped>\n",
       "    .dataframe tbody tr th:only-of-type {\n",
       "        vertical-align: middle;\n",
       "    }\n",
       "\n",
       "    .dataframe tbody tr th {\n",
       "        vertical-align: top;\n",
       "    }\n",
       "\n",
       "    .dataframe thead th {\n",
       "        text-align: right;\n",
       "    }\n",
       "</style>\n",
       "<table border=\"1\" class=\"dataframe\">\n",
       "  <thead>\n",
       "    <tr style=\"text-align: right;\">\n",
       "      <th></th>\n",
       "      <th>Speech_id</th>\n",
       "      <th>text</th>\n",
       "      <th>party</th>\n",
       "      <th>term</th>\n",
       "      <th>comp</th>\n",
       "    </tr>\n",
       "  </thead>\n",
       "  <tbody>\n",
       "    <tr>\n",
       "      <th>1068</th>\n",
       "      <td>2008-09-28-remarks-detroit-michigan</td>\n",
       "      <td>But I am running for President because we simp...</td>\n",
       "      <td>dem</td>\n",
       "      <td>2008</td>\n",
       "      <td>True</td>\n",
       "    </tr>\n",
       "    <tr>\n",
       "      <th>34399</th>\n",
       "      <td>3219</td>\n",
       "      <td>3219  The questions I try to ask and answer ev...</td>\n",
       "      <td>dem</td>\n",
       "      <td>1996</td>\n",
       "      <td>True</td>\n",
       "    </tr>\n",
       "    <tr>\n",
       "      <th>7519</th>\n",
       "      <td>2004-09-13-care-muskegon-michigan</td>\n",
       "      <td>Audience members. No-o-o! The President. Okay,...</td>\n",
       "      <td>rep</td>\n",
       "      <td>2004</td>\n",
       "      <td>True</td>\n",
       "    </tr>\n",
       "    <tr>\n",
       "      <th>22369</th>\n",
       "      <td>2762</td>\n",
       "      <td>We must be a community and a family again in ...</td>\n",
       "      <td>dem</td>\n",
       "      <td>1984</td>\n",
       "      <td>True</td>\n",
       "    </tr>\n",
       "    <tr>\n",
       "      <th>11317</th>\n",
       "      <td>2004-09-10-west-virginia-1</td>\n",
       "      <td>So our mission in Afghanistan and Iraq is clea...</td>\n",
       "      <td>rep</td>\n",
       "      <td>2004</td>\n",
       "      <td>False</td>\n",
       "    </tr>\n",
       "    <tr>\n",
       "      <th>...</th>\n",
       "      <td>...</td>\n",
       "      <td>...</td>\n",
       "      <td>...</td>\n",
       "      <td>...</td>\n",
       "      <td>...</td>\n",
       "    </tr>\n",
       "    <tr>\n",
       "      <th>20831</th>\n",
       "      <td>2004-09-20-new-york-university</td>\n",
       "      <td>To win, America must be strong. And America mu...</td>\n",
       "      <td>dem</td>\n",
       "      <td>2004</td>\n",
       "      <td>False</td>\n",
       "    </tr>\n",
       "    <tr>\n",
       "      <th>17077</th>\n",
       "      <td>1264</td>\n",
       "      <td>Then, along with that, our prices go up and u...</td>\n",
       "      <td>rep</td>\n",
       "      <td>1952</td>\n",
       "      <td>False</td>\n",
       "    </tr>\n",
       "    <tr>\n",
       "      <th>21126</th>\n",
       "      <td>2000-08-17-national-convention-los</td>\n",
       "      <td>And so, here tonight, in the name of all the w...</td>\n",
       "      <td>dem</td>\n",
       "      <td>2000</td>\n",
       "      <td>True</td>\n",
       "    </tr>\n",
       "    <tr>\n",
       "      <th>13273</th>\n",
       "      <td>2004-10-06-barre-pennsylvania-0</td>\n",
       "      <td>My opponent says he has a plan for Iraq. Parts...</td>\n",
       "      <td>rep</td>\n",
       "      <td>2004</td>\n",
       "      <td>False</td>\n",
       "    </tr>\n",
       "    <tr>\n",
       "      <th>36399</th>\n",
       "      <td>1974</td>\n",
       "      <td>You sent Dennis Chavez, as a young congressma...</td>\n",
       "      <td>dem</td>\n",
       "      <td>1964</td>\n",
       "      <td>False</td>\n",
       "    </tr>\n",
       "  </tbody>\n",
       "</table>\n",
       "<p>3176 rows × 5 columns</p>\n",
       "</div>"
      ],
      "text/plain": [
       "                                 Speech_id  \\\n",
       "1068   2008-09-28-remarks-detroit-michigan   \n",
       "34399                                 3219   \n",
       "7519     2004-09-13-care-muskegon-michigan   \n",
       "22369                                 2762   \n",
       "11317           2004-09-10-west-virginia-1   \n",
       "...                                    ...   \n",
       "20831       2004-09-20-new-york-university   \n",
       "17077                                 1264   \n",
       "21126   2000-08-17-national-convention-los   \n",
       "13273      2004-10-06-barre-pennsylvania-0   \n",
       "36399                                 1974   \n",
       "\n",
       "                                                    text party  term   comp  \n",
       "1068   But I am running for President because we simp...   dem  2008   True  \n",
       "34399  3219  The questions I try to ask and answer ev...   dem  1996   True  \n",
       "7519   Audience members. No-o-o! The President. Okay,...   rep  2004   True  \n",
       "22369   We must be a community and a family again in ...   dem  1984   True  \n",
       "11317  So our mission in Afghanistan and Iraq is clea...   rep  2004  False  \n",
       "...                                                  ...   ...   ...    ...  \n",
       "20831  To win, America must be strong. And America mu...   dem  2004  False  \n",
       "17077   Then, along with that, our prices go up and u...   rep  1952  False  \n",
       "21126  And so, here tonight, in the name of all the w...   dem  2000   True  \n",
       "13273  My opponent says he has a plan for Iraq. Parts...   rep  2004  False  \n",
       "36399   You sent Dennis Chavez, as a young congressma...   dem  1964  False  \n",
       "\n",
       "[3176 rows x 5 columns]"
      ]
     },
     "execution_count": 71,
     "metadata": {},
     "output_type": "execute_result"
    }
   ],
   "source": [
    "annotations = tortus.annotations"
   ]
  },
  {
   "cell_type": "code",
   "execution_count": null,
   "metadata": {},
   "outputs": [],
   "source": [
    "\n"
   ]
  },
  {
   "cell_type": "code",
   "execution_count": null,
   "metadata": {},
   "outputs": [],
   "source": []
  }
 ],
 "metadata": {
  "kernelspec": {
   "display_name": "Python 3",
   "language": "python",
   "name": "python3"
  },
  "language_info": {
   "codemirror_mode": {
    "name": "ipython",
    "version": 3
   },
   "file_extension": ".py",
   "mimetype": "text/x-python",
   "name": "python",
   "nbconvert_exporter": "python",
   "pygments_lexer": "ipython3",
   "version": "3.7.6"
  }
 },
 "nbformat": 4,
 "nbformat_minor": 4
}
