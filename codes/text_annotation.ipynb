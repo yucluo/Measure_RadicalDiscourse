{
 "cells": [
  {
   "cell_type": "markdown",
   "metadata": {},
   "source": [
    "# Install tortus "
   ]
  },
  {
   "cell_type": "code",
   "execution_count": null,
   "metadata": {},
   "outputs": [],
   "source": [
    "# install in the terminal them when using for the first time\n",
    "\n",
    "# $ pip install tortus\n",
    "# $ jupyter nbextension enable --py widgetsnbextension"
   ]
  },
  {
   "cell_type": "markdown",
   "metadata": {},
   "source": [
    "# Import Data"
   ]
  },
  {
   "cell_type": "code",
   "execution_count": 2,
   "metadata": {},
   "outputs": [],
   "source": [
    "import pandas as pd\n",
    "\n",
    "# make sure the csv file is in the same directory \n",
    "sample = pd.read_csv('2nd_round_bart2.csv',skipinitialspace=True)\n",
    "\n",
    "# drop the first round annotations so we don't overwrite it \n",
    "train = sample.drop('label', axis = 1)\n",
    "\n",
    "# filter non random cases\n",
    "train = train.loc[train['drawn'] == 'randomly']\n",
    "\n",
    "# add a uniq id by combining speech and par id \n",
    "train['uniq_id'] = train['Speech_id'].astype(str)  + '_' + train['par_id'].astype(str) "
   ]
  },
  {
   "cell_type": "code",
   "execution_count": 3,
   "metadata": {},
   "outputs": [
    {
     "data": {
      "application/vnd.jupyter.widget-view+json": {
       "model_id": "362507e431bb4de5ae756b3075b11108",
       "version_major": 2,
       "version_minor": 0
      },
      "text/plain": [
       "Image(value=b'\\x89PNG\\r\\n\\x1a\\n\\x00\\x00\\x00\\rIHDR\\x00\\x00#0\\x00\\x00\\x06\\xc4\\x08\\x06\\x00\\x00\\x00\\xa5\\xaf~d\\x00\\…"
      ]
     },
     "metadata": {},
     "output_type": "display_data"
    },
    {
     "data": {
      "application/vnd.jupyter.widget-view+json": {
       "model_id": "41943da2fbc249aa90c26ace50ffbb7b",
       "version_major": 2,
       "version_minor": 0
      },
      "text/plain": [
       "HTML(value=\"<h2 style='text-align:center'>        easy text annotation in a Jupyter Notebook</h2>\")"
      ]
     },
     "metadata": {},
     "output_type": "display_data"
    }
   ],
   "source": [
    "# set parameter, annotate 50 at a time\n",
    "from tortus import Tortus\n",
    "tortus = Tortus(train, \"text\", num_records=50, random=False, labels=[\"Exclusionary\", \"Inclusive\", \"Neither\"],id_column = \"uniq_id\")"
   ]
  },
  {
   "cell_type": "markdown",
   "metadata": {},
   "source": [
    "# Start annotating "
   ]
  },
  {
   "cell_type": "code",
   "execution_count": 4,
   "metadata": {},
   "outputs": [
    {
     "data": {
      "application/vnd.jupyter.widget-view+json": {
       "model_id": "1dc2be0da7984a1cb673a03f000ad448",
       "version_major": 2,
       "version_minor": 0
      },
      "text/plain": [
       "HBox(children=(Image(value=b'\\x89PNG\\r\\n\\x1a\\n\\x00\\x00\\x00\\rIHDR\\x00\\x00#0\\x00\\x00\\x06\\xc4\\x08\\x06\\x00\\x00\\x00…"
      ]
     },
     "metadata": {},
     "output_type": "display_data"
    },
    {
     "data": {
      "application/vnd.jupyter.widget-view+json": {
       "model_id": "f3a57938c51a42b4afcc0efc0a024c2f",
       "version_major": 2,
       "version_minor": 0
      },
      "text/plain": [
       "Output()"
      ]
     },
     "metadata": {},
     "output_type": "display_data"
    }
   ],
   "source": [
    "tortus.annotate()"
   ]
  },
  {
   "cell_type": "markdown",
   "metadata": {},
   "source": [
    "# Store results"
   ]
  },
  {
   "cell_type": "code",
   "execution_count": 69,
   "metadata": {},
   "outputs": [],
   "source": [
    "# After annotations are complete, store to a variable where they can later be accessed for analysis.\n",
    "annotations = tortus.annotations\n",
    "# this obejct is accumulative \n",
    "\n",
    "# SAVE \n",
    "annotations.to_csv(\"nat_bart2.csv\")"
   ]
  },
  {
   "cell_type": "code",
   "execution_count": 67,
   "metadata": {},
   "outputs": [],
   "source": [
    "# If require future annotations, pass this dataframe as an argument in a subsequent instance of tortus.\n",
    "tortus = Tortus(train, \"text\", num_records=50, random=False, annotations=annotations, labels=[\"Exclusionary\", \"Inclusive\", \"Neither\"], id_column = 'uniq_id')\n",
    "\n",
    "# and then repeat the annotating process\n"
   ]
  },
  {
   "cell_type": "code",
   "execution_count": 68,
   "metadata": {},
   "outputs": [
    {
     "data": {
      "application/vnd.jupyter.widget-view+json": {
       "model_id": "fd2b9c0abfc442fe8d387a41b937731a",
       "version_major": 2,
       "version_minor": 0
      },
      "text/plain": [
       "HBox(children=(Image(value=b'\\x89PNG\\r\\n\\x1a\\n\\x00\\x00\\x00\\rIHDR\\x00\\x00#0\\x00\\x00\\x06\\xc4\\x08\\x06\\x00\\x00\\x00…"
      ]
     },
     "metadata": {},
     "output_type": "display_data"
    },
    {
     "data": {
      "application/vnd.jupyter.widget-view+json": {
       "model_id": "0f176efa39974191a284a31e96743c17",
       "version_major": 2,
       "version_minor": 0
      },
      "text/plain": [
       "Output()"
      ]
     },
     "metadata": {},
     "output_type": "display_data"
    }
   ],
   "source": [
    "tortus.annotate()"
   ]
  },
  {
   "cell_type": "markdown",
   "metadata": {},
   "source": [
    "# merge annotations to original df "
   ]
  },
  {
   "cell_type": "code",
   "execution_count": 224,
   "metadata": {},
   "outputs": [],
   "source": [
    "# after finishing annotations, concatenate with original df \n",
    "# annotations.rename(columns = {'label':'label2'}, inplace= True)\n",
    "\n",
    "\n",
    "merged = pd.concat([train,annotations[['text','label']]], axis=1)\n",
    "pd.set_option(\"display.max_rows\", None, \"display.max_columns\", None)"
   ]
  },
  {
   "cell_type": "markdown",
   "metadata": {},
   "source": [
    "# Write merged annotated data to csv"
   ]
  },
  {
   "cell_type": "code",
   "execution_count": 74,
   "metadata": {},
   "outputs": [],
   "source": [
    "merged.to_csv(\"inc_exc_nat_bart2.csv\")"
   ]
  },
  {
   "cell_type": "code",
   "execution_count": 81,
   "metadata": {},
   "outputs": [
    {
     "name": "stdout",
     "output_type": "stream",
     "text": [
      "486\n"
     ]
    },
    {
     "data": {
      "text/html": [
       "<div>\n",
       "<style scoped>\n",
       "    .dataframe tbody tr th:only-of-type {\n",
       "        vertical-align: middle;\n",
       "    }\n",
       "\n",
       "    .dataframe tbody tr th {\n",
       "        vertical-align: top;\n",
       "    }\n",
       "\n",
       "    .dataframe thead th {\n",
       "        text-align: right;\n",
       "    }\n",
       "</style>\n",
       "<table border=\"1\" class=\"dataframe\">\n",
       "  <thead>\n",
       "    <tr style=\"text-align: right;\">\n",
       "      <th></th>\n",
       "      <th>text</th>\n",
       "      <th>label</th>\n",
       "      <th>label2</th>\n",
       "    </tr>\n",
       "  </thead>\n",
       "  <tbody>\n",
       "    <tr>\n",
       "      <th>2</th>\n",
       "      <td>The only \"\"welfare\"\" in this campaign is John McCain's plan to give another $200 billion in tax cuts to the wealthiest corporations in America - including $4 billion in tax breaks to big oil companies that ran up record profits under George Bush. That's who John McCain is fighting for. But we can't afford four more years like the last eight. George Bush and John McCain are out of ideas, they are out of touch, and if you stand with me in 17 days they will be out of time.</td>\n",
       "      <td>populist</td>\n",
       "      <td>not populist</td>\n",
       "    </tr>\n",
       "    <tr>\n",
       "      <th>10</th>\n",
       "      <td>Their technique has been ingenious and ruthless. They have done on the infighting what they couldn't do in the open. They say they believe in public housing! But they put a declared enemy of public housing in charge of the public housing program.</td>\n",
       "      <td>not populist</td>\n",
       "      <td>populist</td>\n",
       "    </tr>\n",
       "    <tr>\n",
       "      <th>31</th>\n",
       "      <td>We can do it. We can do it. Let me say this. There'll be a lot of talk about change in this election. You already heard Governor Cuomo say of all the choices you have in Michigan, only one has ever balanced a government budget, only one has ever taken on lobbyists and resisted the influence of special interests. Only one has never been a part of the Washington special interest crowd. And only one made a real good choice for vice president, Al Gore of Tennessee.</td>\n",
       "      <td>not populist</td>\n",
       "      <td>populist</td>\n",
       "    </tr>\n",
       "    <tr>\n",
       "      <th>38</th>\n",
       "      <td>Now, let me divert for just a minute to say something that is very much on my mind. I spoke this to a fraternal order in Washington just last Sunday, the B'nai B'rith, and I said these words and I want to share them with you because there are some people in this country today that think that the way you settle things is just by being militant, and then they define the meaning of that term. They pick and choose the laws that they want to obey and that applies to black and white alike.</td>\n",
       "      <td>not populist</td>\n",
       "      <td>populist</td>\n",
       "    </tr>\n",
       "    <tr>\n",
       "      <th>40</th>\n",
       "      <td>Those same Congressional leaders who give Senator Obama his marching orders are now saying that this mess isn't their fault and they aren't going to take any action on this crisis until after the election. Senator Obama's own advisers are saying that crisis will benefit him politically. My friends, that is the kind of me-first, country-second politics that are broken in Washington. My opponent sees an economic crisis as a political opportunity instead of a time to lead. Senator Obama isn't change, he's part of the problem with Washington.</td>\n",
       "      <td>not populist</td>\n",
       "      <td>populist</td>\n",
       "    </tr>\n",
       "    <tr>\n",
       "      <th>55</th>\n",
       "      <td>Very definitely, a man who deliberately courted the most radical extremist elements in his own party and who continues this appeal in his speeches and who will be fully in their debt should he win the presidency--attacks on the courts, vilification of lour law enforcement officials, group against group and race against race. These tactics have stockpiled the ingredients for civil explosion. Now, I mentioned the truth squad. They are here and they are listening to what I have to say. Well, I will tell you something: if they will tell the truth, we will win this election hands down, going away. That is what I can tell you now.</td>\n",
       "      <td>not populist</td>\n",
       "      <td>populist</td>\n",
       "    </tr>\n",
       "    <tr>\n",
       "      <th>58</th>\n",
       "      <td>Now, finally, my friends, the final and the most important thing that is before us is our own country and its future.  Are we going to be a divided nation, conflict and animosity and bitterness and violence?  Are we going to be a nation of people that can live together as friends and neighbors, rather than antagonists and enemies?  We have one candidate in this election who is an outright racist, and appeals on racial prejudice, and he is no friend of labor.  Any laboring man who can find a way to support the former governor of Alabama has little or no regard for the union movement.  He has not been your friend and he has not been good for the working man.  But more importantly, he preaches a doctrine of separatism, a dangerous doctrine.  But at least he does it openly.</td>\n",
       "      <td>not populist</td>\n",
       "      <td>populist</td>\n",
       "    </tr>\n",
       "    <tr>\n",
       "      <th>183</th>\n",
       "      <td>Are my opponent and Congress really in cahoots? Look at one important question: Should we limit the terms of Congress? Governor Clinton says no. Congress says no. And I say yes.</td>\n",
       "      <td>not populist</td>\n",
       "      <td>populist</td>\n",
       "    </tr>\n",
       "    <tr>\n",
       "      <th>195</th>\n",
       "      <td>How can Hillary manage this country when she can't even manage her email server? It's just one disaster after another, one scandal after another, one betrayal after another. To all Americans I say: it is time for new leadership.</td>\n",
       "      <td>not populist</td>\n",
       "      <td>populist</td>\n",
       "    </tr>\n",
       "    <tr>\n",
       "      <th>208</th>\n",
       "      <td>Now, Bill Clinton can walk right through the facts and look you in the eye. He tells you there's 100,000 police on the street, that he created 11 million jobs, that he took 2 million people off welfare, that he's for school choice. He goes on and on and on and on. And somebody ought to have a meter out there to check the accuracy of all these statements.</td>\n",
       "      <td>not populist</td>\n",
       "      <td>populist</td>\n",
       "    </tr>\n",
       "    <tr>\n",
       "      <th>241</th>\n",
       "      <td>That is the kind of men they were. And that is the kind of responsible presidential leadership we must restore. Our present leadership has not only failed that test, it has undermined the personal freedom of Americans and the constitutional framework of our government.</td>\n",
       "      <td>populist</td>\n",
       "      <td>not populist</td>\n",
       "    </tr>\n",
       "    <tr>\n",
       "      <th>268</th>\n",
       "      <td>Ladies and gentlemen, the campaign in which I am now engaged is in conformity with the promises I made to those people.  I think that the administration in Washington has gone too far in damaging, indeed leading toward destruction of the kind of America we have known, loved and believe in.  That administration has not led us intelligently toward peace.  It is spending more than it earns.  Indeed, it earns nothing.  It is spending more than it takes from us in the highest taxes we have ever had, and leaves a deficit in the budget that further cheapens our money.</td>\n",
       "      <td>populist</td>\n",
       "      <td>not populist</td>\n",
       "    </tr>\n",
       "    <tr>\n",
       "      <th>353</th>\n",
       "      <td>This elaborate, criminal cover up included Hillary's deleting and bleaching of 33,000 e-mails. The disappearance of 13 iPhones, some by hammers, two boxes of e-mail evidence gone missing, that was as of last week. Can you imagine they're now missing on top of everything else, two boxes of e-mails? And the destruction of laptops, in a secret deal with the FBI.</td>\n",
       "      <td>not populist</td>\n",
       "      <td>populist</td>\n",
       "    </tr>\n",
       "    <tr>\n",
       "      <th>416</th>\n",
       "      <td>It is time to turn the page on eight years of economic policies that put Wall Street before Main Street but ended up hurting both. We need policies that grow our economy from the bottom-up, so that every American, everywhere, has the chance to get ahead. Not just the person who owns the factory, but the men and women who work on its floor. Because if we've learned anything from this economic crisis, it's that we're all connected; we're all in this together; and we will rise or fall as one nation - as one people.</td>\n",
       "      <td>not populist</td>\n",
       "      <td>populist</td>\n",
       "    </tr>\n",
       "  </tbody>\n",
       "</table>\n",
       "</div>"
      ],
      "text/plain": [
       "                                                                                                                                                                                                                                                                                                                                                                                                                                                                                                                                                                                                                                                                                                                                                                                                               text  \\\n",
       "2                                                                                                                                                                                                                                                                                                                        The only \"\"welfare\"\" in this campaign is John McCain's plan to give another $200 billion in tax cuts to the wealthiest corporations in America - including $4 billion in tax breaks to big oil companies that ran up record profits under George Bush. That's who John McCain is fighting for. But we can't afford four more years like the last eight. George Bush and John McCain are out of ideas, they are out of touch, and if you stand with me in 17 days they will be out of time.   \n",
       "10                                                                                                                                                                                                                                                                                                                                                                                                                                                                                                                                                           Their technique has been ingenious and ruthless. They have done on the infighting what they couldn't do in the open. They say they believe in public housing! But they put a declared enemy of public housing in charge of the public housing program.   \n",
       "31                                                                                                                                                                                                                                                                                                                                We can do it. We can do it. Let me say this. There'll be a lot of talk about change in this election. You already heard Governor Cuomo say of all the choices you have in Michigan, only one has ever balanced a government budget, only one has ever taken on lobbyists and resisted the influence of special interests. Only one has never been a part of the Washington special interest crowd. And only one made a real good choice for vice president, Al Gore of Tennessee.   \n",
       "38                                                                                                                                                                                                                                                                                                         Now, let me divert for just a minute to say something that is very much on my mind. I spoke this to a fraternal order in Washington just last Sunday, the B'nai B'rith, and I said these words and I want to share them with you because there are some people in this country today that think that the way you settle things is just by being militant, and then they define the meaning of that term. They pick and choose the laws that they want to obey and that applies to black and white alike.   \n",
       "40                                                                                                                                                                                                                                                 Those same Congressional leaders who give Senator Obama his marching orders are now saying that this mess isn't their fault and they aren't going to take any action on this crisis until after the election. Senator Obama's own advisers are saying that crisis will benefit him politically. My friends, that is the kind of me-first, country-second politics that are broken in Washington. My opponent sees an economic crisis as a political opportunity instead of a time to lead. Senator Obama isn't change, he's part of the problem with Washington.   \n",
       "55                                                                                                                                                        Very definitely, a man who deliberately courted the most radical extremist elements in his own party and who continues this appeal in his speeches and who will be fully in their debt should he win the presidency--attacks on the courts, vilification of lour law enforcement officials, group against group and race against race. These tactics have stockpiled the ingredients for civil explosion. Now, I mentioned the truth squad. They are here and they are listening to what I have to say. Well, I will tell you something: if they will tell the truth, we will win this election hands down, going away. That is what I can tell you now.    \n",
       "58   Now, finally, my friends, the final and the most important thing that is before us is our own country and its future.  Are we going to be a divided nation, conflict and animosity and bitterness and violence?  Are we going to be a nation of people that can live together as friends and neighbors, rather than antagonists and enemies?  We have one candidate in this election who is an outright racist, and appeals on racial prejudice, and he is no friend of labor.  Any laboring man who can find a way to support the former governor of Alabama has little or no regard for the union movement.  He has not been your friend and he has not been good for the working man.  But more importantly, he preaches a doctrine of separatism, a dangerous doctrine.  But at least he does it openly.     \n",
       "183                                                                                                                                                                                                                                                                                                                                                                                                                                                                                                                                                                                                                               Are my opponent and Congress really in cahoots? Look at one important question: Should we limit the terms of Congress? Governor Clinton says no. Congress says no. And I say yes.   \n",
       "195                                                                                                                                                                                                                                                                                                                                                                                                                                                                                                                                                                            How can Hillary manage this country when she can't even manage her email server? It's just one disaster after another, one scandal after another, one betrayal after another. To all Americans I say: it is time for new leadership.   \n",
       "208                                                                                                                                                                                                                                                                                                                                                                                                                                            Now, Bill Clinton can walk right through the facts and look you in the eye. He tells you there's 100,000 police on the street, that he created 11 million jobs, that he took 2 million people off welfare, that he's for school choice. He goes on and on and on and on. And somebody ought to have a meter out there to check the accuracy of all these statements.   \n",
       "241                                                                                                                                                                                                                                                                                                                                                                                                                                                                                                                                   That is the kind of men they were. And that is the kind of responsible presidential leadership we must restore. Our present leadership has not only failed that test, it has undermined the personal freedom of Americans and the constitutional framework of our government.   \n",
       "268                                                                                                                                                                                                                         Ladies and gentlemen, the campaign in which I am now engaged is in conformity with the promises I made to those people.  I think that the administration in Washington has gone too far in damaging, indeed leading toward destruction of the kind of America we have known, loved and believe in.  That administration has not led us intelligently toward peace.  It is spending more than it earns.  Indeed, it earns nothing.  It is spending more than it takes from us in the highest taxes we have ever had, and leaves a deficit in the budget that further cheapens our money.   \n",
       "353                                                                                                                                                                                                                                                                                                                                                                                                                                       This elaborate, criminal cover up included Hillary's deleting and bleaching of 33,000 e-mails. The disappearance of 13 iPhones, some by hammers, two boxes of e-mail evidence gone missing, that was as of last week. Can you imagine they're now missing on top of everything else, two boxes of e-mails? And the destruction of laptops, in a secret deal with the FBI.   \n",
       "416                                                                                                                                                                                                                                                                           It is time to turn the page on eight years of economic policies that put Wall Street before Main Street but ended up hurting both. We need policies that grow our economy from the bottom-up, so that every American, everywhere, has the chance to get ahead. Not just the person who owns the factory, but the men and women who work on its floor. Because if we've learned anything from this economic crisis, it's that we're all connected; we're all in this together; and we will rise or fall as one nation - as one people.   \n",
       "\n",
       "            label        label2  \n",
       "2        populist  not populist  \n",
       "10   not populist      populist  \n",
       "31   not populist      populist  \n",
       "38   not populist      populist  \n",
       "40   not populist      populist  \n",
       "55   not populist      populist  \n",
       "58   not populist      populist  \n",
       "183  not populist      populist  \n",
       "195  not populist      populist  \n",
       "208  not populist      populist  \n",
       "241      populist  not populist  \n",
       "268      populist  not populist  \n",
       "353  not populist      populist  \n",
       "416  not populist      populist  "
      ]
     },
     "execution_count": 81,
     "metadata": {},
     "output_type": "execute_result"
    }
   ],
   "source": [
    "merged = pd.read_csv(\"merged.csv\")\n",
    "\n",
    "# same rating\n",
    "print(len(merged[merged['label'] == merged['label2']]))\n",
    "\n",
    "pd.options.display.max_colwidth = 2000\n",
    "\n",
    "merged[merged['label'] !=merged['label2']][['text','label', 'label2']]"
   ]
  },
  {
   "cell_type": "code",
   "execution_count": 73,
   "metadata": {},
   "outputs": [
    {
     "data": {
      "text/html": [
       "<div>\n",
       "<style scoped>\n",
       "    .dataframe tbody tr th:only-of-type {\n",
       "        vertical-align: middle;\n",
       "    }\n",
       "\n",
       "    .dataframe tbody tr th {\n",
       "        vertical-align: top;\n",
       "    }\n",
       "\n",
       "    .dataframe thead th {\n",
       "        text-align: right;\n",
       "    }\n",
       "</style>\n",
       "<table border=\"1\" class=\"dataframe\">\n",
       "  <thead>\n",
       "    <tr style=\"text-align: right;\">\n",
       "      <th></th>\n",
       "      <th>Unnamed: 0</th>\n",
       "      <th>Unnamed: 0.1</th>\n",
       "      <th>Speech_id</th>\n",
       "      <th>par_id</th>\n",
       "      <th>text</th>\n",
       "      <th>party</th>\n",
       "      <th>term</th>\n",
       "      <th>comp</th>\n",
       "      <th>drawn</th>\n",
       "      <th>label2</th>\n",
       "      <th>uniq_id</th>\n",
       "      <th>label</th>\n",
       "    </tr>\n",
       "  </thead>\n",
       "  <tbody>\n",
       "    <tr>\n",
       "      <th>0</th>\n",
       "      <td>0</td>\n",
       "      <td>0</td>\n",
       "      <td>2157</td>\n",
       "      <td>31</td>\n",
       "      <td>America's response to the Soviet Union against...</td>\n",
       "      <td>rep</td>\n",
       "      <td>1968</td>\n",
       "      <td>False</td>\n",
       "      <td>randomly</td>\n",
       "      <td>not populist</td>\n",
       "      <td>2157_31</td>\n",
       "      <td>neither</td>\n",
       "    </tr>\n",
       "    <tr>\n",
       "      <th>1</th>\n",
       "      <td>1</td>\n",
       "      <td>1</td>\n",
       "      <td>3321</td>\n",
       "      <td>16</td>\n",
       "      <td>While Bill Clinton has a million little plans ...</td>\n",
       "      <td>rep</td>\n",
       "      <td>1996</td>\n",
       "      <td>True</td>\n",
       "      <td>randomly</td>\n",
       "      <td>not populist</td>\n",
       "      <td>3321_16</td>\n",
       "      <td>neither</td>\n",
       "    </tr>\n",
       "    <tr>\n",
       "      <th>2</th>\n",
       "      <td>2</td>\n",
       "      <td>2</td>\n",
       "      <td>2008-10-18-louis-missouri-3</td>\n",
       "      <td>11</td>\n",
       "      <td>The only \"\"welfare\"\" in this campaign is John ...</td>\n",
       "      <td>dem</td>\n",
       "      <td>2008</td>\n",
       "      <td>False</td>\n",
       "      <td>randomly</td>\n",
       "      <td>not populist</td>\n",
       "      <td>2008-10-18-louis-missouri-3_11</td>\n",
       "      <td>neither</td>\n",
       "    </tr>\n",
       "    <tr>\n",
       "      <th>3</th>\n",
       "      <td>3</td>\n",
       "      <td>3</td>\n",
       "      <td>2646</td>\n",
       "      <td>12</td>\n",
       "      <td>I do promise that in the next four years the n...</td>\n",
       "      <td>rep</td>\n",
       "      <td>1980</td>\n",
       "      <td>True</td>\n",
       "      <td>randomly</td>\n",
       "      <td>not populist</td>\n",
       "      <td>2646_12</td>\n",
       "      <td>neither</td>\n",
       "    </tr>\n",
       "    <tr>\n",
       "      <th>4</th>\n",
       "      <td>4</td>\n",
       "      <td>4</td>\n",
       "      <td>2204</td>\n",
       "      <td>27</td>\n",
       "      <td>So, my friends, in this whole field of peace, ...</td>\n",
       "      <td>rep</td>\n",
       "      <td>1968</td>\n",
       "      <td>False</td>\n",
       "      <td>randomly</td>\n",
       "      <td>not populist</td>\n",
       "      <td>2204_27</td>\n",
       "      <td>neither</td>\n",
       "    </tr>\n",
       "    <tr>\n",
       "      <th>...</th>\n",
       "      <td>...</td>\n",
       "      <td>...</td>\n",
       "      <td>...</td>\n",
       "      <td>...</td>\n",
       "      <td>...</td>\n",
       "      <td>...</td>\n",
       "      <td>...</td>\n",
       "      <td>...</td>\n",
       "      <td>...</td>\n",
       "      <td>...</td>\n",
       "      <td>...</td>\n",
       "      <td>...</td>\n",
       "    </tr>\n",
       "    <tr>\n",
       "      <th>495</th>\n",
       "      <td>495</td>\n",
       "      <td>495</td>\n",
       "      <td>2016-11-03-raleigh-north-carolina</td>\n",
       "      <td>29</td>\n",
       "      <td>And I think it's fair to say that my opponent ...</td>\n",
       "      <td>dem</td>\n",
       "      <td>2016</td>\n",
       "      <td>False</td>\n",
       "      <td>randomly</td>\n",
       "      <td>not populist</td>\n",
       "      <td>2016-11-03-raleigh-north-carolina_29</td>\n",
       "      <td>inclusive</td>\n",
       "    </tr>\n",
       "    <tr>\n",
       "      <th>496</th>\n",
       "      <td>496</td>\n",
       "      <td>496</td>\n",
       "      <td>1968</td>\n",
       "      <td>23</td>\n",
       "      <td>Tonight we have 72.5 million people working. T...</td>\n",
       "      <td>dem</td>\n",
       "      <td>1964</td>\n",
       "      <td>False</td>\n",
       "      <td>randomly</td>\n",
       "      <td>not populist</td>\n",
       "      <td>1968_23</td>\n",
       "      <td>neither</td>\n",
       "    </tr>\n",
       "    <tr>\n",
       "      <th>497</th>\n",
       "      <td>497</td>\n",
       "      <td>497</td>\n",
       "      <td>3110</td>\n",
       "      <td>5</td>\n",
       "      <td>Now, today's been a wonderful day for Barbara ...</td>\n",
       "      <td>rep</td>\n",
       "      <td>1992</td>\n",
       "      <td>True</td>\n",
       "      <td>randomly</td>\n",
       "      <td>not populist</td>\n",
       "      <td>3110_5</td>\n",
       "      <td>neither</td>\n",
       "    </tr>\n",
       "    <tr>\n",
       "      <th>498</th>\n",
       "      <td>498</td>\n",
       "      <td>498</td>\n",
       "      <td>2137</td>\n",
       "      <td>1</td>\n",
       "      <td>That seems to me to be the great issue, and I ...</td>\n",
       "      <td>dem</td>\n",
       "      <td>1968</td>\n",
       "      <td>True</td>\n",
       "      <td>randomly</td>\n",
       "      <td>not populist</td>\n",
       "      <td>2137_1</td>\n",
       "      <td>neither</td>\n",
       "    </tr>\n",
       "    <tr>\n",
       "      <th>499</th>\n",
       "      <td>499</td>\n",
       "      <td>499</td>\n",
       "      <td>2638</td>\n",
       "      <td>27</td>\n",
       "      <td>There is the status of Jerusalem which is part...</td>\n",
       "      <td>rep</td>\n",
       "      <td>1980</td>\n",
       "      <td>True</td>\n",
       "      <td>randomly</td>\n",
       "      <td>not populist</td>\n",
       "      <td>2638_27</td>\n",
       "      <td>neither</td>\n",
       "    </tr>\n",
       "  </tbody>\n",
       "</table>\n",
       "<p>500 rows × 12 columns</p>\n",
       "</div>"
      ],
      "text/plain": [
       "     Unnamed: 0  Unnamed: 0.1                          Speech_id  par_id  \\\n",
       "0             0             0                               2157      31   \n",
       "1             1             1                               3321      16   \n",
       "2             2             2        2008-10-18-louis-missouri-3      11   \n",
       "3             3             3                               2646      12   \n",
       "4             4             4                               2204      27   \n",
       "..          ...           ...                                ...     ...   \n",
       "495         495           495  2016-11-03-raleigh-north-carolina      29   \n",
       "496         496           496                               1968      23   \n",
       "497         497           497                               3110       5   \n",
       "498         498           498                               2137       1   \n",
       "499         499           499                               2638      27   \n",
       "\n",
       "                                                  text party  term   comp  \\\n",
       "0    America's response to the Soviet Union against...   rep  1968  False   \n",
       "1    While Bill Clinton has a million little plans ...   rep  1996   True   \n",
       "2    The only \"\"welfare\"\" in this campaign is John ...   dem  2008  False   \n",
       "3    I do promise that in the next four years the n...   rep  1980   True   \n",
       "4    So, my friends, in this whole field of peace, ...   rep  1968  False   \n",
       "..                                                 ...   ...   ...    ...   \n",
       "495  And I think it's fair to say that my opponent ...   dem  2016  False   \n",
       "496  Tonight we have 72.5 million people working. T...   dem  1964  False   \n",
       "497  Now, today's been a wonderful day for Barbara ...   rep  1992   True   \n",
       "498  That seems to me to be the great issue, and I ...   dem  1968   True   \n",
       "499  There is the status of Jerusalem which is part...   rep  1980   True   \n",
       "\n",
       "        drawn        label2                               uniq_id      label  \n",
       "0    randomly  not populist                               2157_31    neither  \n",
       "1    randomly  not populist                               3321_16    neither  \n",
       "2    randomly  not populist        2008-10-18-louis-missouri-3_11    neither  \n",
       "3    randomly  not populist                               2646_12    neither  \n",
       "4    randomly  not populist                               2204_27    neither  \n",
       "..        ...           ...                                   ...        ...  \n",
       "495  randomly  not populist  2016-11-03-raleigh-north-carolina_29  inclusive  \n",
       "496  randomly  not populist                               1968_23    neither  \n",
       "497  randomly  not populist                                3110_5    neither  \n",
       "498  randomly  not populist                                2137_1    neither  \n",
       "499  randomly  not populist                               2638_27    neither  \n",
       "\n",
       "[500 rows x 12 columns]"
      ]
     },
     "execution_count": 73,
     "metadata": {},
     "output_type": "execute_result"
    }
   ],
   "source": [
    "merged = train.merge(annotations[['uniq_id', 'label']], on = 'uniq_id')\n",
    "                     \n",
    "merged.drop_duplicates(subset =\"uniq_id\", \n",
    "                     keep = \"first\", inplace = True) \n",
    "\n",
    "merged"
   ]
  },
  {
   "cell_type": "code",
   "execution_count": 168,
   "metadata": {},
   "outputs": [],
   "source": [
    "bart_annot= pd.read_csv(\"Annotated_Iteration_2_sample_uncertainty_bart.csv\")\n",
    "all200 = pd.read_csv(\"Iteration_2_sample_uncertainty.csv\")\n",
    "speech_par_id = bart_annot['speech_par_id'].tolist()\n",
    "id200 = all200['speech_par_id'].tolist()\n",
    "l3 = [x for x in id200 if x not in speech_par_id]\n",
    "all200.loc[all200[\"speech_par_id\"].isin(l3)]"
   ]
  },
  {
   "cell_type": "code",
   "execution_count": 81,
   "metadata": {},
   "outputs": [
    {
     "data": {
      "text/plain": [
       "10"
      ]
     },
     "execution_count": 81,
     "metadata": {},
     "output_type": "execute_result"
    }
   ],
   "source": [
    "import numpy as np\n",
    "nat = pd.read_csv(\"inc_exc_nat_bart2.csv\")\n",
    "nat[\"agreement\"]= np.where((nat['bart_label'] == nat['yuchen_label']), 1, 0)\n",
    "len(nat[nat[\"agreement\"] == 0])"
   ]
  },
  {
   "cell_type": "code",
   "execution_count": 83,
   "metadata": {},
   "outputs": [],
   "source": [
    "nat.to_csv(\"inc_exc_bart2_crossannot_yuchen.csv\")"
   ]
  },
  {
   "cell_type": "code",
   "execution_count": null,
   "metadata": {},
   "outputs": [],
   "source": []
  }
 ],
 "metadata": {
  "kernelspec": {
   "display_name": "Python 3",
   "language": "python",
   "name": "python3"
  },
  "language_info": {
   "codemirror_mode": {
    "name": "ipython",
    "version": 3
   },
   "file_extension": ".py",
   "mimetype": "text/x-python",
   "name": "python",
   "nbconvert_exporter": "python",
   "pygments_lexer": "ipython3",
   "version": "3.7.6"
  }
 },
 "nbformat": 4,
 "nbformat_minor": 4
}
