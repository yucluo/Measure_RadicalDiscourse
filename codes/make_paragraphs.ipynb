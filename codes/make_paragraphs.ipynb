{
 "cells": [
  {
   "cell_type": "markdown",
   "metadata": {},
   "source": [
    "# Extract paragraphs, combine short paragraphs"
   ]
  },
  {
   "cell_type": "code",
   "execution_count": 32,
   "metadata": {},
   "outputs": [
    {
     "name": "stderr",
     "output_type": "stream",
     "text": [
      "[nltk_data] Downloading package punkt to /Users/yuchenluo/nltk_data...\n",
      "[nltk_data]   Unzipping tokenizers/punkt.zip.\n"
     ]
    },
    {
     "data": {
      "text/plain": [
       "True"
      ]
     },
     "execution_count": 32,
     "metadata": {},
     "output_type": "execute_result"
    }
   ],
   "source": [
    "import re\n",
    "import os\n",
    "import csv\n",
    "import nltk\n",
    "nltk.download('punkt')"
   ]
  },
  {
   "cell_type": "code",
   "execution_count": 141,
   "metadata": {},
   "outputs": [],
   "source": [
    "col_names = [\"text\",\"candidate\", \"term\", \"title\", \"comp\"]\n",
    "rows = []\n",
    "for root, dirs, files, in os.walk('/Users/yuchenluo/Desktop/Measure_RadicalDiscourse'):\n",
    "    for file in files:\n",
    "        if file.endswith('txt'):\n",
    "            speech = open(os.path.join(root, file), \"r\").read()\n",
    "            #speech = f.read()\n",
    "            #get meta data of the speech\n",
    "            cand = re.sub(\"-speech.*\", \"\", file)\n",
    "            term = re.search(\"speech-(.*)-\", file).group(1)[0:4]\n",
    "            title = re.search(\"speech-(.*).txt\", file).group(1)\n",
    "            pars = speech.split('\\n')\n",
    "            pars = [i for i in pars if i] #remove empty strings\n",
    "            pars = [re.sub(\" \\[[^()]*\\]\", \"\", par) for par in pars] #remove strings inside brackets\n",
    "            # loop through all paragraphs inside each speech \n",
    "            i = 0    \n",
    "            while i < (len(pars) - 1):\n",
    "                n_sent = len(tokenize.sent_tokenize(pars[i]))\n",
    "                if n_sent >2:\n",
    "                    row = [pars[i], cand, term, title, False]\n",
    "                    rows.append(row)\n",
    "                    i += 1\n",
    "                elif i < len(pars) - 1:\n",
    "                    row = [pars[i] + \" \" + pars[i +1], cand, term, title, True]\n",
    "                    i += 2\n",
    "                    if len(tokenize.sent_tokenize(row[0])) < 3 and i < len(pars) - 1:\n",
    "                        row_2 = [row[0] + \" \" + pars[i], cand, term, title, True]\n",
    "                        i += 1\n",
    "                        rows.append(row_2)\n",
    "                    else: \n",
    "                        rows.append(row)\n",
    "                else: \n",
    "                    row = [pars[i - 1] + \" \" + pars[i], cand, term, title, True]\n",
    "                    rows.pop()\n",
    "                    rows.append(row)\n",
    "                            \n",
    "                                \n",
    "                            \n",
    "                \n",
    "    "
   ]
  },
  {
   "cell_type": "code",
   "execution_count": 146,
   "metadata": {},
   "outputs": [
    {
     "data": {
      "text/plain": [
       "[['We meet here at a time of great uncertainty for America. The era of greed and irresponsibility on Wall Street and in Washington has led us to a financial crisis as serious as any we have faced since the Great Depression. They said they wanted to let the market run free but they let it run wild, and they trampled our American values of fairness, balance, and responsibility to one another. Now, because of speculators who gamed the system and regulators who looked the other way, your jobs, your life savings, and the stability of our entire economy are at risk.',\n",
       "  'obama',\n",
       "  '2008',\n",
       "  '2008-09-29-remarks-westminster-colorado',\n",
       "  False],\n",
       " [\"We have been left with no good options. And today, Democrats and Republicans in Washington have agreed on an emergency rescue plan that is our best and only way to prevent an economic catastrophe. It's a plan that's improved a good deal over the last week. This Administration started off by asking for a blank check to solve this problem. I said absolutely not. I said it was unacceptable to expect the American people to hand this Administration or any Administration a $700 billion check with no conditions and no oversight when a lack of oversight in Washington and on Wall Street is exactly what got us into this mess. If the American people are being asked to help solve this crisis, then you have a right to make sure that your tax dollars are protected.\",\n",
       "  'obama',\n",
       "  '2008',\n",
       "  '2008-09-29-remarks-westminster-colorado',\n",
       "  True],\n",
       " ['And so I laid out a few a conditions for Washington. I said we needed an independent board to provide oversight and accountability for how and where this money is spent at every step of the way. I said that if American taxpayers are financing this solution, then you should be treated like investors – you should get every penny of your tax dollars back once this economy recovers, and Wall Street should foot the bill.',\n",
       "  'obama',\n",
       "  '2008',\n",
       "  '2008-09-29-remarks-westminster-colorado',\n",
       "  True],\n",
       " ['I said that we cannot and will not simply bailout Wall Street without helping the millions of innocent homeowners who are struggling to stay in their homes. They deserve a plan too. And finally, I said that I would not allow this plan to become a welfare program for the Wall Street executives whose greed and irresponsibility got us into this mess.',\n",
       "  'obama',\n",
       "  '2008',\n",
       "  '2008-09-29-remarks-westminster-colorado',\n",
       "  True],\n",
       " [\"Thanks to the hard work of Democrats and Republicans, the proposal we have today includes these taxpayer protections. And if I am President, I will review the entire plan on the day I take office to make sure that it is working to save our economy and that you get your money back. But let me be absolutely clear about one thing. At a time like this – a time when 600,000 workers have lost their jobs since January; when home values are falling and paychecks are flat; when it's never been harder to save or retire; to buy gas or groceries; at a time when Americans are working so much harder for so much less, the fact that you are being called upon to help clean up Wall Street's mess is an outrage. It is an outrage that we're spending this money when we could be investing in affordable health care, or renewable energy, or better schools for our children. It is an outrage that we are in this mess and we are here to make sure that it never happens again.\",\n",
       "  'obama',\n",
       "  '2008',\n",
       "  '2008-09-29-remarks-westminster-colorado',\n",
       "  True],\n",
       " [\"We did not arrive at this moment by some accident of history. This was not a normal part of the business cycle. This was not just a few bad apples on Wall Street. This crisis is a direct result of a philosophy that the folks running Washington have been following for decades. It's a philosophy that says we should give more and more to those with the most and hope that prosperity trickles down to everyone else; a philosophy that says even common-sense regulations are unnecessary and unwise; a philosophy that lets lobbyists shred consumer protections and put the needs of special interests ahead of working people. And what we have seen over the last few weeks is the final verdict on this failed philosophy. It is time to turn the page.\",\n",
       "  'obama',\n",
       "  '2008',\n",
       "  '2008-09-29-remarks-westminster-colorado',\n",
       "  False],\n",
       " [\"That is the choice in this election. Because Senator McCain has followed this philosophy for twenty-six years in Washington and now he's running to give us another four. He's fought against common-sense regulations for decades, he's called for less regulation twenty times just this year, and he said in a recent interview that he thought de-regulation has actually helped grow our economy. Senator, what economy are you talking about?\",\n",
       "  'obama',\n",
       "  '2008',\n",
       "  '2008-09-29-remarks-westminster-colorado',\n",
       "  False],\n",
       " [\"At a time when we're putting hundreds of billions of taxpayer dollars on the line, Senator McCain still wants to spend $200 billion on tax breaks for the biggest corporations in America. He wants to give a $700,000 tax break to the average Fortune 500 CEO, but not one dime of relief to more than 100 million middle-class Americans. He likes to talk about how he'll take on the corporate lobbyists in Washington, but he put seven of them in charge of his campaign. And if you think those lobbyists are working day and night to elect my opponent just to put themselves out of business, well I've got a bridge to sell you up in Alaska.\",\n",
       "  'obama',\n",
       "  '2008',\n",
       "  '2008-09-29-remarks-westminster-colorado',\n",
       "  False],\n",
       " ['You see, Senator McCain just doesn\\'t get it – he doesn\\'t get that this crisis on Wall Street hit Main Street a long time ago. That\\'s why his first response to the greatest fiscal meltdown in generations was to say that the \"fundamentals of the economy are strong,\" and why he didn\\'t say the words \"middle-class\" once in an entire 90-minute debate. I read the other day that Senator McCain likes to gamble. He likes to roll those dice. And that\\'s ok. I enjoy a little friendly game of poker myself every now and then.',\n",
       "  'obama',\n",
       "  '2008',\n",
       "  '2008-09-29-remarks-westminster-colorado',\n",
       "  True],\n",
       " [\"But one thing I know is this – we can't afford to gamble on four more years of the same disastrous economic policies we've had for the last eight. I know that when Senator McCain says he wants to bring the same kind of deregulation to our health care system that he helped bring to our banking system – his words – well, that's a bet we can't afford. We can't afford to roll the dice by privatizing Social Security, and wagering the nest egg of millions of Americans on Wall Street. We can't afford to gamble on more of the same trickle down philosophy that showers tax breaks on big corporations and the wealthiest few. We've tried that. It doesn't work.\",\n",
       "  'obama',\n",
       "  '2008',\n",
       "  '2008-09-29-remarks-westminster-colorado',\n",
       "  True]]"
      ]
     },
     "execution_count": 146,
     "metadata": {},
     "output_type": "execute_result"
    }
   ],
   "source": [
    "rows[0:10]  #check data"
   ]
  },
  {
   "cell_type": "code",
   "execution_count": 152,
   "metadata": {},
   "outputs": [],
   "source": [
    "with open(\"paragraphs.csv\", 'w') as csvfile:\n",
    "    writer = csv.writer(csvfile)   \n",
    "    writer.writerow(col_names)\n",
    "    writer.writerows(rows)"
   ]
  },
  {
   "cell_type": "code",
   "execution_count": 151,
   "metadata": {},
   "outputs": [
    {
     "data": {
      "text/plain": [
       "[['We meet here at a time of great uncertainty for America. The era of greed and irresponsibility on Wall Street and in Washington has led us to a financial crisis as serious as any we have faced since the Great Depression. They said they wanted to let the market run free but they let it run wild, and they trampled our American values of fairness, balance, and responsibility to one another. Now, because of speculators who gamed the system and regulators who looked the other way, your jobs, your life savings, and the stability of our entire economy are at risk.',\n",
       "  'obama',\n",
       "  '2008',\n",
       "  '2008-09-29-remarks-westminster-colorado',\n",
       "  False],\n",
       " [\"We have been left with no good options. And today, Democrats and Republicans in Washington have agreed on an emergency rescue plan that is our best and only way to prevent an economic catastrophe. It's a plan that's improved a good deal over the last week. This Administration started off by asking for a blank check to solve this problem. I said absolutely not. I said it was unacceptable to expect the American people to hand this Administration or any Administration a $700 billion check with no conditions and no oversight when a lack of oversight in Washington and on Wall Street is exactly what got us into this mess. If the American people are being asked to help solve this crisis, then you have a right to make sure that your tax dollars are protected.\",\n",
       "  'obama',\n",
       "  '2008',\n",
       "  '2008-09-29-remarks-westminster-colorado',\n",
       "  True],\n",
       " ['And so I laid out a few a conditions for Washington. I said we needed an independent board to provide oversight and accountability for how and where this money is spent at every step of the way. I said that if American taxpayers are financing this solution, then you should be treated like investors – you should get every penny of your tax dollars back once this economy recovers, and Wall Street should foot the bill.',\n",
       "  'obama',\n",
       "  '2008',\n",
       "  '2008-09-29-remarks-westminster-colorado',\n",
       "  True],\n",
       " ['I said that we cannot and will not simply bailout Wall Street without helping the millions of innocent homeowners who are struggling to stay in their homes. They deserve a plan too. And finally, I said that I would not allow this plan to become a welfare program for the Wall Street executives whose greed and irresponsibility got us into this mess.',\n",
       "  'obama',\n",
       "  '2008',\n",
       "  '2008-09-29-remarks-westminster-colorado',\n",
       "  True],\n",
       " [\"Thanks to the hard work of Democrats and Republicans, the proposal we have today includes these taxpayer protections. And if I am President, I will review the entire plan on the day I take office to make sure that it is working to save our economy and that you get your money back. But let me be absolutely clear about one thing. At a time like this – a time when 600,000 workers have lost their jobs since January; when home values are falling and paychecks are flat; when it's never been harder to save or retire; to buy gas or groceries; at a time when Americans are working so much harder for so much less, the fact that you are being called upon to help clean up Wall Street's mess is an outrage. It is an outrage that we're spending this money when we could be investing in affordable health care, or renewable energy, or better schools for our children. It is an outrage that we are in this mess and we are here to make sure that it never happens again.\",\n",
       "  'obama',\n",
       "  '2008',\n",
       "  '2008-09-29-remarks-westminster-colorado',\n",
       "  True],\n",
       " [\"We did not arrive at this moment by some accident of history. This was not a normal part of the business cycle. This was not just a few bad apples on Wall Street. This crisis is a direct result of a philosophy that the folks running Washington have been following for decades. It's a philosophy that says we should give more and more to those with the most and hope that prosperity trickles down to everyone else; a philosophy that says even common-sense regulations are unnecessary and unwise; a philosophy that lets lobbyists shred consumer protections and put the needs of special interests ahead of working people. And what we have seen over the last few weeks is the final verdict on this failed philosophy. It is time to turn the page.\",\n",
       "  'obama',\n",
       "  '2008',\n",
       "  '2008-09-29-remarks-westminster-colorado',\n",
       "  False],\n",
       " [\"That is the choice in this election. Because Senator McCain has followed this philosophy for twenty-six years in Washington and now he's running to give us another four. He's fought against common-sense regulations for decades, he's called for less regulation twenty times just this year, and he said in a recent interview that he thought de-regulation has actually helped grow our economy. Senator, what economy are you talking about?\",\n",
       "  'obama',\n",
       "  '2008',\n",
       "  '2008-09-29-remarks-westminster-colorado',\n",
       "  False],\n",
       " [\"At a time when we're putting hundreds of billions of taxpayer dollars on the line, Senator McCain still wants to spend $200 billion on tax breaks for the biggest corporations in America. He wants to give a $700,000 tax break to the average Fortune 500 CEO, but not one dime of relief to more than 100 million middle-class Americans. He likes to talk about how he'll take on the corporate lobbyists in Washington, but he put seven of them in charge of his campaign. And if you think those lobbyists are working day and night to elect my opponent just to put themselves out of business, well I've got a bridge to sell you up in Alaska.\",\n",
       "  'obama',\n",
       "  '2008',\n",
       "  '2008-09-29-remarks-westminster-colorado',\n",
       "  False],\n",
       " ['You see, Senator McCain just doesn\\'t get it – he doesn\\'t get that this crisis on Wall Street hit Main Street a long time ago. That\\'s why his first response to the greatest fiscal meltdown in generations was to say that the \"fundamentals of the economy are strong,\" and why he didn\\'t say the words \"middle-class\" once in an entire 90-minute debate. I read the other day that Senator McCain likes to gamble. He likes to roll those dice. And that\\'s ok. I enjoy a little friendly game of poker myself every now and then.',\n",
       "  'obama',\n",
       "  '2008',\n",
       "  '2008-09-29-remarks-westminster-colorado',\n",
       "  True],\n",
       " [\"But one thing I know is this – we can't afford to gamble on four more years of the same disastrous economic policies we've had for the last eight. I know that when Senator McCain says he wants to bring the same kind of deregulation to our health care system that he helped bring to our banking system – his words – well, that's a bet we can't afford. We can't afford to roll the dice by privatizing Social Security, and wagering the nest egg of millions of Americans on Wall Street. We can't afford to gamble on more of the same trickle down philosophy that showers tax breaks on big corporations and the wealthiest few. We've tried that. It doesn't work.\",\n",
       "  'obama',\n",
       "  '2008',\n",
       "  '2008-09-29-remarks-westminster-colorado',\n",
       "  True]]"
      ]
     },
     "execution_count": 151,
     "metadata": {},
     "output_type": "execute_result"
    }
   ],
   "source": [
    "rows[0:10]"
   ]
  },
  {
   "cell_type": "code",
   "execution_count": 148,
   "metadata": {
    "scrolled": false
   },
   "outputs": [
    {
     "data": {
      "text/plain": [
       "21178"
      ]
     },
     "execution_count": 148,
     "metadata": {},
     "output_type": "execute_result"
    }
   ],
   "source": [
    "len(rows)"
   ]
  },
  {
   "cell_type": "code",
   "execution_count": 88,
   "metadata": {},
   "outputs": [
    {
     "data": {
      "text/plain": [
       "[' To Chairman Dean and my great friend Dick Durbin; and to all my fellow citizens of this great nation; With profound gratitude and great humility, I accept your nomination for the presidency of the United States.']"
      ]
     },
     "execution_count": 88,
     "metadata": {},
     "output_type": "execute_result"
    }
   ],
   "source": [
    "tokenize.sent_tokenize(' To Chairman Dean and my great friend Dick Durbin; and to all my fellow citizens of this great nation; With profound gratitude and great humility, I accept your nomination for the presidency of the United States.')"
   ]
  },
  {
   "cell_type": "code",
   "execution_count": null,
   "metadata": {},
   "outputs": [],
   "source": []
  }
 ],
 "metadata": {
  "kernelspec": {
   "display_name": "Python 3",
   "language": "python",
   "name": "python3"
  },
  "language_info": {
   "codemirror_mode": {
    "name": "ipython",
    "version": 3
   },
   "file_extension": ".py",
   "mimetype": "text/x-python",
   "name": "python",
   "nbconvert_exporter": "python",
   "pygments_lexer": "ipython3",
   "version": "3.7.6"
  }
 },
 "nbformat": 4,
 "nbformat_minor": 4
}
